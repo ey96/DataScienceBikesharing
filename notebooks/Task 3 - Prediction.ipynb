{
 "cells": [
  {
   "cell_type": "markdown",
   "metadata": {},
   "source": [
    "## K-Means++ \n",
    "\n",
    "### Handle latitude/longitude in predictions \n"
   ]
  },
  {
   "cell_type": "code",
   "execution_count": 1,
   "metadata": {},
   "outputs": [
    {
     "name": "stdout",
     "output_type": "stream",
     "text": []
    }
   ],
   "source": [
    "from nextbike.io import input, output\n",
    "from nextbike.model.utils import prepare_data\n",
    "from nextbike.model.clustering import cluster\n",
    "from nextbike.model.classification import logistic_regression\n",
    "from nextbike.model.regression import polynomial_regression, linear_regression, support_vector_regression\n",
    "from nextbike.model.ensemble import random_forest\n",
    "\n",
    "\n",
    "from nextbike.model.classification.logistic_regression import dic\n",
    "from nextbike.model.ensemble.random_forest import dic\n",
    "from nextbike.model.regression.polynomial_regression import dic\n",
    "from nextbike.model.regression.support_vector_regression import dic\n",
    "from nextbike.model.regression.parameters import model_dic\n",
    "\n",
    "\n",
    "import matplotlib.pyplot as plt\n",
    "import seaborn as sns\n",
    "import numpy as np\n",
    "import pandas as pd\n",
    "\n",
    "\n",
    "from sklearn.cluster import KMeans"
   ]
  },
  {
   "cell_type": "code",
   "execution_count": 2,
   "metadata": {},
   "outputs": [
    {
     "name": "stdout",
     "output_type": "stream",
     "text": []
    }
   ],
   "source": [
    "# read in the trip data \n",
    "df_final = input.read_csv(loc='processed', name = \"dortmund_trips.csv\", index_col=0)"
   ]
  },
  {
   "cell_type": "code",
   "execution_count": null,
   "metadata": {},
   "outputs": [],
   "source": [
    "# scatterplot for starting positions of trips \n",
    "sns.scatterplot(x=\"latitude_start\", y = \"longitude_start\", data=df_final)\n",
    "plt.title(\"Starting position - Scatterplot\")\n",
    "plt.show()"
   ]
  },
  {
   "cell_type": "code",
   "execution_count": null,
   "metadata": {},
   "outputs": [],
   "source": [
    "cluster_value = cluster.elbow_method(df_final)"
   ]
  },
  {
   "cell_type": "code",
   "execution_count": null,
   "metadata": {},
   "outputs": [],
   "source": [
    "cluster_value[\"X_scaled\"]"
   ]
  },
  {
   "cell_type": "code",
   "execution_count": null,
   "metadata": {},
   "outputs": [],
   "source": [
    "# due to the elbow method number of clusters are set to 4 \n",
    "km = KMeans(n_clusters = 4)\n",
    "km.fit(cluster_value[\"X_scaled\"])\n",
    "df_final[\"area_start\"] = km.predict(cluster_value['X_scaled'])+1\n",
    "\n",
    "sns.scatterplot(x=\"latitude_start\", y=\"longitude_start\", data=df_final, hue=\"area_start\", palette=\"cool\")\n",
    "plt.title(\"Start positions clusterd to areas\")\n",
    "plt.show()"
   ]
  },
  {
   "cell_type": "markdown",
   "metadata": {},
   "source": [
    "We get the start positions of the trips summed up to four different areas in the city (North-West, South-West, City-Center and North-East). \n",
    "This feature could be very useful for the predictions in task 3. "
   ]
  },
  {
   "cell_type": "code",
   "execution_count": null,
   "metadata": {},
   "outputs": [],
   "source": [
    "output.write_trip_data(df_final)"
   ]
  },
  {
   "cell_type": "markdown",
   "metadata": {},
   "source": [
    "## Task 3a"
   ]
  },
  {
   "cell_type": "markdown",
   "metadata": {},
   "source": [
    "### Task 3.1 Linear Models"
   ]
  },
  {
   "cell_type": "code",
   "execution_count": null,
   "metadata": {},
   "outputs": [],
   "source": [
    "df_final.describe()[[\"trip_duration\"]]"
   ]
  },
  {
   "cell_type": "code",
   "execution_count": null,
   "metadata": {},
   "outputs": [],
   "source": [
    "# which features correlate with trip_duration?\n",
    "df_final.corr()[[\"trip_duration\"]]"
   ]
  },
  {
   "cell_type": "code",
   "execution_count": null,
   "metadata": {},
   "outputs": [],
   "source": [
    "plt.figure(figsize=(15,12))\n",
    "sns.heatmap(df_final.corr(),cmap=\"Reds\")\n",
    "plt.yticks(fontsize=12)\n",
    "plt.xticks(fontsize=12)\n",
    "plt.title(\"Correlation Matrix\", fontsize=16)\n",
    "plt.tight_layout()\n",
    "plt.savefig(\"../doc/figures/CorrelationMatrix.png\")\n",
    "plt.show()"
   ]
  },
  {
   "cell_type": "code",
   "execution_count": null,
   "metadata": {},
   "outputs": [],
   "source": [
    "init = linear_regression.__init__(df_final)"
   ]
  },
  {
   "cell_type": "markdown",
   "metadata": {},
   "source": [
    "#### Linear Regression"
   ]
  },
  {
   "cell_type": "code",
   "execution_count": null,
   "metadata": {},
   "outputs": [],
   "source": [
    "linear_regression.train(model = 'Linear', init=init)"
   ]
  },
  {
   "cell_type": "markdown",
   "metadata": {},
   "source": [
    "#### Lasso Regression"
   ]
  },
  {
   "cell_type": "code",
   "execution_count": null,
   "metadata": {},
   "outputs": [],
   "source": [
    "linear_regression.train(model = 'Lasso', init=init)"
   ]
  },
  {
   "cell_type": "markdown",
   "metadata": {},
   "source": [
    "#### Ridge Regression "
   ]
  },
  {
   "cell_type": "code",
   "execution_count": null,
   "metadata": {},
   "outputs": [],
   "source": [
    "linear_regression.train(model=\"Ridge\", init=init)"
   ]
  },
  {
   "cell_type": "markdown",
   "metadata": {},
   "source": [
    "#### Compare results Linear / Lasso / Ridge"
   ]
  },
  {
   "cell_type": "code",
   "execution_count": null,
   "metadata": {},
   "outputs": [],
   "source": [
    "linear_regression.compare_regression_models(init)"
   ]
  },
  {
   "cell_type": "markdown",
   "metadata": {},
   "source": [
    "### Grid Search\n",
    "#### Parameter Tuning for Ridge and Lasso Regression "
   ]
  },
  {
   "cell_type": "code",
   "execution_count": null,
   "metadata": {},
   "outputs": [],
   "source": [
    "df_results = linear_regression.calculate_hyper_parameters(init)"
   ]
  },
  {
   "cell_type": "markdown",
   "metadata": {},
   "source": [
    "### Ridge with calculated values"
   ]
  },
  {
   "cell_type": "code",
   "execution_count": null,
   "metadata": {},
   "outputs": [],
   "source": [
    "linear_regression.model(model= \"Ridge\", alpha=4, max_iter=500, random_sate=0, fit_intercept=True, init= init)"
   ]
  },
  {
   "cell_type": "markdown",
   "metadata": {},
   "source": [
    "### Lasso with calculated values"
   ]
  },
  {
   "cell_type": "code",
   "execution_count": null,
   "metadata": {},
   "outputs": [],
   "source": [
    "linear_regression.model(model= \"Lasso\", alpha=0.001, max_iter=100, random_sate=0, fit_intercept=True, init= init)"
   ]
  },
  {
   "cell_type": "markdown",
   "metadata": {},
   "source": [
    "### Task 3.2 Polynominal Regression"
   ]
  },
  {
   "cell_type": "code",
   "execution_count": null,
   "metadata": {},
   "outputs": [],
   "source": [
    "from sklearn.linear_model import Lasso,Ridge, LinearRegression"
   ]
  },
  {
   "cell_type": "code",
   "execution_count": null,
   "metadata": {},
   "outputs": [],
   "source": [
    "init = polynomial_regression.__init__(df_final)"
   ]
  },
  {
   "cell_type": "code",
   "execution_count": null,
   "metadata": {},
   "outputs": [],
   "source": [
    "polynomial_regression.polynomial_reg(model_name= \"LinearRegression\", estimator = LinearRegression(), degree= 3, init= init)"
   ]
  },
  {
   "cell_type": "code",
   "execution_count": null,
   "metadata": {},
   "outputs": [],
   "source": [
    "polynomial_regression.polynomial_reg(model_name= \"LinearRegression\", estimator = LinearRegression(), degree= 4, init= init)"
   ]
  },
  {
   "cell_type": "code",
   "execution_count": null,
   "metadata": {},
   "outputs": [],
   "source": [
    "polynomial_regression.polynomial_reg(model_name= \"Ridge\", estimator= Ridge(), degree=3, init=init)"
   ]
  },
  {
   "cell_type": "code",
   "execution_count": null,
   "metadata": {},
   "outputs": [],
   "source": [
    "polynomial_regression.polynomial_reg(model_name= \"Ridge\",estimator=ator= Ridge(), degree=4, init= init)"
   ]
  },
  {
   "cell_type": "code",
   "execution_count": null,
   "metadata": {},
   "outputs": [],
   "source": [
    "# hyperparameters found with RandomizedSearch  --> see Task 3.5\n",
    "polynomial_regression.polynomial_reg(\"Ridge\", Ridge(solver=\"cholesky\", max_iter=40, fit_intercept=True, copy_X=False, alpha=50), degree=4)"
   ]
  },
  {
   "cell_type": "code",
   "execution_count": null,
   "metadata": {},
   "outputs": [],
   "source": [
    "polynomial_regression.polynomial_reg(\"Lasso\", Lasso(), 4)"
   ]
  },
  {
   "cell_type": "code",
   "execution_count": null,
   "metadata": {},
   "outputs": [],
   "source": [
    "polynomial_regression.polynomial_reg(\"Lasso\",Lasso(max_iter=40,fit_intercept=True, copy_X=False, alpha=50), 4)"
   ]
  },
  {
   "cell_type": "code",
   "execution_count": null,
   "metadata": {},
   "outputs": [],
   "source": [
    "pd.set_option('display.max_colwidth', -1)\n",
    "\n",
    "df_result = pd.DataFrame(polynomial_regression.dic)\n",
    "df_result"
   ]
  },
  {
   "cell_type": "markdown",
   "metadata": {},
   "source": [
    "### Task 3.3 Random Forest Regressor"
   ]
  },
  {
   "cell_type": "code",
   "execution_count": null,
   "metadata": {},
   "outputs": [],
   "source": [
    "from sklearn.ensemble import RandomForestRegressor"
   ]
  },
  {
   "cell_type": "code",
   "execution_count": null,
   "metadata": {},
   "outputs": [],
   "source": [
    "init = random_forest.__init__(df_final)"
   ]
  },
  {
   "cell_type": "code",
   "execution_count": null,
   "metadata": {},
   "outputs": [],
   "source": [
    "random_forest.rfr(init, RandomForestRegressor())"
   ]
  },
  {
   "cell_type": "markdown",
   "metadata": {},
   "source": [
    "--> Model is overfitted, due to the much better metrics for training data than for the test data "
   ]
  },
  {
   "cell_type": "code",
   "execution_count": null,
   "metadata": {},
   "outputs": [],
   "source": [
    "# set hyperparamters that decrease the complexity of the random forrest\n",
    "# avoid overfitting - reduce complexity of the model \n",
    "random_forest.rfr(init, RandomForestRegressor(n_estimators=50, max_depth=12, min_samples_split=2, min_samples_leaf=15))"
   ]
  },
  {
   "cell_type": "code",
   "execution_count": null,
   "metadata": {},
   "outputs": [],
   "source": [
    "random_forest.rfr(init, RandomForestRegressor(max_features=\"auto\",n_estimators=1155, max_depth=70, min_samples_split=10, min_samples_leaf=8,bootstrap=True))"
   ]
  },
  {
   "cell_type": "markdown",
   "metadata": {},
   "source": [
    "#### Using log of trip duration "
   ]
  },
  {
   "cell_type": "code",
   "execution_count": null,
   "metadata": {},
   "outputs": [],
   "source": [
    "init = random_forest.__init__(df_final, log=True)"
   ]
  },
  {
   "cell_type": "code",
   "execution_count": null,
   "metadata": {},
   "outputs": [],
   "source": [
    "rfr = random_forest.rfr(init, RandomForestRegressor())"
   ]
  },
  {
   "cell_type": "code",
   "execution_count": null,
   "metadata": {},
   "outputs": [],
   "source": [
    "rfr = random_forest.rfr(init, RandomForestRegressor(max_features=\"auto\",n_estimators=1155, max_depth=70, min_samples_split=10, min_samples_leaf=8,bootstrap=True))"
   ]
  },
  {
   "cell_type": "code",
   "execution_count": null,
   "metadata": {},
   "outputs": [],
   "source": [
    "# exp the predictions to get correct values \n",
    "# compare this with actual values \n",
    "random_forest.convert_log_to_exp(init, rfr)"
   ]
  },
  {
   "cell_type": "code",
   "execution_count": null,
   "metadata": {},
   "outputs": [],
   "source": [
    "f, axs = plt.subplots(1,1,figsize=(15,15))\n",
    "plt.scatter(init['y_test'],rfr['pred'])\n",
    "plt.ylabel(\"Predictions\",fontsize=18)\n",
    "plt.xlabel(\"Actual durations\", fontsize=18)\n",
    "plt.title(\"Predicted trip durations \\n Random Forrest and log of duration used\", fontsize=20)\n",
    "plt.show()"
   ]
  },
  {
   "cell_type": "code",
   "execution_count": null,
   "metadata": {},
   "outputs": [],
   "source": [
    "# summary of results \n",
    "df_results = pd.DataFrame(random_forest.dic)\n",
    "df_results"
   ]
  },
  {
   "cell_type": "markdown",
   "metadata": {},
   "source": [
    "### Task 3.4 Support Vector Regressor"
   ]
  },
  {
   "cell_type": "code",
   "execution_count": 7,
   "metadata": {},
   "outputs": [],
   "source": [
    "from sklearn.svm import SVR"
   ]
  },
  {
   "cell_type": "code",
   "execution_count": 3,
   "metadata": {},
   "outputs": [],
   "source": [
    "init = support_vector_regression.__init__(df_final)"
   ]
  },
  {
   "cell_type": "code",
   "execution_count": 4,
   "metadata": {},
   "outputs": [],
   "source": [
    "df_final = df_final.sample(50000)"
   ]
  },
  {
   "cell_type": "code",
   "execution_count": 6,
   "metadata": {},
   "outputs": [
    {
     "data": {
      "text/plain": [
       "<matplotlib.axes._subplots.AxesSubplot at 0x11fecbed0>"
      ]
     },
     "execution_count": 6,
     "metadata": {},
     "output_type": "execute_result"
    },
    {
     "data": {
      "image/png": "[encoded data removed]",
      "text/plain": [
       "<Figure size 1440x720 with 2 Axes>"
      ]
     },
     "metadata": {
      "needs_background": "light"
     },
     "output_type": "display_data"
    }
   ],
   "source": [
    "plt.figure(figsize=(20,10))\n",
    "sns.heatmap(df_final.corr(),cmap=\"Greens\")"
   ]
  },
  {
   "cell_type": "code",
   "execution_count": null,
   "metadata": {},
   "outputs": [],
   "source": [
    "support_vector_regression.train(init=init, estimator=SVR())"
   ]
  },
  {
   "cell_type": "code",
   "execution_count": null,
   "metadata": {},
   "outputs": [],
   "source": [
    "support_vector_regression.train(init=init, estimator= SVR(epsilon=30,C=100,kernel=\"rbf\",gamma=\"auto\"))"
   ]
  },
  {
   "cell_type": "markdown",
   "metadata": {},
   "source": [
    "### Parameter Tuning "
   ]
  },
  {
   "cell_type": "code",
   "execution_count": null,
   "metadata": {},
   "outputs": [],
   "source": [
    "support_vector_regression.calculate_hyper_parameter(init)"
   ]
  },
  {
   "cell_type": "code",
   "execution_count": null,
   "metadata": {},
   "outputs": [],
   "source": [
    "support_vector_regression.train(init=init, estimator=SVR(kernel=\"poly\",C=40,epsilon=30,degree=1, gamma=\"auto\", verbose=True,max_iter=500))"
   ]
  },
  {
   "cell_type": "code",
   "execution_count": null,
   "metadata": {},
   "outputs": [],
   "source": [
    "pd.set_option(\"display.max_colwidth\",-1)\n",
    "df_results = pd.DataFrame(support_vector_regression.dic)\n",
    "df_results"
   ]
  },
  {
   "cell_type": "markdown",
   "metadata": {},
   "source": [
    "### Task 3.5 Polynomial Regression - RandomizedSearch"
   ]
  },
  {
   "cell_type": "code",
   "execution_count": null,
   "metadata": {},
   "outputs": [],
   "source": [
    "init = polynomial_regression.__init__(df_final)"
   ]
  },
  {
   "cell_type": "code",
   "execution_count": null,
   "metadata": {},
   "outputs": [],
   "source": [
    "polynomial_regression.calculate_hyper_parameters(init)"
   ]
  },
  {
   "cell_type": "markdown",
   "metadata": {},
   "source": [
    "## Task 3b"
   ]
  },
  {
   "cell_type": "code",
   "execution_count": 3,
   "metadata": {},
   "outputs": [
    {
     "name": "stdout",
     "output_type": "stream",
     "text": []
    }
   ],
   "source": [
    "from sklearn import linear_model"
   ]
  },
  {
   "cell_type": "code",
   "execution_count": 4,
   "metadata": {},
   "outputs": [
    {
     "name": "stdout",
     "output_type": "stream",
     "text": []
    }
   ],
   "source": [
    "init = logistic_regression.__init__(df_final)"
   ]
  },
  {
   "cell_type": "markdown",
   "metadata": {},
   "source": [
    "## LogisticRegression"
   ]
  },
  {
   "cell_type": "markdown",
   "metadata": {},
   "source": [
    "### Binary Logistic Regression"
   ]
  },
  {
   "cell_type": "code",
   "execution_count": 5,
   "metadata": {},
   "outputs": [
    {
     "name": "stdout",
     "output_type": "stream",
     "text": [
      "              precision    recall  f1-score   support\n",
      "\n",
      "           0       0.91      1.00      0.96     56903\n",
      "           1       0.00      0.00      0.00      5340\n",
      "\n",
      "    accuracy                           0.91     62243\n",
      "   macro avg       0.46      0.50      0.48     62243\n",
      "weighted avg       0.84      0.91      0.87     62243\n",
      "\n"
     ]
    }
   ],
   "source": [
    "# Binary Logistic Regression (awayFromUniversity) \n",
    "logistic_regression.explore(model='Binary', typ='away', df = df_final, mod=linear_model.LogisticRegression(), init= init)"
   ]
  },
  {
   "cell_type": "code",
   "execution_count": 6,
   "metadata": {},
   "outputs": [
    {
     "name": "stdout",
     "output_type": "stream",
     "text": [
      "              precision    recall  f1-score   support\n",
      "\n",
      "           0       0.92      1.00      0.96     57135\n",
      "           1       0.00      0.00      0.00      5108\n",
      "\n",
      "    accuracy                           0.92     62243\n",
      "   macro avg       0.46      0.50      0.48     62243\n",
      "weighted avg       0.84      0.92      0.88     62243\n",
      "\n"
     ]
    }
   ],
   "source": [
    "# Binary Logistic Regression (towardsFromUniversity) \n",
    "logistic_regression.explore(model='Binary', typ='towards', df = df_final, mod=linear_model.LogisticRegression(), init= init)"
   ]
  },
  {
   "cell_type": "markdown",
   "metadata": {},
   "source": [
    "### Multilinear Logistic Regression"
   ]
  },
  {
   "cell_type": "code",
   "execution_count": 7,
   "metadata": {},
   "outputs": [
    {
     "name": "stdout",
     "output_type": "stream",
     "text": [
      "                    precision    recall  f1-score   support\n",
      "\n",
      "awayFromUniversity       0.63      0.87      0.73      3110\n",
      "  noUniversityRide       0.96      0.98      0.97     53995\n",
      " towardsUniversity       0.47      0.22      0.30      5138\n",
      "\n",
      "          accuracy                           0.91     62243\n",
      "         macro avg       0.69      0.69      0.67     62243\n",
      "      weighted avg       0.90      0.91      0.90     62243\n",
      "\n"
     ]
    }
   ],
   "source": [
    "# Binary Logistic Regression (towardsFromUniversity) \n",
    "logistic_regression.explore(model='Multilinear', df = df_final, mod=linear_model.LogisticRegression(), init= init)"
   ]
  },
  {
   "cell_type": "markdown",
   "metadata": {},
   "source": [
    "## Optimize the Hyperparameters for (binary) LogisticRegression"
   ]
  },
  {
   "cell_type": "markdown",
   "metadata": {},
   "source": [
    "### These are the best parameters for logistic regression for the attribute awayFromUniversity"
   ]
  },
  {
   "cell_type": "code",
   "execution_count": null,
   "metadata": {},
   "outputs": [],
   "source": [
    "logistic_regression.optimize_hyperparameters(X,y_away)"
   ]
  },
  {
   "cell_type": "markdown",
   "metadata": {},
   "source": [
    "### These are the best parameters for logistic regression for the attribute towardsUniversity"
   ]
  },
  {
   "cell_type": "code",
   "execution_count": null,
   "metadata": {},
   "outputs": [],
   "source": [
    "logistic_regression.optimize_hyperparameters(X,y_away)"
   ]
  },
  {
   "cell_type": "markdown",
   "metadata": {},
   "source": [
    "### Performance of the models (with calculated hyperparamters)"
   ]
  },
  {
   "cell_type": "code",
   "execution_count": 8,
   "metadata": {},
   "outputs": [
    {
     "name": "stdout",
     "output_type": "stream",
     "text": [
      "              precision    recall  f1-score   support\n",
      "\n",
      "           0       0.92      1.00      0.96     57019\n",
      "           1       0.00      0.00      0.00      5224\n",
      "\n",
      "    accuracy                           0.92     62243\n",
      "   macro avg       0.46      0.50      0.48     62243\n",
      "weighted avg       0.84      0.92      0.88     62243\n",
      "\n"
     ]
    }
   ],
   "source": [
    "# Binary Logistic Regression (awayFromUniversity) \n",
    "logistic_regression.train(typ=\"away\", df = df_final, init=init)"
   ]
  },
  {
   "cell_type": "code",
   "execution_count": 9,
   "metadata": {},
   "outputs": [
    {
     "name": "stdout",
     "output_type": "stream",
     "text": [
      "              precision    recall  f1-score   support\n",
      "\n",
      "           0       0.92      1.00      0.96     57144\n",
      "           1       0.00      0.00      0.00      5099\n",
      "\n",
      "    accuracy                           0.92     62243\n",
      "   macro avg       0.46      0.50      0.48     62243\n",
      "weighted avg       0.84      0.92      0.88     62243\n",
      "\n"
     ]
    }
   ],
   "source": [
    "# Binary Logistic Regression (towardsUniversity) \n",
    "logistic_regression.train(typ=\"towards\", df = df_final, init=init)"
   ]
  },
  {
   "cell_type": "code",
   "execution_count": 10,
   "metadata": {},
   "outputs": [
    {
     "data": {
      "text/html": [
       "<div>\n",
       "<style scoped>\n",
       "    .dataframe tbody tr th:only-of-type {\n",
       "        vertical-align: middle;\n",
       "    }\n",
       "\n",
       "    .dataframe tbody tr th {\n",
       "        vertical-align: top;\n",
       "    }\n",
       "\n",
       "    .dataframe thead th {\n",
       "        text-align: right;\n",
       "    }\n",
       "</style>\n",
       "<table border=\"1\" class=\"dataframe\">\n",
       "  <thead>\n",
       "    <tr style=\"text-align: right;\">\n",
       "      <th></th>\n",
       "      <th>algorithm</th>\n",
       "      <th>precision</th>\n",
       "      <th>recall</th>\n",
       "      <th>f1score</th>\n",
       "      <th>support</th>\n",
       "      <th>exetime</th>\n",
       "      <th>desc</th>\n",
       "    </tr>\n",
       "  </thead>\n",
       "  <tbody>\n",
       "    <tr>\n",
       "      <th>0</th>\n",
       "      <td>Binary Logistic Regression</td>\n",
       "      <td>0.835775</td>\n",
       "      <td>0.914207</td>\n",
       "      <td>0.873233</td>\n",
       "      <td>None</td>\n",
       "      <td>0.187791</td>\n",
       "      <td>Predicts awayFromUniversity (is complementary ...</td>\n",
       "    </tr>\n",
       "    <tr>\n",
       "      <th>1</th>\n",
       "      <td>Binary Logistic Regression</td>\n",
       "      <td>0.842604</td>\n",
       "      <td>0.917935</td>\n",
       "      <td>0.878658</td>\n",
       "      <td>None</td>\n",
       "      <td>0.190612</td>\n",
       "      <td>Predicts awayFromUniversity (is complementary ...</td>\n",
       "    </tr>\n",
       "    <tr>\n",
       "      <th>2</th>\n",
       "      <td>Multinomial Logistic Regression</td>\n",
       "      <td>0.899293</td>\n",
       "      <td>0.914641</td>\n",
       "      <td>0.902217</td>\n",
       "      <td>None</td>\n",
       "      <td>6.884966</td>\n",
       "      <td>Predicts tripLabel</td>\n",
       "    </tr>\n",
       "    <tr>\n",
       "      <th>3</th>\n",
       "      <td>Binary Logistic Regression</td>\n",
       "      <td>0.839186</td>\n",
       "      <td>0.916071</td>\n",
       "      <td>0.875944</td>\n",
       "      <td>None</td>\n",
       "      <td>0.107771</td>\n",
       "      <td>Optimized hyper-parameters of model in index 0</td>\n",
       "    </tr>\n",
       "    <tr>\n",
       "      <th>4</th>\n",
       "      <td>Binary Logistic Regression</td>\n",
       "      <td>0.842869</td>\n",
       "      <td>0.918079</td>\n",
       "      <td>0.878868</td>\n",
       "      <td>None</td>\n",
       "      <td>0.123471</td>\n",
       "      <td>Optimized hyperparameters of model in index 1</td>\n",
       "    </tr>\n",
       "  </tbody>\n",
       "</table>\n",
       "</div>"
      ],
      "text/plain": [
       "                         algorithm  precision    recall   f1score support  \\\n",
       "0       Binary Logistic Regression   0.835775  0.914207  0.873233    None   \n",
       "1       Binary Logistic Regression   0.842604  0.917935  0.878658    None   \n",
       "2  Multinomial Logistic Regression   0.899293  0.914641  0.902217    None   \n",
       "3       Binary Logistic Regression   0.839186  0.916071  0.875944    None   \n",
       "4       Binary Logistic Regression   0.842869  0.918079  0.878868    None   \n",
       "\n",
       "    exetime                                               desc  \n",
       "0  0.187791  Predicts awayFromUniversity (is complementary ...  \n",
       "1  0.190612  Predicts awayFromUniversity (is complementary ...  \n",
       "2  6.884966                                 Predicts tripLabel  \n",
       "3  0.107771     Optimized hyper-parameters of model in index 0  \n",
       "4  0.123471      Optimized hyperparameters of model in index 1  "
      ]
     },
     "execution_count": 10,
     "metadata": {},
     "output_type": "execute_result"
    },
    {
     "name": "stdout",
     "output_type": "stream",
     "text": []
    }
   ],
   "source": [
    "df_result = pd.DataFrame(logistic_regression.dic)\n",
    "df_result"
   ]
  },
  {
   "cell_type": "markdown",
   "metadata": {},
   "source": [
    "## SVM"
   ]
  },
  {
   "cell_type": "code",
   "execution_count": null,
   "metadata": {},
   "outputs": [],
   "source": []
  }
 ],
 "metadata": {
  "kernelspec": {
   "display_name": "Python 3",
   "language": "python",
   "name": "python3"
  },
  "language_info": {
   "codemirror_mode": {
    "name": "ipython",
    "version": 3
   },
   "file_extension": ".py",
   "mimetype": "text/x-python",
   "name": "python",
   "nbconvert_exporter": "python",
   "pygments_lexer": "ipython3",
   "version": "3.7.6"
  }
 },
 "nbformat": 4,
 "nbformat_minor": 4
}
