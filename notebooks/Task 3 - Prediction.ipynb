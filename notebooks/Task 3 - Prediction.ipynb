{
 "cells": [
  {
   "cell_type": "code",
   "execution_count": 1,
   "metadata": {},
   "outputs": [],
   "source": [
    "import pandas as pd\n",
    "import numpy as np\n",
    "import matplotlib.pyplot as plt\n",
    "import seaborn as sns\n",
    "from sklearn.model_selection import train_test_split\n",
    "from sklearn.preprocessing import StandardScaler\n",
    "from sklearn.linear_model import LinearRegression\n",
    "from sklearn import metrics"
   ]
  },
  {
   "cell_type": "markdown",
   "metadata": {},
   "source": [
    "### a) Predict the journey duration. You may use any Start information in the data set. Also consider creating new features that may help prediction quality (Hint: In the coding week, we discussed creating polynomial features. How would you engineer features for periodic quantities with known period lengths, e.g, a day, a year, …?)."
   ]
  },
  {
   "cell_type": "code",
   "execution_count": 24,
   "metadata": {},
   "outputs": [],
   "source": [
    "data = pd.read_csv(\"../data/processed/dortmund_trips.csv\", index_col = 0)"
   ]
  },
  {
   "cell_type": "code",
   "execution_count": 25,
   "metadata": {},
   "outputs": [
    {
     "data": {
      "text/html": [
       "<div>\n",
       "<style scoped>\n",
       "    .dataframe tbody tr th:only-of-type {\n",
       "        vertical-align: middle;\n",
       "    }\n",
       "\n",
       "    .dataframe tbody tr th {\n",
       "        vertical-align: top;\n",
       "    }\n",
       "\n",
       "    .dataframe thead th {\n",
       "        text-align: right;\n",
       "    }\n",
       "</style>\n",
       "<table border=\"1\" class=\"dataframe\">\n",
       "  <thead>\n",
       "    <tr style=\"text-align: right;\">\n",
       "      <th></th>\n",
       "      <th>datetime_start</th>\n",
       "      <th>b_number_start</th>\n",
       "      <th>latitude_start</th>\n",
       "      <th>p_name_start</th>\n",
       "      <th>longitude_start</th>\n",
       "      <th>datetime_end</th>\n",
       "      <th>latitude_end</th>\n",
       "      <th>p_name_end</th>\n",
       "      <th>longitude_end</th>\n",
       "      <th>trip_duration</th>\n",
       "      <th>distance</th>\n",
       "      <th>weekday</th>\n",
       "      <th>weekend</th>\n",
       "      <th>day</th>\n",
       "      <th>month</th>\n",
       "      <th>hour</th>\n",
       "    </tr>\n",
       "  </thead>\n",
       "  <tbody>\n",
       "    <tr>\n",
       "      <th>0</th>\n",
       "      <td>2019-01-20 16:22:00</td>\n",
       "      <td>50641</td>\n",
       "      <td>51.506312</td>\n",
       "      <td>Hainallee / Südbad</td>\n",
       "      <td>7.470531</td>\n",
       "      <td>2019-01-20 17:00:00</td>\n",
       "      <td>51.493966</td>\n",
       "      <td>TU Dortmund Emil-Figge-Straße 50</td>\n",
       "      <td>7.418008</td>\n",
       "      <td>38</td>\n",
       "      <td>3.897290</td>\n",
       "      <td>6</td>\n",
       "      <td>True</td>\n",
       "      <td>20</td>\n",
       "      <td>1</td>\n",
       "      <td>16</td>\n",
       "    </tr>\n",
       "    <tr>\n",
       "      <th>1</th>\n",
       "      <td>2019-01-20 02:31:00</td>\n",
       "      <td>50425</td>\n",
       "      <td>51.517155</td>\n",
       "      <td>Hauptbahnhof/Bahnhofsvorplatz</td>\n",
       "      <td>7.459931</td>\n",
       "      <td>2019-01-20 02:43:00</td>\n",
       "      <td>51.513069</td>\n",
       "      <td>Unionstr.</td>\n",
       "      <td>7.448886</td>\n",
       "      <td>12</td>\n",
       "      <td>0.891383</td>\n",
       "      <td>6</td>\n",
       "      <td>True</td>\n",
       "      <td>20</td>\n",
       "      <td>1</td>\n",
       "      <td>2</td>\n",
       "    </tr>\n",
       "    <tr>\n",
       "      <th>2</th>\n",
       "      <td>2019-01-20 11:32:00</td>\n",
       "      <td>53006</td>\n",
       "      <td>51.509557</td>\n",
       "      <td>Ritterhausstr.</td>\n",
       "      <td>7.446949</td>\n",
       "      <td>2019-01-20 13:33:00</td>\n",
       "      <td>51.517155</td>\n",
       "      <td>Hauptbahnhof/Bahnhofsvorplatz</td>\n",
       "      <td>7.459931</td>\n",
       "      <td>121</td>\n",
       "      <td>1.235649</td>\n",
       "      <td>6</td>\n",
       "      <td>True</td>\n",
       "      <td>20</td>\n",
       "      <td>1</td>\n",
       "      <td>11</td>\n",
       "    </tr>\n",
       "    <tr>\n",
       "      <th>3</th>\n",
       "      <td>2019-01-20 14:38:00</td>\n",
       "      <td>53006</td>\n",
       "      <td>51.517155</td>\n",
       "      <td>Hauptbahnhof/Bahnhofsvorplatz</td>\n",
       "      <td>7.459931</td>\n",
       "      <td>2019-01-20 14:53:00</td>\n",
       "      <td>51.500725</td>\n",
       "      <td>Polizeipräsidium</td>\n",
       "      <td>7.459819</td>\n",
       "      <td>15</td>\n",
       "      <td>1.827997</td>\n",
       "      <td>6</td>\n",
       "      <td>True</td>\n",
       "      <td>20</td>\n",
       "      <td>1</td>\n",
       "      <td>14</td>\n",
       "    </tr>\n",
       "    <tr>\n",
       "      <th>4</th>\n",
       "      <td>2019-01-20 17:02:00</td>\n",
       "      <td>53006</td>\n",
       "      <td>51.500725</td>\n",
       "      <td>Polizeipräsidium</td>\n",
       "      <td>7.459819</td>\n",
       "      <td>2019-01-20 17:16:00</td>\n",
       "      <td>51.514029</td>\n",
       "      <td>Schwanenwall</td>\n",
       "      <td>7.472570</td>\n",
       "      <td>14</td>\n",
       "      <td>1.724677</td>\n",
       "      <td>6</td>\n",
       "      <td>True</td>\n",
       "      <td>20</td>\n",
       "      <td>1</td>\n",
       "      <td>17</td>\n",
       "    </tr>\n",
       "  </tbody>\n",
       "</table>\n",
       "</div>"
      ],
      "text/plain": [
       "        datetime_start  b_number_start  latitude_start  \\\n",
       "0  2019-01-20 16:22:00           50641       51.506312   \n",
       "1  2019-01-20 02:31:00           50425       51.517155   \n",
       "2  2019-01-20 11:32:00           53006       51.509557   \n",
       "3  2019-01-20 14:38:00           53006       51.517155   \n",
       "4  2019-01-20 17:02:00           53006       51.500725   \n",
       "\n",
       "                    p_name_start  longitude_start         datetime_end  \\\n",
       "0             Hainallee / Südbad         7.470531  2019-01-20 17:00:00   \n",
       "1  Hauptbahnhof/Bahnhofsvorplatz         7.459931  2019-01-20 02:43:00   \n",
       "2                 Ritterhausstr.         7.446949  2019-01-20 13:33:00   \n",
       "3  Hauptbahnhof/Bahnhofsvorplatz         7.459931  2019-01-20 14:53:00   \n",
       "4               Polizeipräsidium         7.459819  2019-01-20 17:16:00   \n",
       "\n",
       "   latitude_end                        p_name_end  longitude_end  \\\n",
       "0     51.493966  TU Dortmund Emil-Figge-Straße 50       7.418008   \n",
       "1     51.513069                         Unionstr.       7.448886   \n",
       "2     51.517155     Hauptbahnhof/Bahnhofsvorplatz       7.459931   \n",
       "3     51.500725                  Polizeipräsidium       7.459819   \n",
       "4     51.514029                      Schwanenwall       7.472570   \n",
       "\n",
       "   trip_duration  distance  weekday  weekend  day  month  hour  \n",
       "0             38  3.897290        6     True   20      1    16  \n",
       "1             12  0.891383        6     True   20      1     2  \n",
       "2            121  1.235649        6     True   20      1    11  \n",
       "3             15  1.827997        6     True   20      1    14  \n",
       "4             14  1.724677        6     True   20      1    17  "
      ]
     },
     "execution_count": 25,
     "metadata": {},
     "output_type": "execute_result"
    }
   ],
   "source": [
    "data.head()"
   ]
  },
  {
   "cell_type": "code",
   "execution_count": 26,
   "metadata": {},
   "outputs": [],
   "source": [
    "# this is our y\n",
    "duration = data[\"trip_duration\"]\n",
    "\n",
    "# this is our x\n",
    "data = data.drop(columns=[\"trip_duration\", \"datetime_start\", \"p_name_start\", \"b_number_start\", \"datetime_end\", \"p_name_end\"], axis = 1)"
   ]
  },
  {
   "cell_type": "code",
   "execution_count": 27,
   "metadata": {},
   "outputs": [],
   "source": [
    "X_train, X_test, y_train, y_test = train_test_split(data, duration, test_size = 0.3)"
   ]
  },
  {
   "cell_type": "code",
   "execution_count": 30,
   "metadata": {},
   "outputs": [],
   "source": [
    "st_scaler = StandardScaler()\n",
    "X_train_scaled = st_scaler.fit_transform(X_train)"
   ]
  },
  {
   "cell_type": "code",
   "execution_count": 31,
   "metadata": {},
   "outputs": [
    {
     "data": {
      "text/plain": [
       "LinearRegression(copy_X=True, fit_intercept=True, n_jobs=None, normalize=False)"
      ]
     },
     "execution_count": 31,
     "metadata": {},
     "output_type": "execute_result"
    }
   ],
   "source": [
    "lin = LinearRegression()\n",
    "lin.fit(X_train_scaled, y_train)"
   ]
  },
  {
   "cell_type": "code",
   "execution_count": 32,
   "metadata": {},
   "outputs": [],
   "source": [
    "X_test_scaled = st_scaler.transform(X_test)\n",
    "y_predict = lin.predict(X_test_scaled)"
   ]
  },
  {
   "cell_type": "code",
   "execution_count": 34,
   "metadata": {},
   "outputs": [
    {
     "name": "stdout",
     "output_type": "stream",
     "text": [
      "RMSE:  80.41408025896487\n",
      "MAE:  38.72054621697306\n"
     ]
    }
   ],
   "source": [
    "print(\"RMSE: \", np.sqrt(metrics.mean_squared_error(y_test, y_predict)))\n",
    "print(\"MAE: \", metrics.mean_absolute_error(y_test, y_predict))"
   ]
  },
  {
   "cell_type": "code",
   "execution_count": 35,
   "metadata": {},
   "outputs": [],
   "source": [
    "from sklearn.decomposition import PCA"
   ]
  },
  {
   "cell_type": "code",
   "execution_count": 38,
   "metadata": {},
   "outputs": [],
   "source": [
    "pca = PCA(n_components=10)"
   ]
  },
  {
   "cell_type": "code",
   "execution_count": 42,
   "metadata": {},
   "outputs": [],
   "source": [
    "X_train_transformed =pca.fit_transform(X_train_scaled)"
   ]
  },
  {
   "cell_type": "code",
   "execution_count": 43,
   "metadata": {},
   "outputs": [],
   "source": [
    "lin = LinearRegression()"
   ]
  },
  {
   "cell_type": "code",
   "execution_count": 44,
   "metadata": {},
   "outputs": [
    {
     "data": {
      "text/plain": [
       "LinearRegression(copy_X=True, fit_intercept=True, n_jobs=None, normalize=False)"
      ]
     },
     "execution_count": 44,
     "metadata": {},
     "output_type": "execute_result"
    }
   ],
   "source": [
    "lin.fit(X_train_transformed, y_train)"
   ]
  },
  {
   "cell_type": "code",
   "execution_count": 45,
   "metadata": {},
   "outputs": [],
   "source": [
    "X_test_scaled = st_scaler.transform(X_test)\n",
    "X_test_transformed = pca.transform(X_test_scaled)\n",
    "y_predict = lin.predict(X_test_transformed)"
   ]
  },
  {
   "cell_type": "code",
   "execution_count": 46,
   "metadata": {},
   "outputs": [
    {
     "name": "stdout",
     "output_type": "stream",
     "text": [
      "RMSE:  80.41408025896487\n",
      "MAE:  38.72054621697306\n"
     ]
    }
   ],
   "source": [
    "print(\"RMSE: \", np.sqrt(metrics.mean_squared_error(y_test, y_predict)))\n",
    "print(\"MAE: \", metrics.mean_absolute_error(y_test, y_predict))"
   ]
  },
  {
   "cell_type": "code",
   "execution_count": null,
   "metadata": {},
   "outputs": [],
   "source": []
  },
  {
   "cell_type": "markdown",
   "metadata": {},
   "source": [
    "### b) All cities in your datasets have universities. Based on Start information, predict whether a trip will be towards, or away from the university. Analyze your predictive performance on different subsets of your data (months, …). Do you see differences?"
   ]
  },
  {
   "cell_type": "markdown",
   "metadata": {},
   "source": [
    "There are multiple university-stations (can be seen in the first map of task 2)\n",
    "- TU Dortmund Seminarraumgebäude 1\n",
    "- TU Dortmund Hörsaalgebäude 2\n",
    "- Universität/S-Bahnhof\n",
    "- TU Dortmund Emil-Figge-Straße 50\n",
    "- FH-Dortmund Emil-Figge-Straße 42\n",
    "\n",
    "There are 2 ways to determine whether a trip is towards/away from the university\n",
    "\n",
    "1)\n",
    "check if start/end-station is one of the university-stations\n",
    "create 2 columns:\n",
    "- TowardsUniveristy: Yes/No\n",
    "- AwayFromUniveristy: Yes/No\n",
    "\n",
    "We need 2 columns (and not solely one) because there is also the case that a trip was done independently from the university\n",
    "\n",
    "\n",
    "2)\n",
    "check if the route of a trip is done in direction to the university (or away from the university)\n",
    "Therefore:\n",
    "\n",
    "- determine the route/vector of a trips\n",
    "- chech if this vector is directed in direction to/away from the university"
   ]
  },
  {
   "cell_type": "code",
   "execution_count": 52,
   "metadata": {},
   "outputs": [],
   "source": [
    "trips = pd.read_csv(\"../data/processed/dortmund_trips.csv\", index_col = 0)"
   ]
  },
  {
   "cell_type": "code",
   "execution_count": 47,
   "metadata": {},
   "outputs": [],
   "source": [
    "university_stations = [\"TU Dortmund Seminarraumgebäude 1\", \"TU Dortmund Hörsaalgebäude 2\", \"Universität/S-Bahnhof\", \"TU Dortmund Emil-Figge-Straße 50\", \"FH-Dortmund Emil-Figge-Straße 42\"]"
   ]
  },
  {
   "cell_type": "code",
   "execution_count": 48,
   "metadata": {},
   "outputs": [
    {
     "data": {
      "text/plain": [
       "5"
      ]
     },
     "execution_count": 48,
     "metadata": {},
     "output_type": "execute_result"
    }
   ],
   "source": [
    "len(university_stations)"
   ]
  },
  {
   "cell_type": "code",
   "execution_count": 51,
   "metadata": {},
   "outputs": [
    {
     "data": {
      "text/plain": [
       "True"
      ]
     },
     "execution_count": 51,
     "metadata": {},
     "output_type": "execute_result"
    }
   ],
   "source": [
    "\"TU Dortmund Seminarraumgebäude 1\" in university_stations"
   ]
  },
  {
   "cell_type": "code",
   "execution_count": 54,
   "metadata": {},
   "outputs": [],
   "source": [
    "trips['TowardsUniversity'] = trips['p_name_end'].apply(lambda x: 1 if x in university_stations else 0)"
   ]
  },
  {
   "cell_type": "code",
   "execution_count": 55,
   "metadata": {},
   "outputs": [],
   "source": [
    "trips['AwayFromUniveristy'] = trips['p_name_start'].apply(lambda x: 1 if x in university_stations else 0)"
   ]
  },
  {
   "cell_type": "code",
   "execution_count": 58,
   "metadata": {},
   "outputs": [
    {
     "data": {
      "text/html": [
       "<div>\n",
       "<style scoped>\n",
       "    .dataframe tbody tr th:only-of-type {\n",
       "        vertical-align: middle;\n",
       "    }\n",
       "\n",
       "    .dataframe tbody tr th {\n",
       "        vertical-align: top;\n",
       "    }\n",
       "\n",
       "    .dataframe thead th {\n",
       "        text-align: right;\n",
       "    }\n",
       "</style>\n",
       "<table border=\"1\" class=\"dataframe\">\n",
       "  <thead>\n",
       "    <tr style=\"text-align: right;\">\n",
       "      <th></th>\n",
       "      <th>datetime_start</th>\n",
       "      <th>b_number_start</th>\n",
       "      <th>latitude_start</th>\n",
       "      <th>p_name_start</th>\n",
       "      <th>longitude_start</th>\n",
       "      <th>datetime_end</th>\n",
       "      <th>latitude_end</th>\n",
       "      <th>p_name_end</th>\n",
       "      <th>longitude_end</th>\n",
       "      <th>trip_duration</th>\n",
       "      <th>distance</th>\n",
       "      <th>weekday</th>\n",
       "      <th>weekend</th>\n",
       "      <th>day</th>\n",
       "      <th>month</th>\n",
       "      <th>hour</th>\n",
       "      <th>TowardsUniversity</th>\n",
       "      <th>AwayFromUniveristy</th>\n",
       "    </tr>\n",
       "  </thead>\n",
       "  <tbody>\n",
       "    <tr>\n",
       "      <th>0</th>\n",
       "      <td>2019-01-20 16:22:00</td>\n",
       "      <td>50641</td>\n",
       "      <td>51.506312</td>\n",
       "      <td>Hainallee / Südbad</td>\n",
       "      <td>7.470531</td>\n",
       "      <td>2019-01-20 17:00:00</td>\n",
       "      <td>51.493966</td>\n",
       "      <td>TU Dortmund Emil-Figge-Straße 50</td>\n",
       "      <td>7.418008</td>\n",
       "      <td>38</td>\n",
       "      <td>3.897290</td>\n",
       "      <td>6</td>\n",
       "      <td>True</td>\n",
       "      <td>20</td>\n",
       "      <td>1</td>\n",
       "      <td>16</td>\n",
       "      <td>1</td>\n",
       "      <td>0</td>\n",
       "    </tr>\n",
       "    <tr>\n",
       "      <th>1</th>\n",
       "      <td>2019-01-20 02:31:00</td>\n",
       "      <td>50425</td>\n",
       "      <td>51.517155</td>\n",
       "      <td>Hauptbahnhof/Bahnhofsvorplatz</td>\n",
       "      <td>7.459931</td>\n",
       "      <td>2019-01-20 02:43:00</td>\n",
       "      <td>51.513069</td>\n",
       "      <td>Unionstr.</td>\n",
       "      <td>7.448886</td>\n",
       "      <td>12</td>\n",
       "      <td>0.891383</td>\n",
       "      <td>6</td>\n",
       "      <td>True</td>\n",
       "      <td>20</td>\n",
       "      <td>1</td>\n",
       "      <td>2</td>\n",
       "      <td>0</td>\n",
       "      <td>0</td>\n",
       "    </tr>\n",
       "    <tr>\n",
       "      <th>2</th>\n",
       "      <td>2019-01-20 11:32:00</td>\n",
       "      <td>53006</td>\n",
       "      <td>51.509557</td>\n",
       "      <td>Ritterhausstr.</td>\n",
       "      <td>7.446949</td>\n",
       "      <td>2019-01-20 13:33:00</td>\n",
       "      <td>51.517155</td>\n",
       "      <td>Hauptbahnhof/Bahnhofsvorplatz</td>\n",
       "      <td>7.459931</td>\n",
       "      <td>121</td>\n",
       "      <td>1.235649</td>\n",
       "      <td>6</td>\n",
       "      <td>True</td>\n",
       "      <td>20</td>\n",
       "      <td>1</td>\n",
       "      <td>11</td>\n",
       "      <td>0</td>\n",
       "      <td>0</td>\n",
       "    </tr>\n",
       "    <tr>\n",
       "      <th>3</th>\n",
       "      <td>2019-01-20 14:38:00</td>\n",
       "      <td>53006</td>\n",
       "      <td>51.517155</td>\n",
       "      <td>Hauptbahnhof/Bahnhofsvorplatz</td>\n",
       "      <td>7.459931</td>\n",
       "      <td>2019-01-20 14:53:00</td>\n",
       "      <td>51.500725</td>\n",
       "      <td>Polizeipräsidium</td>\n",
       "      <td>7.459819</td>\n",
       "      <td>15</td>\n",
       "      <td>1.827997</td>\n",
       "      <td>6</td>\n",
       "      <td>True</td>\n",
       "      <td>20</td>\n",
       "      <td>1</td>\n",
       "      <td>14</td>\n",
       "      <td>0</td>\n",
       "      <td>0</td>\n",
       "    </tr>\n",
       "    <tr>\n",
       "      <th>4</th>\n",
       "      <td>2019-01-20 17:02:00</td>\n",
       "      <td>53006</td>\n",
       "      <td>51.500725</td>\n",
       "      <td>Polizeipräsidium</td>\n",
       "      <td>7.459819</td>\n",
       "      <td>2019-01-20 17:16:00</td>\n",
       "      <td>51.514029</td>\n",
       "      <td>Schwanenwall</td>\n",
       "      <td>7.472570</td>\n",
       "      <td>14</td>\n",
       "      <td>1.724677</td>\n",
       "      <td>6</td>\n",
       "      <td>True</td>\n",
       "      <td>20</td>\n",
       "      <td>1</td>\n",
       "      <td>17</td>\n",
       "      <td>0</td>\n",
       "      <td>0</td>\n",
       "    </tr>\n",
       "    <tr>\n",
       "      <th>...</th>\n",
       "      <td>...</td>\n",
       "      <td>...</td>\n",
       "      <td>...</td>\n",
       "      <td>...</td>\n",
       "      <td>...</td>\n",
       "      <td>...</td>\n",
       "      <td>...</td>\n",
       "      <td>...</td>\n",
       "      <td>...</td>\n",
       "      <td>...</td>\n",
       "      <td>...</td>\n",
       "      <td>...</td>\n",
       "      <td>...</td>\n",
       "      <td>...</td>\n",
       "      <td>...</td>\n",
       "      <td>...</td>\n",
       "      <td>...</td>\n",
       "      <td>...</td>\n",
       "    </tr>\n",
       "    <tr>\n",
       "      <th>207471</th>\n",
       "      <td>2019-12-31 12:39:00</td>\n",
       "      <td>500019</td>\n",
       "      <td>51.500675</td>\n",
       "      <td>Kuithanstr.</td>\n",
       "      <td>7.440834</td>\n",
       "      <td>2019-12-31 12:54:00</td>\n",
       "      <td>51.517155</td>\n",
       "      <td>Hauptbahnhof/Bahnhofsvorplatz</td>\n",
       "      <td>7.459931</td>\n",
       "      <td>15</td>\n",
       "      <td>2.262708</td>\n",
       "      <td>1</td>\n",
       "      <td>False</td>\n",
       "      <td>31</td>\n",
       "      <td>12</td>\n",
       "      <td>12</td>\n",
       "      <td>0</td>\n",
       "      <td>0</td>\n",
       "    </tr>\n",
       "    <tr>\n",
       "      <th>207472</th>\n",
       "      <td>2019-12-31 19:28:00</td>\n",
       "      <td>500019</td>\n",
       "      <td>51.517155</td>\n",
       "      <td>Hauptbahnhof/Bahnhofsvorplatz</td>\n",
       "      <td>7.459931</td>\n",
       "      <td>2019-12-31 19:35:00</td>\n",
       "      <td>51.513069</td>\n",
       "      <td>Unionstr.</td>\n",
       "      <td>7.448886</td>\n",
       "      <td>7</td>\n",
       "      <td>0.891383</td>\n",
       "      <td>1</td>\n",
       "      <td>False</td>\n",
       "      <td>31</td>\n",
       "      <td>12</td>\n",
       "      <td>19</td>\n",
       "      <td>0</td>\n",
       "      <td>0</td>\n",
       "    </tr>\n",
       "    <tr>\n",
       "      <th>207473</th>\n",
       "      <td>2019-12-31 12:36:00</td>\n",
       "      <td>51287</td>\n",
       "      <td>51.482359</td>\n",
       "      <td>Barop Parkhaus</td>\n",
       "      <td>7.432326</td>\n",
       "      <td>2019-12-31 15:14:00</td>\n",
       "      <td>51.490505</td>\n",
       "      <td>An der Palmweide</td>\n",
       "      <td>7.438352</td>\n",
       "      <td>158</td>\n",
       "      <td>0.998294</td>\n",
       "      <td>1</td>\n",
       "      <td>False</td>\n",
       "      <td>31</td>\n",
       "      <td>12</td>\n",
       "      <td>12</td>\n",
       "      <td>0</td>\n",
       "      <td>0</td>\n",
       "    </tr>\n",
       "    <tr>\n",
       "      <th>207474</th>\n",
       "      <td>2019-12-31 22:37:00</td>\n",
       "      <td>500113</td>\n",
       "      <td>51.510976</td>\n",
       "      <td>Stadtgarten</td>\n",
       "      <td>7.464534</td>\n",
       "      <td>2019-12-31 23:05:00</td>\n",
       "      <td>51.486747</td>\n",
       "      <td>Am Beilstück</td>\n",
       "      <td>7.435750</td>\n",
       "      <td>28</td>\n",
       "      <td>3.355884</td>\n",
       "      <td>1</td>\n",
       "      <td>False</td>\n",
       "      <td>31</td>\n",
       "      <td>12</td>\n",
       "      <td>22</td>\n",
       "      <td>0</td>\n",
       "      <td>0</td>\n",
       "    </tr>\n",
       "    <tr>\n",
       "      <th>207475</th>\n",
       "      <td>2019-12-31 23:38:00</td>\n",
       "      <td>500113</td>\n",
       "      <td>51.486747</td>\n",
       "      <td>Am Beilstück</td>\n",
       "      <td>7.435750</td>\n",
       "      <td>2019-12-31 23:52:00</td>\n",
       "      <td>51.502318</td>\n",
       "      <td>Kreuzstraße</td>\n",
       "      <td>7.450029</td>\n",
       "      <td>14</td>\n",
       "      <td>1.996146</td>\n",
       "      <td>1</td>\n",
       "      <td>False</td>\n",
       "      <td>31</td>\n",
       "      <td>12</td>\n",
       "      <td>23</td>\n",
       "      <td>0</td>\n",
       "      <td>0</td>\n",
       "    </tr>\n",
       "  </tbody>\n",
       "</table>\n",
       "<p>207476 rows × 18 columns</p>\n",
       "</div>"
      ],
      "text/plain": [
       "             datetime_start  b_number_start  latitude_start  \\\n",
       "0       2019-01-20 16:22:00           50641       51.506312   \n",
       "1       2019-01-20 02:31:00           50425       51.517155   \n",
       "2       2019-01-20 11:32:00           53006       51.509557   \n",
       "3       2019-01-20 14:38:00           53006       51.517155   \n",
       "4       2019-01-20 17:02:00           53006       51.500725   \n",
       "...                     ...             ...             ...   \n",
       "207471  2019-12-31 12:39:00          500019       51.500675   \n",
       "207472  2019-12-31 19:28:00          500019       51.517155   \n",
       "207473  2019-12-31 12:36:00           51287       51.482359   \n",
       "207474  2019-12-31 22:37:00          500113       51.510976   \n",
       "207475  2019-12-31 23:38:00          500113       51.486747   \n",
       "\n",
       "                         p_name_start  longitude_start         datetime_end  \\\n",
       "0                  Hainallee / Südbad         7.470531  2019-01-20 17:00:00   \n",
       "1       Hauptbahnhof/Bahnhofsvorplatz         7.459931  2019-01-20 02:43:00   \n",
       "2                      Ritterhausstr.         7.446949  2019-01-20 13:33:00   \n",
       "3       Hauptbahnhof/Bahnhofsvorplatz         7.459931  2019-01-20 14:53:00   \n",
       "4                    Polizeipräsidium         7.459819  2019-01-20 17:16:00   \n",
       "...                               ...              ...                  ...   \n",
       "207471                    Kuithanstr.         7.440834  2019-12-31 12:54:00   \n",
       "207472  Hauptbahnhof/Bahnhofsvorplatz         7.459931  2019-12-31 19:35:00   \n",
       "207473                 Barop Parkhaus         7.432326  2019-12-31 15:14:00   \n",
       "207474                    Stadtgarten         7.464534  2019-12-31 23:05:00   \n",
       "207475                   Am Beilstück         7.435750  2019-12-31 23:52:00   \n",
       "\n",
       "        latitude_end                        p_name_end  longitude_end  \\\n",
       "0          51.493966  TU Dortmund Emil-Figge-Straße 50       7.418008   \n",
       "1          51.513069                         Unionstr.       7.448886   \n",
       "2          51.517155     Hauptbahnhof/Bahnhofsvorplatz       7.459931   \n",
       "3          51.500725                  Polizeipräsidium       7.459819   \n",
       "4          51.514029                      Schwanenwall       7.472570   \n",
       "...              ...                               ...            ...   \n",
       "207471     51.517155     Hauptbahnhof/Bahnhofsvorplatz       7.459931   \n",
       "207472     51.513069                         Unionstr.       7.448886   \n",
       "207473     51.490505                  An der Palmweide       7.438352   \n",
       "207474     51.486747                      Am Beilstück       7.435750   \n",
       "207475     51.502318                       Kreuzstraße       7.450029   \n",
       "\n",
       "        trip_duration  distance  weekday  weekend  day  month  hour  \\\n",
       "0                  38  3.897290        6     True   20      1    16   \n",
       "1                  12  0.891383        6     True   20      1     2   \n",
       "2                 121  1.235649        6     True   20      1    11   \n",
       "3                  15  1.827997        6     True   20      1    14   \n",
       "4                  14  1.724677        6     True   20      1    17   \n",
       "...               ...       ...      ...      ...  ...    ...   ...   \n",
       "207471             15  2.262708        1    False   31     12    12   \n",
       "207472              7  0.891383        1    False   31     12    19   \n",
       "207473            158  0.998294        1    False   31     12    12   \n",
       "207474             28  3.355884        1    False   31     12    22   \n",
       "207475             14  1.996146        1    False   31     12    23   \n",
       "\n",
       "        TowardsUniversity  AwayFromUniveristy  \n",
       "0                       1                   0  \n",
       "1                       0                   0  \n",
       "2                       0                   0  \n",
       "3                       0                   0  \n",
       "4                       0                   0  \n",
       "...                   ...                 ...  \n",
       "207471                  0                   0  \n",
       "207472                  0                   0  \n",
       "207473                  0                   0  \n",
       "207474                  0                   0  \n",
       "207475                  0                   0  \n",
       "\n",
       "[207476 rows x 18 columns]"
      ]
     },
     "execution_count": 58,
     "metadata": {},
     "output_type": "execute_result"
    }
   ],
   "source": [
    "trips"
   ]
  },
  {
   "cell_type": "code",
   "execution_count": null,
   "metadata": {},
   "outputs": [],
   "source": []
  }
 ],
 "metadata": {
  "kernelspec": {
   "display_name": "Python 3",
   "language": "python",
   "name": "python3"
  },
  "language_info": {
   "codemirror_mode": {
    "name": "ipython",
    "version": 3
   },
   "file_extension": ".py",
   "mimetype": "text/x-python",
   "name": "python",
   "nbconvert_exporter": "python",
   "pygments_lexer": "ipython3",
   "version": "3.7.7"
  }
 },
 "nbformat": 4,
 "nbformat_minor": 4
}
