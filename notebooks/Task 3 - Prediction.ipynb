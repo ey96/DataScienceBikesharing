{
 "cells": [
  {
   "cell_type": "code",
   "execution_count": 92,
   "metadata": {},
   "outputs": [],
   "source": [
    "import pandas as pd\n",
    "import numpy as np\n",
    "import matplotlib.pyplot as plt\n",
    "import seaborn as sns\n",
    "from sklearn.model_selection import train_test_split\n",
    "from sklearn.preprocessing import StandardScaler\n",
    "from sklearn.linear_model import LinearRegression\n",
    "from sklearn import metrics\n",
    "\n",
    "\n",
    "import geopy\n",
    "import geopandas as gpd\n",
    "from shapely.geometry import Point\n",
    "import matplotlib.pyplot as plt\n",
    "\n",
    "from vincenty import vincenty\n",
    "\n",
    "import warnings"
   ]
  },
  {
   "cell_type": "markdown",
   "metadata": {},
   "source": [
    "### a) Predict the journey duration. You may use any Start information in the data set. Also consider creating new features that may help prediction quality (Hint: In the coding week, we discussed creating polynomial features. How would you engineer features for periodic quantities with known period lengths, e.g, a day, a year, …?)."
   ]
  },
  {
   "cell_type": "code",
   "execution_count": 2,
   "metadata": {},
   "outputs": [],
   "source": [
    "data = pd.read_csv(\"../data/processed/dortmund_trips.csv\", index_col = 0)"
   ]
  },
  {
   "cell_type": "code",
   "execution_count": 3,
   "metadata": {},
   "outputs": [
    {
     "data": {
      "text/html": [
       "<div>\n",
       "<style scoped>\n",
       "    .dataframe tbody tr th:only-of-type {\n",
       "        vertical-align: middle;\n",
       "    }\n",
       "\n",
       "    .dataframe tbody tr th {\n",
       "        vertical-align: top;\n",
       "    }\n",
       "\n",
       "    .dataframe thead th {\n",
       "        text-align: right;\n",
       "    }\n",
       "</style>\n",
       "<table border=\"1\" class=\"dataframe\">\n",
       "  <thead>\n",
       "    <tr style=\"text-align: right;\">\n",
       "      <th></th>\n",
       "      <th>datetime_start</th>\n",
       "      <th>b_number_start</th>\n",
       "      <th>latitude_start</th>\n",
       "      <th>p_name_start</th>\n",
       "      <th>longitude_start</th>\n",
       "      <th>datetime_end</th>\n",
       "      <th>latitude_end</th>\n",
       "      <th>p_name_end</th>\n",
       "      <th>longitude_end</th>\n",
       "      <th>trip_duration</th>\n",
       "      <th>distance</th>\n",
       "      <th>weekday</th>\n",
       "      <th>weekend</th>\n",
       "      <th>day</th>\n",
       "      <th>month</th>\n",
       "      <th>hour</th>\n",
       "    </tr>\n",
       "  </thead>\n",
       "  <tbody>\n",
       "    <tr>\n",
       "      <th>0</th>\n",
       "      <td>2019-01-20 16:22:00</td>\n",
       "      <td>50641</td>\n",
       "      <td>51.506312</td>\n",
       "      <td>Hainallee / Südbad</td>\n",
       "      <td>7.470531</td>\n",
       "      <td>2019-01-20 17:00:00</td>\n",
       "      <td>51.493966</td>\n",
       "      <td>TU Dortmund Emil-Figge-Straße 50</td>\n",
       "      <td>7.418008</td>\n",
       "      <td>38</td>\n",
       "      <td>3.897290</td>\n",
       "      <td>6</td>\n",
       "      <td>True</td>\n",
       "      <td>20</td>\n",
       "      <td>1</td>\n",
       "      <td>16</td>\n",
       "    </tr>\n",
       "    <tr>\n",
       "      <th>1</th>\n",
       "      <td>2019-01-20 02:31:00</td>\n",
       "      <td>50425</td>\n",
       "      <td>51.517155</td>\n",
       "      <td>Hauptbahnhof/Bahnhofsvorplatz</td>\n",
       "      <td>7.459931</td>\n",
       "      <td>2019-01-20 02:43:00</td>\n",
       "      <td>51.513069</td>\n",
       "      <td>Unionstr.</td>\n",
       "      <td>7.448886</td>\n",
       "      <td>12</td>\n",
       "      <td>0.891383</td>\n",
       "      <td>6</td>\n",
       "      <td>True</td>\n",
       "      <td>20</td>\n",
       "      <td>1</td>\n",
       "      <td>2</td>\n",
       "    </tr>\n",
       "    <tr>\n",
       "      <th>2</th>\n",
       "      <td>2019-01-20 11:32:00</td>\n",
       "      <td>53006</td>\n",
       "      <td>51.509557</td>\n",
       "      <td>Ritterhausstr.</td>\n",
       "      <td>7.446949</td>\n",
       "      <td>2019-01-20 13:33:00</td>\n",
       "      <td>51.517155</td>\n",
       "      <td>Hauptbahnhof/Bahnhofsvorplatz</td>\n",
       "      <td>7.459931</td>\n",
       "      <td>121</td>\n",
       "      <td>1.235649</td>\n",
       "      <td>6</td>\n",
       "      <td>True</td>\n",
       "      <td>20</td>\n",
       "      <td>1</td>\n",
       "      <td>11</td>\n",
       "    </tr>\n",
       "    <tr>\n",
       "      <th>3</th>\n",
       "      <td>2019-01-20 14:38:00</td>\n",
       "      <td>53006</td>\n",
       "      <td>51.517155</td>\n",
       "      <td>Hauptbahnhof/Bahnhofsvorplatz</td>\n",
       "      <td>7.459931</td>\n",
       "      <td>2019-01-20 14:53:00</td>\n",
       "      <td>51.500725</td>\n",
       "      <td>Polizeipräsidium</td>\n",
       "      <td>7.459819</td>\n",
       "      <td>15</td>\n",
       "      <td>1.827997</td>\n",
       "      <td>6</td>\n",
       "      <td>True</td>\n",
       "      <td>20</td>\n",
       "      <td>1</td>\n",
       "      <td>14</td>\n",
       "    </tr>\n",
       "    <tr>\n",
       "      <th>4</th>\n",
       "      <td>2019-01-20 17:02:00</td>\n",
       "      <td>53006</td>\n",
       "      <td>51.500725</td>\n",
       "      <td>Polizeipräsidium</td>\n",
       "      <td>7.459819</td>\n",
       "      <td>2019-01-20 17:16:00</td>\n",
       "      <td>51.514029</td>\n",
       "      <td>Schwanenwall</td>\n",
       "      <td>7.472570</td>\n",
       "      <td>14</td>\n",
       "      <td>1.724677</td>\n",
       "      <td>6</td>\n",
       "      <td>True</td>\n",
       "      <td>20</td>\n",
       "      <td>1</td>\n",
       "      <td>17</td>\n",
       "    </tr>\n",
       "  </tbody>\n",
       "</table>\n",
       "</div>"
      ],
      "text/plain": [
       "        datetime_start  b_number_start  latitude_start  \\\n",
       "0  2019-01-20 16:22:00           50641       51.506312   \n",
       "1  2019-01-20 02:31:00           50425       51.517155   \n",
       "2  2019-01-20 11:32:00           53006       51.509557   \n",
       "3  2019-01-20 14:38:00           53006       51.517155   \n",
       "4  2019-01-20 17:02:00           53006       51.500725   \n",
       "\n",
       "                    p_name_start  longitude_start         datetime_end  \\\n",
       "0             Hainallee / Südbad         7.470531  2019-01-20 17:00:00   \n",
       "1  Hauptbahnhof/Bahnhofsvorplatz         7.459931  2019-01-20 02:43:00   \n",
       "2                 Ritterhausstr.         7.446949  2019-01-20 13:33:00   \n",
       "3  Hauptbahnhof/Bahnhofsvorplatz         7.459931  2019-01-20 14:53:00   \n",
       "4               Polizeipräsidium         7.459819  2019-01-20 17:16:00   \n",
       "\n",
       "   latitude_end                        p_name_end  longitude_end  \\\n",
       "0     51.493966  TU Dortmund Emil-Figge-Straße 50       7.418008   \n",
       "1     51.513069                         Unionstr.       7.448886   \n",
       "2     51.517155     Hauptbahnhof/Bahnhofsvorplatz       7.459931   \n",
       "3     51.500725                  Polizeipräsidium       7.459819   \n",
       "4     51.514029                      Schwanenwall       7.472570   \n",
       "\n",
       "   trip_duration  distance  weekday  weekend  day  month  hour  \n",
       "0             38  3.897290        6     True   20      1    16  \n",
       "1             12  0.891383        6     True   20      1     2  \n",
       "2            121  1.235649        6     True   20      1    11  \n",
       "3             15  1.827997        6     True   20      1    14  \n",
       "4             14  1.724677        6     True   20      1    17  "
      ]
     },
     "execution_count": 3,
     "metadata": {},
     "output_type": "execute_result"
    }
   ],
   "source": [
    "data.head()"
   ]
  },
  {
   "cell_type": "markdown",
   "metadata": {},
   "source": [
    "Get the outliers in trip duration"
   ]
  },
  {
   "cell_type": "code",
   "execution_count": 4,
   "metadata": {},
   "outputs": [
    {
     "data": {
      "text/plain": [
       "Text(0.5, 0, 'trip duration in minutes')"
      ]
     },
     "execution_count": 4,
     "metadata": {},
     "output_type": "execute_result"
    },
    {
     "data": {
      "image/png": "[encoded data removed]",
      "text/plain": [
       "<Figure size 1152x288 with 1 Axes>"
      ]
     },
     "metadata": {
      "needs_background": "light"
     },
     "output_type": "display_data"
    }
   ],
   "source": [
    "#identifiy outlier record based on trip duration\n",
    "ax = plt.figure(figsize = (16,4))\n",
    "ax.suptitle(\"Boxplot of the trip duration distribution\", y=0.98)\n",
    "ax = sns.boxplot (x=data[\"trip_duration\"], color='cornflowerblue')\n",
    "ax.set_xticks(np.arange(0, 55),1)\n",
    "ax.set_xlim([0, 55]) \n",
    "ax.set_xlabel('trip duration in minutes')"
   ]
  },
  {
   "cell_type": "markdown",
   "metadata": {},
   "source": [
    "trips shorter than 2min and longer than 48min are outliers"
   ]
  },
  {
   "cell_type": "code",
   "execution_count": 6,
   "metadata": {},
   "outputs": [],
   "source": [
    "trips_without_outliers = data[(data[\"trip_duration\"]>= 2) & (data[\"trip_duration\"]<= 48)]"
   ]
  },
  {
   "cell_type": "code",
   "execution_count": 7,
   "metadata": {},
   "outputs": [
    {
     "name": "stdout",
     "output_type": "stream",
     "text": [
      "27599 of 207476 rows were deleted due outlier-handling\n",
      "This equals 13.302261466386472 %\n"
     ]
    }
   ],
   "source": [
    "amount_deleted_rows = len(data) - len(trips_without_outliers)\n",
    "print(amount_deleted_rows, \"of\", len(data) ,\"rows were deleted due outlier-handling\")\n",
    "print(\"This equals\", amount_deleted_rows/len(data) * 100, \"%\")"
   ]
  },
  {
   "cell_type": "code",
   "execution_count": 8,
   "metadata": {},
   "outputs": [],
   "source": [
    "# this is our y\n",
    "duration = data[\"trip_duration\"]\n",
    "\n",
    "# this is our x\n",
    "data = data.drop(columns=[\"trip_duration\", \"datetime_start\", \"p_name_start\", \"b_number_start\", \"datetime_end\", \"p_name_end\"], axis = 1)"
   ]
  },
  {
   "cell_type": "code",
   "execution_count": 9,
   "metadata": {},
   "outputs": [],
   "source": [
    "X_train, X_test, y_train, y_test = train_test_split(data, duration, test_size = 0.3)"
   ]
  },
  {
   "cell_type": "code",
   "execution_count": 10,
   "metadata": {},
   "outputs": [],
   "source": [
    "st_scaler = StandardScaler()\n",
    "X_train_scaled = st_scaler.fit_transform(X_train)"
   ]
  },
  {
   "cell_type": "code",
   "execution_count": 11,
   "metadata": {},
   "outputs": [
    {
     "data": {
      "text/plain": [
       "LinearRegression(copy_X=True, fit_intercept=True, n_jobs=None, normalize=False)"
      ]
     },
     "execution_count": 11,
     "metadata": {},
     "output_type": "execute_result"
    }
   ],
   "source": [
    "lin = LinearRegression()\n",
    "lin.fit(X_train_scaled, y_train)"
   ]
  },
  {
   "cell_type": "code",
   "execution_count": 12,
   "metadata": {},
   "outputs": [],
   "source": [
    "X_test_scaled = st_scaler.transform(X_test)\n",
    "y_predict = lin.predict(X_test_scaled)"
   ]
  },
  {
   "cell_type": "code",
   "execution_count": 13,
   "metadata": {},
   "outputs": [
    {
     "name": "stdout",
     "output_type": "stream",
     "text": [
      "RMSE:  80.48557368578165\n",
      "MAE:  38.6219208253277\n"
     ]
    }
   ],
   "source": [
    "print(\"RMSE: \", np.sqrt(metrics.mean_squared_error(y_test, y_predict)))\n",
    "print(\"MAE: \", metrics.mean_absolute_error(y_test, y_predict))"
   ]
  },
  {
   "cell_type": "code",
   "execution_count": 14,
   "metadata": {},
   "outputs": [],
   "source": [
    "from sklearn.decomposition import PCA"
   ]
  },
  {
   "cell_type": "code",
   "execution_count": 15,
   "metadata": {},
   "outputs": [],
   "source": [
    "pca = PCA(n_components=10)"
   ]
  },
  {
   "cell_type": "code",
   "execution_count": 16,
   "metadata": {},
   "outputs": [],
   "source": [
    "X_train_transformed =pca.fit_transform(X_train_scaled)"
   ]
  },
  {
   "cell_type": "code",
   "execution_count": 17,
   "metadata": {},
   "outputs": [],
   "source": [
    "lin = LinearRegression()"
   ]
  },
  {
   "cell_type": "code",
   "execution_count": 18,
   "metadata": {},
   "outputs": [
    {
     "data": {
      "text/plain": [
       "LinearRegression(copy_X=True, fit_intercept=True, n_jobs=None, normalize=False)"
      ]
     },
     "execution_count": 18,
     "metadata": {},
     "output_type": "execute_result"
    }
   ],
   "source": [
    "lin.fit(X_train_transformed, y_train)"
   ]
  },
  {
   "cell_type": "code",
   "execution_count": 19,
   "metadata": {},
   "outputs": [],
   "source": [
    "X_test_scaled = st_scaler.transform(X_test)\n",
    "X_test_transformed = pca.transform(X_test_scaled)\n",
    "y_predict = lin.predict(X_test_transformed)"
   ]
  },
  {
   "cell_type": "code",
   "execution_count": 20,
   "metadata": {},
   "outputs": [
    {
     "name": "stdout",
     "output_type": "stream",
     "text": [
      "RMSE:  80.48557368578165\n",
      "MAE:  38.621920825327685\n"
     ]
    }
   ],
   "source": [
    "print(\"RMSE: \", np.sqrt(metrics.mean_squared_error(y_test, y_predict)))\n",
    "print(\"MAE: \", metrics.mean_absolute_error(y_test, y_predict))"
   ]
  },
  {
   "cell_type": "code",
   "execution_count": null,
   "metadata": {},
   "outputs": [],
   "source": []
  },
  {
   "cell_type": "markdown",
   "metadata": {},
   "source": [
    "### b) All cities in your datasets have universities. Based on Start information, predict whether a trip will be towards, or away from the university. Analyze your predictive performance on different subsets of your data (months, …). Do you see differences?"
   ]
  },
  {
   "cell_type": "markdown",
   "metadata": {},
   "source": [
    "There are multiple university-stations (can be seen in the first map of task 2)\n",
    "- TU Dortmund Seminarraumgebäude 1\n",
    "- TU Dortmund Hörsaalgebäude 2\n",
    "- Universität/S-Bahnhof\n",
    "- TU Dortmund Emil-Figge-Straße 50\n",
    "- FH-Dortmund Emil-Figge-Straße 42\n",
    "\n",
    "There are 2 ways to determine whether a trip is towards/away from the university\n",
    "\n",
    "1)\n",
    "check if start/end-station is one of the university-stations\n",
    "create 2 columns:\n",
    "- TowardsUniveristy: Yes/No\n",
    "- AwayFromUniveristy: Yes/No\n",
    "\n",
    "We need 2 columns (and not solely one) because there is also the case that a trip was done independently from the university\n",
    "\n",
    "\n",
    "2)\n",
    "check if the route of a trip is done in direction to the university (or away from the university)\n",
    "Therefore:\n",
    "\n",
    "- determine the route/vector of a trips\n",
    "- chech if this vector is directed in direction to/away from the university"
   ]
  },
  {
   "cell_type": "code",
   "execution_count": 67,
   "metadata": {},
   "outputs": [],
   "source": [
    "df = pd.read_csv(\"../data/processed/dortmund_trips.csv\", index_col = 0)"
   ]
  },
  {
   "cell_type": "code",
   "execution_count": 68,
   "metadata": {},
   "outputs": [],
   "source": [
    "# returns \"Point(longtitude, latitude)\" of the starting position of a rental\n",
    "def make_point(row):\n",
    "    return Point(row.longitude_start, row.latitude_start)\n",
    "\n",
    "\n",
    "\n"
   ]
  },
  {
   "cell_type": "code",
   "execution_count": 69,
   "metadata": {},
   "outputs": [
    {
     "name": "stderr",
     "output_type": "stream",
     "text": [
      "C:\\Users\\erkin\\miniconda3\\envs\\PDS20\\lib\\site-packages\\ipykernel_launcher.py:4: UserWarning: Pandas doesn't allow columns to be created via a new attribute name - see https://pandas.pydata.org/pandas-docs/stable/indexing.html#attribute-access\n",
      "  after removing the cwd from sys.path.\n"
     ]
    }
   ],
   "source": [
    "# Go through every row, and make a point out of its lat and lon\n",
    "df[\"geometry\"] = df.apply(make_point, axis=1)\n",
    "# It doesn't come with a CRS because it's a CSV, so it has to be set\n",
    "df.crs = {'init': 'epsg:4326'}"
   ]
  },
  {
   "cell_type": "code",
   "execution_count": 70,
   "metadata": {},
   "outputs": [
    {
     "data": {
      "text/html": [
       "<div>\n",
       "<style scoped>\n",
       "    .dataframe tbody tr th:only-of-type {\n",
       "        vertical-align: middle;\n",
       "    }\n",
       "\n",
       "    .dataframe tbody tr th {\n",
       "        vertical-align: top;\n",
       "    }\n",
       "\n",
       "    .dataframe thead th {\n",
       "        text-align: right;\n",
       "    }\n",
       "</style>\n",
       "<table border=\"1\" class=\"dataframe\">\n",
       "  <thead>\n",
       "    <tr style=\"text-align: right;\">\n",
       "      <th></th>\n",
       "      <th>datetime_start</th>\n",
       "      <th>b_number_start</th>\n",
       "      <th>latitude_start</th>\n",
       "      <th>p_name_start</th>\n",
       "      <th>longitude_start</th>\n",
       "      <th>datetime_end</th>\n",
       "      <th>latitude_end</th>\n",
       "      <th>p_name_end</th>\n",
       "      <th>longitude_end</th>\n",
       "      <th>trip_duration</th>\n",
       "      <th>distance</th>\n",
       "      <th>weekday</th>\n",
       "      <th>weekend</th>\n",
       "      <th>day</th>\n",
       "      <th>month</th>\n",
       "      <th>hour</th>\n",
       "      <th>geometry</th>\n",
       "    </tr>\n",
       "  </thead>\n",
       "  <tbody>\n",
       "    <tr>\n",
       "      <th>0</th>\n",
       "      <td>2019-01-20 16:22:00</td>\n",
       "      <td>50641</td>\n",
       "      <td>51.506312</td>\n",
       "      <td>Hainallee / Südbad</td>\n",
       "      <td>7.470531</td>\n",
       "      <td>2019-01-20 17:00:00</td>\n",
       "      <td>51.493966</td>\n",
       "      <td>TU Dortmund Emil-Figge-Straße 50</td>\n",
       "      <td>7.418008</td>\n",
       "      <td>38</td>\n",
       "      <td>3.897290</td>\n",
       "      <td>6</td>\n",
       "      <td>True</td>\n",
       "      <td>20</td>\n",
       "      <td>1</td>\n",
       "      <td>16</td>\n",
       "      <td>POINT (7.470531463623098 51.506311756219)</td>\n",
       "    </tr>\n",
       "    <tr>\n",
       "      <th>1</th>\n",
       "      <td>2019-01-20 02:31:00</td>\n",
       "      <td>50425</td>\n",
       "      <td>51.517155</td>\n",
       "      <td>Hauptbahnhof/Bahnhofsvorplatz</td>\n",
       "      <td>7.459931</td>\n",
       "      <td>2019-01-20 02:43:00</td>\n",
       "      <td>51.513069</td>\n",
       "      <td>Unionstr.</td>\n",
       "      <td>7.448886</td>\n",
       "      <td>12</td>\n",
       "      <td>0.891383</td>\n",
       "      <td>6</td>\n",
       "      <td>True</td>\n",
       "      <td>20</td>\n",
       "      <td>1</td>\n",
       "      <td>2</td>\n",
       "      <td>POINT (7.459931373596199 51.517155427985)</td>\n",
       "    </tr>\n",
       "    <tr>\n",
       "      <th>2</th>\n",
       "      <td>2019-01-20 11:32:00</td>\n",
       "      <td>53006</td>\n",
       "      <td>51.509557</td>\n",
       "      <td>Ritterhausstr.</td>\n",
       "      <td>7.446949</td>\n",
       "      <td>2019-01-20 13:33:00</td>\n",
       "      <td>51.517155</td>\n",
       "      <td>Hauptbahnhof/Bahnhofsvorplatz</td>\n",
       "      <td>7.459931</td>\n",
       "      <td>121</td>\n",
       "      <td>1.235649</td>\n",
       "      <td>6</td>\n",
       "      <td>True</td>\n",
       "      <td>20</td>\n",
       "      <td>1</td>\n",
       "      <td>11</td>\n",
       "      <td>POINT (7.4469494819641 51.50955711581999)</td>\n",
       "    </tr>\n",
       "    <tr>\n",
       "      <th>3</th>\n",
       "      <td>2019-01-20 14:38:00</td>\n",
       "      <td>53006</td>\n",
       "      <td>51.517155</td>\n",
       "      <td>Hauptbahnhof/Bahnhofsvorplatz</td>\n",
       "      <td>7.459931</td>\n",
       "      <td>2019-01-20 14:53:00</td>\n",
       "      <td>51.500725</td>\n",
       "      <td>Polizeipräsidium</td>\n",
       "      <td>7.459819</td>\n",
       "      <td>15</td>\n",
       "      <td>1.827997</td>\n",
       "      <td>6</td>\n",
       "      <td>True</td>\n",
       "      <td>20</td>\n",
       "      <td>1</td>\n",
       "      <td>14</td>\n",
       "      <td>POINT (7.459931373596199 51.517155427985)</td>\n",
       "    </tr>\n",
       "    <tr>\n",
       "      <th>4</th>\n",
       "      <td>2019-01-20 17:02:00</td>\n",
       "      <td>53006</td>\n",
       "      <td>51.500725</td>\n",
       "      <td>Polizeipräsidium</td>\n",
       "      <td>7.459819</td>\n",
       "      <td>2019-01-20 17:16:00</td>\n",
       "      <td>51.514029</td>\n",
       "      <td>Schwanenwall</td>\n",
       "      <td>7.472570</td>\n",
       "      <td>14</td>\n",
       "      <td>1.724677</td>\n",
       "      <td>6</td>\n",
       "      <td>True</td>\n",
       "      <td>20</td>\n",
       "      <td>1</td>\n",
       "      <td>17</td>\n",
       "      <td>POINT (7.4598187208176 51.500725323279)</td>\n",
       "    </tr>\n",
       "  </tbody>\n",
       "</table>\n",
       "</div>"
      ],
      "text/plain": [
       "        datetime_start  b_number_start  latitude_start  \\\n",
       "0  2019-01-20 16:22:00           50641       51.506312   \n",
       "1  2019-01-20 02:31:00           50425       51.517155   \n",
       "2  2019-01-20 11:32:00           53006       51.509557   \n",
       "3  2019-01-20 14:38:00           53006       51.517155   \n",
       "4  2019-01-20 17:02:00           53006       51.500725   \n",
       "\n",
       "                    p_name_start  longitude_start         datetime_end  \\\n",
       "0             Hainallee / Südbad         7.470531  2019-01-20 17:00:00   \n",
       "1  Hauptbahnhof/Bahnhofsvorplatz         7.459931  2019-01-20 02:43:00   \n",
       "2                 Ritterhausstr.         7.446949  2019-01-20 13:33:00   \n",
       "3  Hauptbahnhof/Bahnhofsvorplatz         7.459931  2019-01-20 14:53:00   \n",
       "4               Polizeipräsidium         7.459819  2019-01-20 17:16:00   \n",
       "\n",
       "   latitude_end                        p_name_end  longitude_end  \\\n",
       "0     51.493966  TU Dortmund Emil-Figge-Straße 50       7.418008   \n",
       "1     51.513069                         Unionstr.       7.448886   \n",
       "2     51.517155     Hauptbahnhof/Bahnhofsvorplatz       7.459931   \n",
       "3     51.500725                  Polizeipräsidium       7.459819   \n",
       "4     51.514029                      Schwanenwall       7.472570   \n",
       "\n",
       "   trip_duration  distance  weekday  weekend  day  month  hour  \\\n",
       "0             38  3.897290        6     True   20      1    16   \n",
       "1             12  0.891383        6     True   20      1     2   \n",
       "2            121  1.235649        6     True   20      1    11   \n",
       "3             15  1.827997        6     True   20      1    14   \n",
       "4             14  1.724677        6     True   20      1    17   \n",
       "\n",
       "                                    geometry  \n",
       "0  POINT (7.470531463623098 51.506311756219)  \n",
       "1  POINT (7.459931373596199 51.517155427985)  \n",
       "2  POINT (7.4469494819641 51.50955711581999)  \n",
       "3  POINT (7.459931373596199 51.517155427985)  \n",
       "4    POINT (7.4598187208176 51.500725323279)  "
      ]
     },
     "execution_count": 70,
     "metadata": {},
     "output_type": "execute_result"
    }
   ],
   "source": [
    "df.head()"
   ]
  },
  {
   "cell_type": "code",
   "execution_count": 71,
   "metadata": {},
   "outputs": [],
   "source": [
    "# get geodata of germany (postal codes and their areas/polygons)\n",
    "districts_germany = gpd.read_file(\"../data/external/germany_postalcodes.geojson\")\n",
    "# filter for districts of dortmund\n",
    "districts_dortmund = districts_germany[districts_germany[\"note\"].str.contains(\"Dortmund\")]\n",
    "    "
   ]
  },
  {
   "cell_type": "code",
   "execution_count": 72,
   "metadata": {},
   "outputs": [],
   "source": [
    "#convert dataset of trips to geodataframe (so it can be merged later with the geodataframe of dortmund)\n",
    "geo_df = gpd.GeoDataFrame(df, crs={'init': 'epsg:4326'}, geometry=df.geometry)\n",
    "    \n"
   ]
  },
  {
   "cell_type": "code",
   "execution_count": 73,
   "metadata": {},
   "outputs": [],
   "source": [
    "# join the data\n",
    "# mrges data when POINT of trips is within POLYGON of a dortmund district\n",
    "df_with_postalcode = gpd.sjoin(geo_df, districts_dortmund, how='left', op='within')\n",
    "    "
   ]
  },
  {
   "cell_type": "code",
   "execution_count": 74,
   "metadata": {},
   "outputs": [
    {
     "data": {
      "text/html": [
       "<div>\n",
       "<style scoped>\n",
       "    .dataframe tbody tr th:only-of-type {\n",
       "        vertical-align: middle;\n",
       "    }\n",
       "\n",
       "    .dataframe tbody tr th {\n",
       "        vertical-align: top;\n",
       "    }\n",
       "\n",
       "    .dataframe thead th {\n",
       "        text-align: right;\n",
       "    }\n",
       "</style>\n",
       "<table border=\"1\" class=\"dataframe\">\n",
       "  <thead>\n",
       "    <tr style=\"text-align: right;\">\n",
       "      <th></th>\n",
       "      <th>datetime_start</th>\n",
       "      <th>b_number_start</th>\n",
       "      <th>latitude_start</th>\n",
       "      <th>p_name_start</th>\n",
       "      <th>longitude_start</th>\n",
       "      <th>datetime_end</th>\n",
       "      <th>latitude_end</th>\n",
       "      <th>p_name_end</th>\n",
       "      <th>longitude_end</th>\n",
       "      <th>trip_duration</th>\n",
       "      <th>...</th>\n",
       "      <th>weekend</th>\n",
       "      <th>day</th>\n",
       "      <th>month</th>\n",
       "      <th>hour</th>\n",
       "      <th>geometry</th>\n",
       "      <th>index_right</th>\n",
       "      <th>plz</th>\n",
       "      <th>note</th>\n",
       "      <th>qkm</th>\n",
       "      <th>einwohner</th>\n",
       "    </tr>\n",
       "  </thead>\n",
       "  <tbody>\n",
       "    <tr>\n",
       "      <th>0</th>\n",
       "      <td>2019-01-20 16:22:00</td>\n",
       "      <td>50641</td>\n",
       "      <td>51.506312</td>\n",
       "      <td>Hainallee / Südbad</td>\n",
       "      <td>7.470531</td>\n",
       "      <td>2019-01-20 17:00:00</td>\n",
       "      <td>51.493966</td>\n",
       "      <td>TU Dortmund Emil-Figge-Straße 50</td>\n",
       "      <td>7.418008</td>\n",
       "      <td>38</td>\n",
       "      <td>...</td>\n",
       "      <td>True</td>\n",
       "      <td>20</td>\n",
       "      <td>1</td>\n",
       "      <td>16</td>\n",
       "      <td>POINT (7.47053 51.50631)</td>\n",
       "      <td>3073</td>\n",
       "      <td>44139</td>\n",
       "      <td>44139 Dortmund</td>\n",
       "      <td>4.896154</td>\n",
       "      <td>19843</td>\n",
       "    </tr>\n",
       "    <tr>\n",
       "      <th>1</th>\n",
       "      <td>2019-01-20 02:31:00</td>\n",
       "      <td>50425</td>\n",
       "      <td>51.517155</td>\n",
       "      <td>Hauptbahnhof/Bahnhofsvorplatz</td>\n",
       "      <td>7.459931</td>\n",
       "      <td>2019-01-20 02:43:00</td>\n",
       "      <td>51.513069</td>\n",
       "      <td>Unionstr.</td>\n",
       "      <td>7.448886</td>\n",
       "      <td>12</td>\n",
       "      <td>...</td>\n",
       "      <td>True</td>\n",
       "      <td>20</td>\n",
       "      <td>1</td>\n",
       "      <td>2</td>\n",
       "      <td>POINT (7.45993 51.51716)</td>\n",
       "      <td>3072</td>\n",
       "      <td>44137</td>\n",
       "      <td>44137 Dortmund</td>\n",
       "      <td>3.281205</td>\n",
       "      <td>21573</td>\n",
       "    </tr>\n",
       "    <tr>\n",
       "      <th>2</th>\n",
       "      <td>2019-01-20 11:32:00</td>\n",
       "      <td>53006</td>\n",
       "      <td>51.509557</td>\n",
       "      <td>Ritterhausstr.</td>\n",
       "      <td>7.446949</td>\n",
       "      <td>2019-01-20 13:33:00</td>\n",
       "      <td>51.517155</td>\n",
       "      <td>Hauptbahnhof/Bahnhofsvorplatz</td>\n",
       "      <td>7.459931</td>\n",
       "      <td>121</td>\n",
       "      <td>...</td>\n",
       "      <td>True</td>\n",
       "      <td>20</td>\n",
       "      <td>1</td>\n",
       "      <td>11</td>\n",
       "      <td>POINT (7.44695 51.50956)</td>\n",
       "      <td>3072</td>\n",
       "      <td>44137</td>\n",
       "      <td>44137 Dortmund</td>\n",
       "      <td>3.281205</td>\n",
       "      <td>21573</td>\n",
       "    </tr>\n",
       "    <tr>\n",
       "      <th>3</th>\n",
       "      <td>2019-01-20 14:38:00</td>\n",
       "      <td>53006</td>\n",
       "      <td>51.517155</td>\n",
       "      <td>Hauptbahnhof/Bahnhofsvorplatz</td>\n",
       "      <td>7.459931</td>\n",
       "      <td>2019-01-20 14:53:00</td>\n",
       "      <td>51.500725</td>\n",
       "      <td>Polizeipräsidium</td>\n",
       "      <td>7.459819</td>\n",
       "      <td>15</td>\n",
       "      <td>...</td>\n",
       "      <td>True</td>\n",
       "      <td>20</td>\n",
       "      <td>1</td>\n",
       "      <td>14</td>\n",
       "      <td>POINT (7.45993 51.51716)</td>\n",
       "      <td>3072</td>\n",
       "      <td>44137</td>\n",
       "      <td>44137 Dortmund</td>\n",
       "      <td>3.281205</td>\n",
       "      <td>21573</td>\n",
       "    </tr>\n",
       "    <tr>\n",
       "      <th>4</th>\n",
       "      <td>2019-01-20 17:02:00</td>\n",
       "      <td>53006</td>\n",
       "      <td>51.500725</td>\n",
       "      <td>Polizeipräsidium</td>\n",
       "      <td>7.459819</td>\n",
       "      <td>2019-01-20 17:16:00</td>\n",
       "      <td>51.514029</td>\n",
       "      <td>Schwanenwall</td>\n",
       "      <td>7.472570</td>\n",
       "      <td>14</td>\n",
       "      <td>...</td>\n",
       "      <td>True</td>\n",
       "      <td>20</td>\n",
       "      <td>1</td>\n",
       "      <td>17</td>\n",
       "      <td>POINT (7.45982 51.50073)</td>\n",
       "      <td>3073</td>\n",
       "      <td>44139</td>\n",
       "      <td>44139 Dortmund</td>\n",
       "      <td>4.896154</td>\n",
       "      <td>19843</td>\n",
       "    </tr>\n",
       "  </tbody>\n",
       "</table>\n",
       "<p>5 rows × 22 columns</p>\n",
       "</div>"
      ],
      "text/plain": [
       "        datetime_start  b_number_start  latitude_start  \\\n",
       "0  2019-01-20 16:22:00           50641       51.506312   \n",
       "1  2019-01-20 02:31:00           50425       51.517155   \n",
       "2  2019-01-20 11:32:00           53006       51.509557   \n",
       "3  2019-01-20 14:38:00           53006       51.517155   \n",
       "4  2019-01-20 17:02:00           53006       51.500725   \n",
       "\n",
       "                    p_name_start  longitude_start         datetime_end  \\\n",
       "0             Hainallee / Südbad         7.470531  2019-01-20 17:00:00   \n",
       "1  Hauptbahnhof/Bahnhofsvorplatz         7.459931  2019-01-20 02:43:00   \n",
       "2                 Ritterhausstr.         7.446949  2019-01-20 13:33:00   \n",
       "3  Hauptbahnhof/Bahnhofsvorplatz         7.459931  2019-01-20 14:53:00   \n",
       "4               Polizeipräsidium         7.459819  2019-01-20 17:16:00   \n",
       "\n",
       "   latitude_end                        p_name_end  longitude_end  \\\n",
       "0     51.493966  TU Dortmund Emil-Figge-Straße 50       7.418008   \n",
       "1     51.513069                         Unionstr.       7.448886   \n",
       "2     51.517155     Hauptbahnhof/Bahnhofsvorplatz       7.459931   \n",
       "3     51.500725                  Polizeipräsidium       7.459819   \n",
       "4     51.514029                      Schwanenwall       7.472570   \n",
       "\n",
       "   trip_duration  ...  weekend  day  month  hour                  geometry  \\\n",
       "0             38  ...     True   20      1    16  POINT (7.47053 51.50631)   \n",
       "1             12  ...     True   20      1     2  POINT (7.45993 51.51716)   \n",
       "2            121  ...     True   20      1    11  POINT (7.44695 51.50956)   \n",
       "3             15  ...     True   20      1    14  POINT (7.45993 51.51716)   \n",
       "4             14  ...     True   20      1    17  POINT (7.45982 51.50073)   \n",
       "\n",
       "   index_right    plz            note       qkm einwohner  \n",
       "0         3073  44139  44139 Dortmund  4.896154     19843  \n",
       "1         3072  44137  44137 Dortmund  3.281205     21573  \n",
       "2         3072  44137  44137 Dortmund  3.281205     21573  \n",
       "3         3072  44137  44137 Dortmund  3.281205     21573  \n",
       "4         3073  44139  44139 Dortmund  4.896154     19843  \n",
       "\n",
       "[5 rows x 22 columns]"
      ]
     },
     "execution_count": 74,
     "metadata": {},
     "output_type": "execute_result"
    }
   ],
   "source": [
    "df_with_postalcode.head()"
   ]
  },
  {
   "cell_type": "code",
   "execution_count": 93,
   "metadata": {},
   "outputs": [],
   "source": [
    "#stations = pd.read_csv(\"../data/external/stations.csv\")\n",
    "#stations.head()\n",
    "\n",
    "# TODO: calculate the center of the university stations\n",
    "\n",
    "#these are currently the coordinates of TU Dortmund Hörsaalgebäude 2\n",
    "def calculate_distanceToUniversity(row):\n",
    "    university_center_lat = 51.492296\n",
    "    university_center_lon = 7.41273 \n",
    "    \n",
    "    distance = vincenty([row[\"latitude_start\"], row[\"longitude_start\"]], [university_center_lat, university_center_lon],)\n",
    "    \n",
    "    return distance"
   ]
  },
  {
   "cell_type": "code",
   "execution_count": 94,
   "metadata": {},
   "outputs": [],
   "source": [
    "# adding the distance between start position and the center of the university\n",
    "df_with_postalcode[\"distanceToUniversity\"] = df_with_postalcode.apply(calculate_distanceToUniversity,axis=1)"
   ]
  },
  {
   "cell_type": "code",
   "execution_count": 95,
   "metadata": {},
   "outputs": [
    {
     "data": {
      "text/html": [
       "<div>\n",
       "<style scoped>\n",
       "    .dataframe tbody tr th:only-of-type {\n",
       "        vertical-align: middle;\n",
       "    }\n",
       "\n",
       "    .dataframe tbody tr th {\n",
       "        vertical-align: top;\n",
       "    }\n",
       "\n",
       "    .dataframe thead th {\n",
       "        text-align: right;\n",
       "    }\n",
       "</style>\n",
       "<table border=\"1\" class=\"dataframe\">\n",
       "  <thead>\n",
       "    <tr style=\"text-align: right;\">\n",
       "      <th></th>\n",
       "      <th>datetime_start</th>\n",
       "      <th>b_number_start</th>\n",
       "      <th>latitude_start</th>\n",
       "      <th>p_name_start</th>\n",
       "      <th>longitude_start</th>\n",
       "      <th>datetime_end</th>\n",
       "      <th>latitude_end</th>\n",
       "      <th>p_name_end</th>\n",
       "      <th>longitude_end</th>\n",
       "      <th>trip_duration</th>\n",
       "      <th>...</th>\n",
       "      <th>day</th>\n",
       "      <th>month</th>\n",
       "      <th>hour</th>\n",
       "      <th>geometry</th>\n",
       "      <th>index_right</th>\n",
       "      <th>plz</th>\n",
       "      <th>note</th>\n",
       "      <th>qkm</th>\n",
       "      <th>einwohner</th>\n",
       "      <th>distanceToUniversity</th>\n",
       "    </tr>\n",
       "  </thead>\n",
       "  <tbody>\n",
       "    <tr>\n",
       "      <th>0</th>\n",
       "      <td>2019-01-20 16:22:00</td>\n",
       "      <td>50641</td>\n",
       "      <td>51.506312</td>\n",
       "      <td>Hainallee / Südbad</td>\n",
       "      <td>7.470531</td>\n",
       "      <td>2019-01-20 17:00:00</td>\n",
       "      <td>51.493966</td>\n",
       "      <td>TU Dortmund Emil-Figge-Straße 50</td>\n",
       "      <td>7.418008</td>\n",
       "      <td>38</td>\n",
       "      <td>...</td>\n",
       "      <td>20</td>\n",
       "      <td>1</td>\n",
       "      <td>16</td>\n",
       "      <td>POINT (7.47053 51.50631)</td>\n",
       "      <td>3073</td>\n",
       "      <td>44139</td>\n",
       "      <td>44139 Dortmund</td>\n",
       "      <td>4.896154</td>\n",
       "      <td>19843</td>\n",
       "      <td>4.306089</td>\n",
       "    </tr>\n",
       "    <tr>\n",
       "      <th>1</th>\n",
       "      <td>2019-01-20 02:31:00</td>\n",
       "      <td>50425</td>\n",
       "      <td>51.517155</td>\n",
       "      <td>Hauptbahnhof/Bahnhofsvorplatz</td>\n",
       "      <td>7.459931</td>\n",
       "      <td>2019-01-20 02:43:00</td>\n",
       "      <td>51.513069</td>\n",
       "      <td>Unionstr.</td>\n",
       "      <td>7.448886</td>\n",
       "      <td>12</td>\n",
       "      <td>...</td>\n",
       "      <td>20</td>\n",
       "      <td>1</td>\n",
       "      <td>2</td>\n",
       "      <td>POINT (7.45993 51.51716)</td>\n",
       "      <td>3072</td>\n",
       "      <td>44137</td>\n",
       "      <td>44137 Dortmund</td>\n",
       "      <td>3.281205</td>\n",
       "      <td>21573</td>\n",
       "      <td>4.288439</td>\n",
       "    </tr>\n",
       "    <tr>\n",
       "      <th>2</th>\n",
       "      <td>2019-01-20 11:32:00</td>\n",
       "      <td>53006</td>\n",
       "      <td>51.509557</td>\n",
       "      <td>Ritterhausstr.</td>\n",
       "      <td>7.446949</td>\n",
       "      <td>2019-01-20 13:33:00</td>\n",
       "      <td>51.517155</td>\n",
       "      <td>Hauptbahnhof/Bahnhofsvorplatz</td>\n",
       "      <td>7.459931</td>\n",
       "      <td>121</td>\n",
       "      <td>...</td>\n",
       "      <td>20</td>\n",
       "      <td>1</td>\n",
       "      <td>11</td>\n",
       "      <td>POINT (7.44695 51.50956)</td>\n",
       "      <td>3072</td>\n",
       "      <td>44137</td>\n",
       "      <td>44137 Dortmund</td>\n",
       "      <td>3.281205</td>\n",
       "      <td>21573</td>\n",
       "      <td>3.055201</td>\n",
       "    </tr>\n",
       "    <tr>\n",
       "      <th>3</th>\n",
       "      <td>2019-01-20 14:38:00</td>\n",
       "      <td>53006</td>\n",
       "      <td>51.517155</td>\n",
       "      <td>Hauptbahnhof/Bahnhofsvorplatz</td>\n",
       "      <td>7.459931</td>\n",
       "      <td>2019-01-20 14:53:00</td>\n",
       "      <td>51.500725</td>\n",
       "      <td>Polizeipräsidium</td>\n",
       "      <td>7.459819</td>\n",
       "      <td>15</td>\n",
       "      <td>...</td>\n",
       "      <td>20</td>\n",
       "      <td>1</td>\n",
       "      <td>14</td>\n",
       "      <td>POINT (7.45993 51.51716)</td>\n",
       "      <td>3072</td>\n",
       "      <td>44137</td>\n",
       "      <td>44137 Dortmund</td>\n",
       "      <td>3.281205</td>\n",
       "      <td>21573</td>\n",
       "      <td>4.288439</td>\n",
       "    </tr>\n",
       "    <tr>\n",
       "      <th>4</th>\n",
       "      <td>2019-01-20 17:02:00</td>\n",
       "      <td>53006</td>\n",
       "      <td>51.500725</td>\n",
       "      <td>Polizeipräsidium</td>\n",
       "      <td>7.459819</td>\n",
       "      <td>2019-01-20 17:16:00</td>\n",
       "      <td>51.514029</td>\n",
       "      <td>Schwanenwall</td>\n",
       "      <td>7.472570</td>\n",
       "      <td>14</td>\n",
       "      <td>...</td>\n",
       "      <td>20</td>\n",
       "      <td>1</td>\n",
       "      <td>17</td>\n",
       "      <td>POINT (7.45982 51.50073)</td>\n",
       "      <td>3073</td>\n",
       "      <td>44139</td>\n",
       "      <td>44139 Dortmund</td>\n",
       "      <td>4.896154</td>\n",
       "      <td>19843</td>\n",
       "      <td>3.401936</td>\n",
       "    </tr>\n",
       "  </tbody>\n",
       "</table>\n",
       "<p>5 rows × 23 columns</p>\n",
       "</div>"
      ],
      "text/plain": [
       "        datetime_start  b_number_start  latitude_start  \\\n",
       "0  2019-01-20 16:22:00           50641       51.506312   \n",
       "1  2019-01-20 02:31:00           50425       51.517155   \n",
       "2  2019-01-20 11:32:00           53006       51.509557   \n",
       "3  2019-01-20 14:38:00           53006       51.517155   \n",
       "4  2019-01-20 17:02:00           53006       51.500725   \n",
       "\n",
       "                    p_name_start  longitude_start         datetime_end  \\\n",
       "0             Hainallee / Südbad         7.470531  2019-01-20 17:00:00   \n",
       "1  Hauptbahnhof/Bahnhofsvorplatz         7.459931  2019-01-20 02:43:00   \n",
       "2                 Ritterhausstr.         7.446949  2019-01-20 13:33:00   \n",
       "3  Hauptbahnhof/Bahnhofsvorplatz         7.459931  2019-01-20 14:53:00   \n",
       "4               Polizeipräsidium         7.459819  2019-01-20 17:16:00   \n",
       "\n",
       "   latitude_end                        p_name_end  longitude_end  \\\n",
       "0     51.493966  TU Dortmund Emil-Figge-Straße 50       7.418008   \n",
       "1     51.513069                         Unionstr.       7.448886   \n",
       "2     51.517155     Hauptbahnhof/Bahnhofsvorplatz       7.459931   \n",
       "3     51.500725                  Polizeipräsidium       7.459819   \n",
       "4     51.514029                      Schwanenwall       7.472570   \n",
       "\n",
       "   trip_duration  ...  day  month  hour                  geometry  \\\n",
       "0             38  ...   20      1    16  POINT (7.47053 51.50631)   \n",
       "1             12  ...   20      1     2  POINT (7.45993 51.51716)   \n",
       "2            121  ...   20      1    11  POINT (7.44695 51.50956)   \n",
       "3             15  ...   20      1    14  POINT (7.45993 51.51716)   \n",
       "4             14  ...   20      1    17  POINT (7.45982 51.50073)   \n",
       "\n",
       "   index_right    plz            note       qkm einwohner distanceToUniversity  \n",
       "0         3073  44139  44139 Dortmund  4.896154     19843             4.306089  \n",
       "1         3072  44137  44137 Dortmund  3.281205     21573             4.288439  \n",
       "2         3072  44137  44137 Dortmund  3.281205     21573             3.055201  \n",
       "3         3072  44137  44137 Dortmund  3.281205     21573             4.288439  \n",
       "4         3073  44139  44139 Dortmund  4.896154     19843             3.401936  \n",
       "\n",
       "[5 rows x 23 columns]"
      ]
     },
     "execution_count": 95,
     "metadata": {},
     "output_type": "execute_result"
    }
   ],
   "source": [
    "df_with_postalcode.head()"
   ]
  },
  {
   "cell_type": "code",
   "execution_count": 96,
   "metadata": {},
   "outputs": [],
   "source": [
    "university_stations = [\"TU Dortmund Seminarraumgebäude 1\", \"TU Dortmund Hörsaalgebäude 2\", \"Universität/S-Bahnhof\", \"TU Dortmund Emil-Figge-Straße 50\", \"FH-Dortmund Emil-Figge-Straße 42\"]"
   ]
  },
  {
   "cell_type": "code",
   "execution_count": 99,
   "metadata": {},
   "outputs": [],
   "source": [
    "df_with_postalcode['towardsUniversity'] = df_with_postalcode['p_name_end'].apply(lambda x: 1 if x in university_stations else 0)"
   ]
  },
  {
   "cell_type": "code",
   "execution_count": 100,
   "metadata": {},
   "outputs": [],
   "source": [
    "df_with_postalcode['awayFromUniveristy'] = df_with_postalcode['p_name_start'].apply(lambda x: 1 if x in university_stations else 0)"
   ]
  },
  {
   "cell_type": "code",
   "execution_count": 101,
   "metadata": {},
   "outputs": [
    {
     "data": {
      "text/html": [
       "<div>\n",
       "<style scoped>\n",
       "    .dataframe tbody tr th:only-of-type {\n",
       "        vertical-align: middle;\n",
       "    }\n",
       "\n",
       "    .dataframe tbody tr th {\n",
       "        vertical-align: top;\n",
       "    }\n",
       "\n",
       "    .dataframe thead th {\n",
       "        text-align: right;\n",
       "    }\n",
       "</style>\n",
       "<table border=\"1\" class=\"dataframe\">\n",
       "  <thead>\n",
       "    <tr style=\"text-align: right;\">\n",
       "      <th></th>\n",
       "      <th>datetime_start</th>\n",
       "      <th>b_number_start</th>\n",
       "      <th>latitude_start</th>\n",
       "      <th>p_name_start</th>\n",
       "      <th>longitude_start</th>\n",
       "      <th>datetime_end</th>\n",
       "      <th>latitude_end</th>\n",
       "      <th>p_name_end</th>\n",
       "      <th>longitude_end</th>\n",
       "      <th>trip_duration</th>\n",
       "      <th>...</th>\n",
       "      <th>hour</th>\n",
       "      <th>geometry</th>\n",
       "      <th>index_right</th>\n",
       "      <th>plz</th>\n",
       "      <th>note</th>\n",
       "      <th>qkm</th>\n",
       "      <th>einwohner</th>\n",
       "      <th>distanceToUniversity</th>\n",
       "      <th>towardsUniversity</th>\n",
       "      <th>awayFromUniveristy</th>\n",
       "    </tr>\n",
       "  </thead>\n",
       "  <tbody>\n",
       "    <tr>\n",
       "      <th>0</th>\n",
       "      <td>2019-01-20 16:22:00</td>\n",
       "      <td>50641</td>\n",
       "      <td>51.506312</td>\n",
       "      <td>Hainallee / Südbad</td>\n",
       "      <td>7.470531</td>\n",
       "      <td>2019-01-20 17:00:00</td>\n",
       "      <td>51.493966</td>\n",
       "      <td>TU Dortmund Emil-Figge-Straße 50</td>\n",
       "      <td>7.418008</td>\n",
       "      <td>38</td>\n",
       "      <td>...</td>\n",
       "      <td>16</td>\n",
       "      <td>POINT (7.47053 51.50631)</td>\n",
       "      <td>3073</td>\n",
       "      <td>44139</td>\n",
       "      <td>44139 Dortmund</td>\n",
       "      <td>4.896154</td>\n",
       "      <td>19843</td>\n",
       "      <td>4.306089</td>\n",
       "      <td>1</td>\n",
       "      <td>0</td>\n",
       "    </tr>\n",
       "    <tr>\n",
       "      <th>1</th>\n",
       "      <td>2019-01-20 02:31:00</td>\n",
       "      <td>50425</td>\n",
       "      <td>51.517155</td>\n",
       "      <td>Hauptbahnhof/Bahnhofsvorplatz</td>\n",
       "      <td>7.459931</td>\n",
       "      <td>2019-01-20 02:43:00</td>\n",
       "      <td>51.513069</td>\n",
       "      <td>Unionstr.</td>\n",
       "      <td>7.448886</td>\n",
       "      <td>12</td>\n",
       "      <td>...</td>\n",
       "      <td>2</td>\n",
       "      <td>POINT (7.45993 51.51716)</td>\n",
       "      <td>3072</td>\n",
       "      <td>44137</td>\n",
       "      <td>44137 Dortmund</td>\n",
       "      <td>3.281205</td>\n",
       "      <td>21573</td>\n",
       "      <td>4.288439</td>\n",
       "      <td>0</td>\n",
       "      <td>0</td>\n",
       "    </tr>\n",
       "    <tr>\n",
       "      <th>2</th>\n",
       "      <td>2019-01-20 11:32:00</td>\n",
       "      <td>53006</td>\n",
       "      <td>51.509557</td>\n",
       "      <td>Ritterhausstr.</td>\n",
       "      <td>7.446949</td>\n",
       "      <td>2019-01-20 13:33:00</td>\n",
       "      <td>51.517155</td>\n",
       "      <td>Hauptbahnhof/Bahnhofsvorplatz</td>\n",
       "      <td>7.459931</td>\n",
       "      <td>121</td>\n",
       "      <td>...</td>\n",
       "      <td>11</td>\n",
       "      <td>POINT (7.44695 51.50956)</td>\n",
       "      <td>3072</td>\n",
       "      <td>44137</td>\n",
       "      <td>44137 Dortmund</td>\n",
       "      <td>3.281205</td>\n",
       "      <td>21573</td>\n",
       "      <td>3.055201</td>\n",
       "      <td>0</td>\n",
       "      <td>0</td>\n",
       "    </tr>\n",
       "    <tr>\n",
       "      <th>3</th>\n",
       "      <td>2019-01-20 14:38:00</td>\n",
       "      <td>53006</td>\n",
       "      <td>51.517155</td>\n",
       "      <td>Hauptbahnhof/Bahnhofsvorplatz</td>\n",
       "      <td>7.459931</td>\n",
       "      <td>2019-01-20 14:53:00</td>\n",
       "      <td>51.500725</td>\n",
       "      <td>Polizeipräsidium</td>\n",
       "      <td>7.459819</td>\n",
       "      <td>15</td>\n",
       "      <td>...</td>\n",
       "      <td>14</td>\n",
       "      <td>POINT (7.45993 51.51716)</td>\n",
       "      <td>3072</td>\n",
       "      <td>44137</td>\n",
       "      <td>44137 Dortmund</td>\n",
       "      <td>3.281205</td>\n",
       "      <td>21573</td>\n",
       "      <td>4.288439</td>\n",
       "      <td>0</td>\n",
       "      <td>0</td>\n",
       "    </tr>\n",
       "    <tr>\n",
       "      <th>4</th>\n",
       "      <td>2019-01-20 17:02:00</td>\n",
       "      <td>53006</td>\n",
       "      <td>51.500725</td>\n",
       "      <td>Polizeipräsidium</td>\n",
       "      <td>7.459819</td>\n",
       "      <td>2019-01-20 17:16:00</td>\n",
       "      <td>51.514029</td>\n",
       "      <td>Schwanenwall</td>\n",
       "      <td>7.472570</td>\n",
       "      <td>14</td>\n",
       "      <td>...</td>\n",
       "      <td>17</td>\n",
       "      <td>POINT (7.45982 51.50073)</td>\n",
       "      <td>3073</td>\n",
       "      <td>44139</td>\n",
       "      <td>44139 Dortmund</td>\n",
       "      <td>4.896154</td>\n",
       "      <td>19843</td>\n",
       "      <td>3.401936</td>\n",
       "      <td>0</td>\n",
       "      <td>0</td>\n",
       "    </tr>\n",
       "  </tbody>\n",
       "</table>\n",
       "<p>5 rows × 25 columns</p>\n",
       "</div>"
      ],
      "text/plain": [
       "        datetime_start  b_number_start  latitude_start  \\\n",
       "0  2019-01-20 16:22:00           50641       51.506312   \n",
       "1  2019-01-20 02:31:00           50425       51.517155   \n",
       "2  2019-01-20 11:32:00           53006       51.509557   \n",
       "3  2019-01-20 14:38:00           53006       51.517155   \n",
       "4  2019-01-20 17:02:00           53006       51.500725   \n",
       "\n",
       "                    p_name_start  longitude_start         datetime_end  \\\n",
       "0             Hainallee / Südbad         7.470531  2019-01-20 17:00:00   \n",
       "1  Hauptbahnhof/Bahnhofsvorplatz         7.459931  2019-01-20 02:43:00   \n",
       "2                 Ritterhausstr.         7.446949  2019-01-20 13:33:00   \n",
       "3  Hauptbahnhof/Bahnhofsvorplatz         7.459931  2019-01-20 14:53:00   \n",
       "4               Polizeipräsidium         7.459819  2019-01-20 17:16:00   \n",
       "\n",
       "   latitude_end                        p_name_end  longitude_end  \\\n",
       "0     51.493966  TU Dortmund Emil-Figge-Straße 50       7.418008   \n",
       "1     51.513069                         Unionstr.       7.448886   \n",
       "2     51.517155     Hauptbahnhof/Bahnhofsvorplatz       7.459931   \n",
       "3     51.500725                  Polizeipräsidium       7.459819   \n",
       "4     51.514029                      Schwanenwall       7.472570   \n",
       "\n",
       "   trip_duration  ...  hour                  geometry  index_right    plz  \\\n",
       "0             38  ...    16  POINT (7.47053 51.50631)         3073  44139   \n",
       "1             12  ...     2  POINT (7.45993 51.51716)         3072  44137   \n",
       "2            121  ...    11  POINT (7.44695 51.50956)         3072  44137   \n",
       "3             15  ...    14  POINT (7.45993 51.51716)         3072  44137   \n",
       "4             14  ...    17  POINT (7.45982 51.50073)         3073  44139   \n",
       "\n",
       "             note       qkm einwohner  distanceToUniversity towardsUniversity  \\\n",
       "0  44139 Dortmund  4.896154     19843              4.306089                 1   \n",
       "1  44137 Dortmund  3.281205     21573              4.288439                 0   \n",
       "2  44137 Dortmund  3.281205     21573              3.055201                 0   \n",
       "3  44137 Dortmund  3.281205     21573              4.288439                 0   \n",
       "4  44139 Dortmund  4.896154     19843              3.401936                 0   \n",
       "\n",
       "  awayFromUniveristy  \n",
       "0                  0  \n",
       "1                  0  \n",
       "2                  0  \n",
       "3                  0  \n",
       "4                  0  \n",
       "\n",
       "[5 rows x 25 columns]"
      ]
     },
     "execution_count": 101,
     "metadata": {},
     "output_type": "execute_result"
    }
   ],
   "source": [
    "df_with_postalcode.head()"
   ]
  },
  {
   "cell_type": "markdown",
   "metadata": {},
   "source": [
    "> There are also trips which were made from an university-station to another university-station"
   ]
  },
  {
   "cell_type": "markdown",
   "metadata": {},
   "source": [
    "Create (multi-class) attribute: TowardsUniversity, AwayFromUniversity, FromUniversityToUniversity, NoUniversityRide"
   ]
  },
  {
   "cell_type": "code",
   "execution_count": 102,
   "metadata": {},
   "outputs": [],
   "source": [
    "def get_tripLabel(row):\n",
    "    if ((row['towardsUniversity'] == 1) & (row['awayFromUniveristy'] == 0)):\n",
    "        return 'towardsUniversity'\n",
    "    if ((row['towardsUniversity'] == 0) & (row['awayFromUniveristy'] == 1)):\n",
    "        return 'awayFromUniveristy'\n",
    "    if ((row['towardsUniversity'] == 1) & (row['awayFromUniveristy'] == 1)):\n",
    "        return 'towardsUniversity'\n",
    "    if ((row['towardsUniversity'] == 0) & (row['awayFromUniveristy'] == 0)):\n",
    "        return 'noUniversityRide'\n",
    "    \n",
    "    warnings.warn(\"Warning...........Message\")\n",
    "    return None"
   ]
  },
  {
   "cell_type": "code",
   "execution_count": 103,
   "metadata": {},
   "outputs": [],
   "source": [
    "def get_startCoordinates(row):\n",
    "    startCoordinates = []\n",
    "    startCoordinates.append(row['latitude_start'])\n",
    "    startCoordinates.append(row['longitude_start'])\n",
    "    return startCoordinates"
   ]
  },
  {
   "cell_type": "code",
   "execution_count": 104,
   "metadata": {},
   "outputs": [],
   "source": [
    "df_with_postalcode['tripLabel'] = df_with_postalcode.apply(lambda row: get_tripLabel(row), axis=1)"
   ]
  },
  {
   "cell_type": "code",
   "execution_count": 12,
   "metadata": {},
   "outputs": [],
   "source": [
    "#df['startCoordinates'] = df.apply(lambda row: get_startCoordinates(row), axis=1)"
   ]
  },
  {
   "cell_type": "code",
   "execution_count": 105,
   "metadata": {},
   "outputs": [
    {
     "data": {
      "text/html": [
       "<div>\n",
       "<style scoped>\n",
       "    .dataframe tbody tr th:only-of-type {\n",
       "        vertical-align: middle;\n",
       "    }\n",
       "\n",
       "    .dataframe tbody tr th {\n",
       "        vertical-align: top;\n",
       "    }\n",
       "\n",
       "    .dataframe thead th {\n",
       "        text-align: right;\n",
       "    }\n",
       "</style>\n",
       "<table border=\"1\" class=\"dataframe\">\n",
       "  <thead>\n",
       "    <tr style=\"text-align: right;\">\n",
       "      <th></th>\n",
       "      <th>datetime_start</th>\n",
       "      <th>b_number_start</th>\n",
       "      <th>latitude_start</th>\n",
       "      <th>p_name_start</th>\n",
       "      <th>longitude_start</th>\n",
       "      <th>datetime_end</th>\n",
       "      <th>latitude_end</th>\n",
       "      <th>p_name_end</th>\n",
       "      <th>longitude_end</th>\n",
       "      <th>trip_duration</th>\n",
       "      <th>...</th>\n",
       "      <th>geometry</th>\n",
       "      <th>index_right</th>\n",
       "      <th>plz</th>\n",
       "      <th>note</th>\n",
       "      <th>qkm</th>\n",
       "      <th>einwohner</th>\n",
       "      <th>distanceToUniversity</th>\n",
       "      <th>towardsUniversity</th>\n",
       "      <th>awayFromUniveristy</th>\n",
       "      <th>tripLabel</th>\n",
       "    </tr>\n",
       "  </thead>\n",
       "  <tbody>\n",
       "    <tr>\n",
       "      <th>0</th>\n",
       "      <td>2019-01-20 16:22:00</td>\n",
       "      <td>50641</td>\n",
       "      <td>51.506312</td>\n",
       "      <td>Hainallee / Südbad</td>\n",
       "      <td>7.470531</td>\n",
       "      <td>2019-01-20 17:00:00</td>\n",
       "      <td>51.493966</td>\n",
       "      <td>TU Dortmund Emil-Figge-Straße 50</td>\n",
       "      <td>7.418008</td>\n",
       "      <td>38</td>\n",
       "      <td>...</td>\n",
       "      <td>POINT (7.47053 51.50631)</td>\n",
       "      <td>3073</td>\n",
       "      <td>44139</td>\n",
       "      <td>44139 Dortmund</td>\n",
       "      <td>4.896154</td>\n",
       "      <td>19843</td>\n",
       "      <td>4.306089</td>\n",
       "      <td>1</td>\n",
       "      <td>0</td>\n",
       "      <td>towardsUniversity</td>\n",
       "    </tr>\n",
       "    <tr>\n",
       "      <th>1</th>\n",
       "      <td>2019-01-20 02:31:00</td>\n",
       "      <td>50425</td>\n",
       "      <td>51.517155</td>\n",
       "      <td>Hauptbahnhof/Bahnhofsvorplatz</td>\n",
       "      <td>7.459931</td>\n",
       "      <td>2019-01-20 02:43:00</td>\n",
       "      <td>51.513069</td>\n",
       "      <td>Unionstr.</td>\n",
       "      <td>7.448886</td>\n",
       "      <td>12</td>\n",
       "      <td>...</td>\n",
       "      <td>POINT (7.45993 51.51716)</td>\n",
       "      <td>3072</td>\n",
       "      <td>44137</td>\n",
       "      <td>44137 Dortmund</td>\n",
       "      <td>3.281205</td>\n",
       "      <td>21573</td>\n",
       "      <td>4.288439</td>\n",
       "      <td>0</td>\n",
       "      <td>0</td>\n",
       "      <td>noUniversityRide</td>\n",
       "    </tr>\n",
       "    <tr>\n",
       "      <th>2</th>\n",
       "      <td>2019-01-20 11:32:00</td>\n",
       "      <td>53006</td>\n",
       "      <td>51.509557</td>\n",
       "      <td>Ritterhausstr.</td>\n",
       "      <td>7.446949</td>\n",
       "      <td>2019-01-20 13:33:00</td>\n",
       "      <td>51.517155</td>\n",
       "      <td>Hauptbahnhof/Bahnhofsvorplatz</td>\n",
       "      <td>7.459931</td>\n",
       "      <td>121</td>\n",
       "      <td>...</td>\n",
       "      <td>POINT (7.44695 51.50956)</td>\n",
       "      <td>3072</td>\n",
       "      <td>44137</td>\n",
       "      <td>44137 Dortmund</td>\n",
       "      <td>3.281205</td>\n",
       "      <td>21573</td>\n",
       "      <td>3.055201</td>\n",
       "      <td>0</td>\n",
       "      <td>0</td>\n",
       "      <td>noUniversityRide</td>\n",
       "    </tr>\n",
       "    <tr>\n",
       "      <th>3</th>\n",
       "      <td>2019-01-20 14:38:00</td>\n",
       "      <td>53006</td>\n",
       "      <td>51.517155</td>\n",
       "      <td>Hauptbahnhof/Bahnhofsvorplatz</td>\n",
       "      <td>7.459931</td>\n",
       "      <td>2019-01-20 14:53:00</td>\n",
       "      <td>51.500725</td>\n",
       "      <td>Polizeipräsidium</td>\n",
       "      <td>7.459819</td>\n",
       "      <td>15</td>\n",
       "      <td>...</td>\n",
       "      <td>POINT (7.45993 51.51716)</td>\n",
       "      <td>3072</td>\n",
       "      <td>44137</td>\n",
       "      <td>44137 Dortmund</td>\n",
       "      <td>3.281205</td>\n",
       "      <td>21573</td>\n",
       "      <td>4.288439</td>\n",
       "      <td>0</td>\n",
       "      <td>0</td>\n",
       "      <td>noUniversityRide</td>\n",
       "    </tr>\n",
       "    <tr>\n",
       "      <th>4</th>\n",
       "      <td>2019-01-20 17:02:00</td>\n",
       "      <td>53006</td>\n",
       "      <td>51.500725</td>\n",
       "      <td>Polizeipräsidium</td>\n",
       "      <td>7.459819</td>\n",
       "      <td>2019-01-20 17:16:00</td>\n",
       "      <td>51.514029</td>\n",
       "      <td>Schwanenwall</td>\n",
       "      <td>7.472570</td>\n",
       "      <td>14</td>\n",
       "      <td>...</td>\n",
       "      <td>POINT (7.45982 51.50073)</td>\n",
       "      <td>3073</td>\n",
       "      <td>44139</td>\n",
       "      <td>44139 Dortmund</td>\n",
       "      <td>4.896154</td>\n",
       "      <td>19843</td>\n",
       "      <td>3.401936</td>\n",
       "      <td>0</td>\n",
       "      <td>0</td>\n",
       "      <td>noUniversityRide</td>\n",
       "    </tr>\n",
       "  </tbody>\n",
       "</table>\n",
       "<p>5 rows × 26 columns</p>\n",
       "</div>"
      ],
      "text/plain": [
       "        datetime_start  b_number_start  latitude_start  \\\n",
       "0  2019-01-20 16:22:00           50641       51.506312   \n",
       "1  2019-01-20 02:31:00           50425       51.517155   \n",
       "2  2019-01-20 11:32:00           53006       51.509557   \n",
       "3  2019-01-20 14:38:00           53006       51.517155   \n",
       "4  2019-01-20 17:02:00           53006       51.500725   \n",
       "\n",
       "                    p_name_start  longitude_start         datetime_end  \\\n",
       "0             Hainallee / Südbad         7.470531  2019-01-20 17:00:00   \n",
       "1  Hauptbahnhof/Bahnhofsvorplatz         7.459931  2019-01-20 02:43:00   \n",
       "2                 Ritterhausstr.         7.446949  2019-01-20 13:33:00   \n",
       "3  Hauptbahnhof/Bahnhofsvorplatz         7.459931  2019-01-20 14:53:00   \n",
       "4               Polizeipräsidium         7.459819  2019-01-20 17:16:00   \n",
       "\n",
       "   latitude_end                        p_name_end  longitude_end  \\\n",
       "0     51.493966  TU Dortmund Emil-Figge-Straße 50       7.418008   \n",
       "1     51.513069                         Unionstr.       7.448886   \n",
       "2     51.517155     Hauptbahnhof/Bahnhofsvorplatz       7.459931   \n",
       "3     51.500725                  Polizeipräsidium       7.459819   \n",
       "4     51.514029                      Schwanenwall       7.472570   \n",
       "\n",
       "   trip_duration  ...                  geometry  index_right    plz  \\\n",
       "0             38  ...  POINT (7.47053 51.50631)         3073  44139   \n",
       "1             12  ...  POINT (7.45993 51.51716)         3072  44137   \n",
       "2            121  ...  POINT (7.44695 51.50956)         3072  44137   \n",
       "3             15  ...  POINT (7.45993 51.51716)         3072  44137   \n",
       "4             14  ...  POINT (7.45982 51.50073)         3073  44139   \n",
       "\n",
       "             note       qkm  einwohner distanceToUniversity  \\\n",
       "0  44139 Dortmund  4.896154      19843             4.306089   \n",
       "1  44137 Dortmund  3.281205      21573             4.288439   \n",
       "2  44137 Dortmund  3.281205      21573             3.055201   \n",
       "3  44137 Dortmund  3.281205      21573             4.288439   \n",
       "4  44139 Dortmund  4.896154      19843             3.401936   \n",
       "\n",
       "   towardsUniversity awayFromUniveristy          tripLabel  \n",
       "0                  1                  0  towardsUniversity  \n",
       "1                  0                  0   noUniversityRide  \n",
       "2                  0                  0   noUniversityRide  \n",
       "3                  0                  0   noUniversityRide  \n",
       "4                  0                  0   noUniversityRide  \n",
       "\n",
       "[5 rows x 26 columns]"
      ]
     },
     "execution_count": 105,
     "metadata": {},
     "output_type": "execute_result"
    }
   ],
   "source": [
    "df_with_postalcode.head()"
   ]
  },
  {
   "cell_type": "code",
   "execution_count": 146,
   "metadata": {},
   "outputs": [],
   "source": [
    "y = df_with_postalcode['tripLabel']\n",
    "\n",
    "# use only start-information to classify the trip-class\n",
    "X = df_with_postalcode[['weekend', 'month', 'hour', 'distanceToUniversity']]"
   ]
  },
  {
   "cell_type": "code",
   "execution_count": 147,
   "metadata": {},
   "outputs": [
    {
     "data": {
      "text/plain": [
       "array(['towardsUniversity', 'noUniversityRide', 'awayFromUniveristy'],\n",
       "      dtype=object)"
      ]
     },
     "execution_count": 147,
     "metadata": {},
     "output_type": "execute_result"
    }
   ],
   "source": [
    "y.unique()"
   ]
  },
  {
   "cell_type": "code",
   "execution_count": 148,
   "metadata": {},
   "outputs": [
    {
     "data": {
      "text/plain": [
       "16994"
      ]
     },
     "execution_count": 148,
     "metadata": {},
     "output_type": "execute_result"
    }
   ],
   "source": [
    "len(df_with_postalcode[df_with_postalcode['tripLabel'] == \"towardsUniversity\"])"
   ]
  },
  {
   "cell_type": "code",
   "execution_count": 149,
   "metadata": {},
   "outputs": [
    {
     "data": {
      "text/plain": [
       "10375"
      ]
     },
     "execution_count": 149,
     "metadata": {},
     "output_type": "execute_result"
    }
   ],
   "source": [
    "len(df_with_postalcode[df_with_postalcode['tripLabel'] == \"awayFromUniveristy\"])"
   ]
  },
  {
   "cell_type": "code",
   "execution_count": 150,
   "metadata": {},
   "outputs": [
    {
     "data": {
      "text/plain": [
       "180107"
      ]
     },
     "execution_count": 150,
     "metadata": {},
     "output_type": "execute_result"
    }
   ],
   "source": [
    "len(df_with_postalcode[df_with_postalcode['tripLabel'] == \"noUniversityRide\"])"
   ]
  },
  {
   "cell_type": "code",
   "execution_count": 151,
   "metadata": {},
   "outputs": [
    {
     "data": {
      "text/plain": [
       "0"
      ]
     },
     "execution_count": 151,
     "metadata": {},
     "output_type": "execute_result"
    }
   ],
   "source": [
    "len(df_with_postalcode[df_with_postalcode['tripLabel'] == \"fromUniversityToUniversity\"])"
   ]
  },
  {
   "cell_type": "code",
   "execution_count": null,
   "metadata": {},
   "outputs": [],
   "source": []
  },
  {
   "cell_type": "code",
   "execution_count": null,
   "metadata": {},
   "outputs": [],
   "source": []
  },
  {
   "cell_type": "markdown",
   "metadata": {},
   "source": [
    "### Logistic Regression"
   ]
  },
  {
   "cell_type": "code",
   "execution_count": 152,
   "metadata": {},
   "outputs": [],
   "source": [
    "from sklearn.model_selection import train_test_split\n",
    "from sklearn.preprocessing import StandardScaler\n",
    "from sklearn.metrics import classification_report\n",
    "from sklearn.linear_model import LogisticRegression"
   ]
  },
  {
   "cell_type": "code",
   "execution_count": 153,
   "metadata": {},
   "outputs": [],
   "source": [
    "X_train, X_test, y_train, y_test = train_test_split(X, y, test_size=0.3)"
   ]
  },
  {
   "cell_type": "code",
   "execution_count": 154,
   "metadata": {},
   "outputs": [],
   "source": [
    "st_scaler = StandardScaler()\n",
    "#st_scaler.fit(X_train)\n",
    "X_train_scaled = st_scaler.fit_transform(X_train)"
   ]
  },
  {
   "cell_type": "code",
   "execution_count": 155,
   "metadata": {},
   "outputs": [
    {
     "data": {
      "text/plain": [
       "LogisticRegression(C=1.0, class_weight=None, dual=False, fit_intercept=True,\n",
       "                   intercept_scaling=1, l1_ratio=None, max_iter=100,\n",
       "                   multi_class='auto', n_jobs=None, penalty='l2',\n",
       "                   random_state=None, solver='lbfgs', tol=0.0001, verbose=0,\n",
       "                   warm_start=False)"
      ]
     },
     "execution_count": 155,
     "metadata": {},
     "output_type": "execute_result"
    }
   ],
   "source": [
    "log = LogisticRegression()\n",
    "log.fit(X_train_scaled, y_train)"
   ]
  },
  {
   "cell_type": "code",
   "execution_count": 156,
   "metadata": {},
   "outputs": [],
   "source": [
    "X_test_scaled = st_scaler.transform(X_test)\n",
    "y_predict = log.predict(X_test_scaled)"
   ]
  },
  {
   "cell_type": "code",
   "execution_count": 157,
   "metadata": {},
   "outputs": [
    {
     "name": "stdout",
     "output_type": "stream",
     "text": [
      "                    precision    recall  f1-score   support\n",
      "\n",
      "awayFromUniveristy       0.57      0.73      0.64      3185\n",
      "  noUniversityRide       0.95      0.98      0.97     53998\n",
      " towardsUniversity       0.43      0.22      0.29      5060\n",
      "\n",
      "          accuracy                           0.91     62243\n",
      "         macro avg       0.65      0.64      0.63     62243\n",
      "      weighted avg       0.89      0.91      0.90     62243\n",
      "\n"
     ]
    }
   ],
   "source": [
    "print(classification_report(y_true=y_test, y_pred=y_predict))"
   ]
  },
  {
   "cell_type": "markdown",
   "metadata": {},
   "source": [
    "### SVC"
   ]
  },
  {
   "cell_type": "code",
   "execution_count": 158,
   "metadata": {},
   "outputs": [],
   "source": [
    "import pandas as pd\n",
    "import numpy as np\n",
    "import matplotlib.pyplot as plt\n",
    "import seaborn as sns\n",
    "from sklearn.model_selection import train_test_split\n",
    "from sklearn.preprocessing import StandardScaler\n",
    "from sklearn.svm import SVC\n",
    "import sklearn.metrics"
   ]
  },
  {
   "cell_type": "code",
   "execution_count": 159,
   "metadata": {},
   "outputs": [],
   "source": [
    "X_train, X_test, y_train, y_test = train_test_split(X, y, test_size=0.3)"
   ]
  },
  {
   "cell_type": "code",
   "execution_count": 160,
   "metadata": {},
   "outputs": [],
   "source": [
    "st_scaler = StandardScaler()\n",
    "#st_scaler.fit(X_train)\n",
    "X_train_scaled = st_scaler.fit_transform(X_train)"
   ]
  },
  {
   "cell_type": "markdown",
   "metadata": {},
   "source": [
    "#### linear SVC"
   ]
  },
  {
   "cell_type": "code",
   "execution_count": 161,
   "metadata": {},
   "outputs": [],
   "source": [
    "svc = SVC(kernel='linear')"
   ]
  },
  {
   "cell_type": "code",
   "execution_count": 165,
   "metadata": {},
   "outputs": [
    {
     "data": {
      "text/plain": [
       "SVC(C=1.0, break_ties=False, cache_size=200, class_weight=None, coef0=0.0,\n",
       "    decision_function_shape='ovr', degree=3, gamma='scale', kernel='linear',\n",
       "    max_iter=-1, probability=False, random_state=None, shrinking=True,\n",
       "    tol=0.001, verbose=False)"
      ]
     },
     "execution_count": 165,
     "metadata": {},
     "output_type": "execute_result"
    }
   ],
   "source": [
    "svc.fit(X_train_scaled, y_train)"
   ]
  },
  {
   "cell_type": "code",
   "execution_count": 166,
   "metadata": {},
   "outputs": [],
   "source": [
    "X_test_scaled = st_scaler.transform(X_test)"
   ]
  },
  {
   "cell_type": "code",
   "execution_count": 167,
   "metadata": {},
   "outputs": [],
   "source": [
    "y_pred = svc.predict(X_test_scaled)"
   ]
  },
  {
   "cell_type": "code",
   "execution_count": 168,
   "metadata": {},
   "outputs": [
    {
     "name": "stderr",
     "output_type": "stream",
     "text": [
      "C:\\Users\\erkin\\miniconda3\\envs\\PDS20\\lib\\site-packages\\sklearn\\metrics\\_classification.py:1272: UndefinedMetricWarning: Precision and F-score are ill-defined and being set to 0.0 in labels with no predicted samples. Use `zero_division` parameter to control this behavior.\n",
      "  _warn_prf(average, modifier, msg_start, len(result))\n"
     ]
    },
    {
     "name": "stdout",
     "output_type": "stream",
     "text": [
      "                    precision    recall  f1-score   support\n",
      "\n",
      "awayFromUniveristy       0.48      1.00      0.65      3111\n",
      "  noUniversityRide       0.95      0.99      0.97     53942\n",
      " towardsUniversity       0.00      0.00      0.00      5190\n",
      "\n",
      "          accuracy                           0.90     62243\n",
      "         macro avg       0.48      0.66      0.54     62243\n",
      "      weighted avg       0.85      0.90      0.87     62243\n",
      "\n"
     ]
    }
   ],
   "source": [
    "print(sklearn.metrics.classification_report(y_true=y_test, y_pred=y_pred))"
   ]
  },
  {
   "cell_type": "markdown",
   "metadata": {},
   "source": [
    "#### non-linear"
   ]
  },
  {
   "cell_type": "code",
   "execution_count": null,
   "metadata": {},
   "outputs": [],
   "source": [
    "svc = SVC(kernel='rbf')\n",
    "svc.fit(X_train_scaled, y_train),\n",
    "X_test_scaled = st_scaler.transform(X_test)\n",
    "y_pred = svc.predict(X_test_scaled)\n",
    "print(sklearn.metrics.classification_report(y_true=y_test, y_pred=y_pred))"
   ]
  },
  {
   "cell_type": "code",
   "execution_count": null,
   "metadata": {},
   "outputs": [],
   "source": []
  }
 ],
 "metadata": {
  "kernelspec": {
   "display_name": "Python 3",
   "language": "python",
   "name": "python3"
  },
  "language_info": {
   "codemirror_mode": {
    "name": "ipython",
    "version": 3
   },
   "file_extension": ".py",
   "mimetype": "text/x-python",
   "name": "python",
   "nbconvert_exporter": "python",
   "pygments_lexer": "ipython3",
   "version": "3.7.7"
  }
 },
 "nbformat": 4,
 "nbformat_minor": 4
}
