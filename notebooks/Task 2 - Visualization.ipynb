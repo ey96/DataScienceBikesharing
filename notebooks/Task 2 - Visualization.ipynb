{
 "cells": [
  {
   "cell_type": "markdown",
   "metadata": {},
   "source": [
    "# Semester Project - Nextbike\n",
    "## Task 2 - Visualization\n",
    "\n",
    "### a) For the summer month (i.e., June, August, or September) with most trips, visualize the number of started trips per PLZ region (you’ll have to find geo data for that yourselves!) in a map."
   ]
  },
  {
   "cell_type": "code",
   "execution_count": null,
   "metadata": {},
   "outputs": [],
   "source": [
    "from nextbike.visualization import Visualization\n",
    "from nextbike.preprocessing import Preprocessing\n",
    "from nextbike.io import input\n",
    "from nextbike.constants import CONSTANTS\n",
    "\n",
    "import geopandas as gpd\n",
    "import pandas as pd"
   ]
  },
  {
   "cell_type": "markdown",
   "metadata": {},
   "source": [
    "#### Get the geodata of Dortmund\n",
    "\n",
    "source of geodata: https://www.suche-postleitzahl.org/plz-karte-erstellens"
   ]
  },
  {
   "cell_type": "code",
   "execution_count": null,
   "metadata": {},
   "outputs": [],
   "source": [
    "# get geodata of germany (postal codes and their areas/polygons)\n",
    "districts_germany = input.__read_geojson(geojson=\"germany_postalcodes.geojson\")\n",
    "districts_germany.head()"
   ]
  },
  {
   "cell_type": "code",
   "execution_count": null,
   "metadata": {},
   "outputs": [],
   "source": [
    "df = Preprocessing.__prep_geo_data(districts_germany)"
   ]
  },
  {
   "cell_type": "markdown",
   "metadata": {},
   "source": [
    "#### Get the trip data (from Task 1)"
   ]
  },
  {
   "cell_type": "code",
   "execution_count": null,
   "metadata": {},
   "outputs": [],
   "source": [
    "df_trip = input.read_csv(loc= \"processed\", name= \"dortmund_trips.csv\")"
   ]
  },
  {
   "cell_type": "markdown",
   "metadata": {},
   "source": [
    "##### Convert start positions of trip data to geographical points"
   ]
  },
  {
   "cell_type": "code",
   "execution_count": null,
   "metadata": {},
   "outputs": [],
   "source": [
    "# Go through every row, and make a point out of its lat and lon\n",
    "df_trip[\"geometry\"] = df_trip.apply(Preprocessing.__make_point, axis=1)\n",
    "# It doesn't come with a CRS because it's a CSV, so it has to be set\n",
    "df_trip.crs = {'init': 'epsg:4326'}\n",
    "# additional column for aggregations\n",
    "df_trip[\"count\"] = 1"
   ]
  },
  {
   "cell_type": "code",
   "execution_count": null,
   "metadata": {},
   "outputs": [],
   "source": [
    "df_trip.head()"
   ]
  },
  {
   "cell_type": "code",
   "execution_count": null,
   "metadata": {},
   "outputs": [],
   "source": [
    "#convert dataset of trips to geodataframe (so it can be merged later with the geodataframe of dortmund)\n",
    "geo_trips = gpd.GeoDataFrame(df_trip, crs={'init': 'epsg:4326'}, geometry=df_trip.geometry)"
   ]
  },
  {
   "cell_type": "markdown",
   "metadata": {},
   "source": [
    "#### Calculate amount of trips per station"
   ]
  },
  {
   "cell_type": "markdown",
   "metadata": {},
   "source": [
    "##### Group the data per station"
   ]
  },
  {
   "cell_type": "code",
   "execution_count": null,
   "metadata": {},
   "outputs": [],
   "source": [
    "trips_per_station = df_trip.groupby([\"latitude_start\", \"longitude_start\", \"p_name_start\"]).count()[[\"count\"]]"
   ]
  },
  {
   "cell_type": "code",
   "execution_count": null,
   "metadata": {},
   "outputs": [],
   "source": [
    "trips_per_station"
   ]
  },
  {
   "cell_type": "markdown",
   "metadata": {},
   "source": [
    "Some stations are listed multiple times, so we have to fix this"
   ]
  },
  {
   "cell_type": "code",
   "execution_count": null,
   "metadata": {},
   "outputs": [],
   "source": [
    "trips_per_station.reset_index(inplace=True)"
   ]
  },
  {
   "cell_type": "code",
   "execution_count": null,
   "metadata": {},
   "outputs": [],
   "source": [
    "# get the station name with its coordinates and the amount of trips at the station\n",
    "trips_per_station = trips_per_station.groupby(\"p_name_start\").agg({'count':'sum', 'latitude_start':'mean', 'longitude_start':'mean'})"
   ]
  },
  {
   "cell_type": "code",
   "execution_count": null,
   "metadata": {},
   "outputs": [],
   "source": [
    "trips_per_station.reset_index(inplace=True)"
   ]
  },
  {
   "cell_type": "code",
   "execution_count": null,
   "metadata": {},
   "outputs": [],
   "source": [
    "trips_per_station"
   ]
  },
  {
   "cell_type": "markdown",
   "metadata": {},
   "source": [
    "#### Visualize the stations and their amount of rentals"
   ]
  },
  {
   "cell_type": "code",
   "execution_count": null,
   "metadata": {},
   "outputs": [],
   "source": [
    "Visualization.show_station_map(trips_per_station)"
   ]
  },
  {
   "cell_type": "markdown",
   "metadata": {},
   "source": [
    "This map shows each station in Dortmund as a red circle. The bigger the circle the higher is the demand. \n",
    "Click on the circles for more information."
   ]
  },
  {
   "cell_type": "markdown",
   "metadata": {},
   "source": [
    "#### Get the summer month with the most trips"
   ]
  },
  {
   "cell_type": "code",
   "execution_count": null,
   "metadata": {},
   "outputs": [],
   "source": [
    "# get the amount of rentals per month\n",
    "trips_per_month = df_trip.groupby(\"month\").count()\n",
    "\n",
    "# get the month with the highest amount of trips/highest value\n",
    "maxValue = trips_per_month['datetime_start'].idxmax()\n",
    " \n",
    "print(\"Month number\", maxValue, \"has the highes value\")"
   ]
  },
  {
   "cell_type": "markdown",
   "metadata": {},
   "source": [
    "June has the most trips"
   ]
  },
  {
   "cell_type": "code",
   "execution_count": null,
   "metadata": {},
   "outputs": [],
   "source": [
    "#convert dataset of trips to geodataframe (so it can be merged with the geodataframe of dortmund)\n",
    "geo_trips_june = geo_trips[geo_trips[\"month\"] == 6]\n",
    "\n",
    "# drop unnecessary attributes\n",
    "geo_trips_june = geo_trips_june[['geometry', 'count']]"
   ]
  },
  {
   "cell_type": "code",
   "execution_count": null,
   "metadata": {},
   "outputs": [],
   "source": [
    "# join the data\n",
    "# merges data when POINT of trips is within POLYGON of a dortmund district\n",
    "trips_with_postalcode_june = gpd.sjoin(geo_trips_june, df, how='left', op='within')"
   ]
  },
  {
   "cell_type": "code",
   "execution_count": null,
   "metadata": {},
   "outputs": [],
   "source": [
    "trips_with_postalcode_june"
   ]
  },
  {
   "cell_type": "markdown",
   "metadata": {},
   "source": [
    "This dataframe shows the trips with their geographical location and their postalcode of the start-station "
   ]
  },
  {
   "cell_type": "markdown",
   "metadata": {},
   "source": [
    "##### Calculate the amount of trips per postal code"
   ]
  },
  {
   "cell_type": "code",
   "execution_count": null,
   "metadata": {},
   "outputs": [],
   "source": [
    "trips_with_postalcode_june = trips_with_postalcode_june.drop(columns = [\"index_right\", \"note\", \"qkm\", \"einwohner\"])"
   ]
  },
  {
   "cell_type": "code",
   "execution_count": null,
   "metadata": {},
   "outputs": [],
   "source": [
    "trips_with_postalcode_june.head()"
   ]
  },
  {
   "cell_type": "code",
   "execution_count": null,
   "metadata": {},
   "outputs": [],
   "source": [
    "amount_per_postalcode = trips_with_postalcode_june.groupby(\"plz\").count()[[\"count\"]]"
   ]
  },
  {
   "cell_type": "code",
   "execution_count": null,
   "metadata": {},
   "outputs": [],
   "source": [
    "amount_per_postalcode"
   ]
  },
  {
   "cell_type": "code",
   "execution_count": null,
   "metadata": {},
   "outputs": [],
   "source": [
    "# transfer amount of data to the geojson of the district\n",
    "district_with_count = df.merge(amount_per_postalcode, on='plz', how='left', indicator=True)"
   ]
  },
  {
   "cell_type": "code",
   "execution_count": null,
   "metadata": {},
   "outputs": [],
   "source": [
    "district_with_count"
   ]
  },
  {
   "cell_type": "markdown",
   "metadata": {},
   "source": [
    "This dataframe shows the geo data/postalcodes of dortmund with the respective amount of rentals\n",
    "\n",
    "Some values show left_only/NaN => no rentals were done in these districts / there are no stations"
   ]
  },
  {
   "cell_type": "markdown",
   "metadata": {},
   "source": [
    "#### Visualize the amount of rentals per postalcode for the month June in Dortmund"
   ]
  },
  {
   "cell_type": "code",
   "execution_count": null,
   "metadata": {},
   "outputs": [],
   "source": [
    "Visualization.show_rental_for_june(district_with_count)"
   ]
  },
  {
   "cell_type": "markdown",
   "metadata": {},
   "source": [
    "This map shows each district/postal code in Dortmund with its demand. The demand can be differentiated by color.\n",
    "Hower over the districts for more information."
   ]
  },
  {
   "cell_type": "markdown",
   "metadata": {},
   "source": [
    "### Visualize daily heatmap "
   ]
  },
  {
   "cell_type": "markdown",
   "metadata": {},
   "source": [
    "### Get the postalcode for each trip"
   ]
  },
  {
   "cell_type": "code",
   "execution_count": null,
   "metadata": {},
   "outputs": [],
   "source": [
    "# merges data when POINT of trips is within POLYGON of a dortmund district\n",
    "trips_with_postalcode = gpd.sjoin(geo_trips, df, how='left', op='within')"
   ]
  },
  {
   "cell_type": "code",
   "execution_count": null,
   "metadata": {},
   "outputs": [],
   "source": [
    "# drop unnecessary columns\n",
    "trips_with_postalcode = trips_with_postalcode.drop(columns = [\"datetime_start\", \"b_number\", \"p_name_start\", \"datetime_end\", \"latitude_end\", \"p_name_end\", \"longitude_end\", \"trip_duration\", \"distance\", \"weekday\", \"weekend\", \"day\", \"index_right\", \"note\", \"qkm\", \"einwohner\"])\n",
    "trips_with_postalcode.head()"
   ]
  },
  {
   "cell_type": "code",
   "execution_count": null,
   "metadata": {},
   "outputs": [],
   "source": [
    "time_data = Preprocessing.__get_time_delta(trips_with_postalcode)"
   ]
  },
  {
   "cell_type": "code",
   "execution_count": null,
   "metadata": {},
   "outputs": [],
   "source": [
    "Visualization.show_time_heatmap(df=time_data, df2=df)"
   ]
  },
  {
   "cell_type": "markdown",
   "metadata": {},
   "source": [
    "This heatmap shows the distribution of the demand (per station) at different times of day\n",
    "Use the slider to select a time period"
   ]
  },
  {
   "cell_type": "markdown",
   "metadata": {},
   "source": [
    "### Visualize monthly heatmap\n",
    "\n",
    "This is not done per station (like previously).\n",
    "This is done per postalcode. However, we had to map the districts to their center, because otherwise it could not be visualized. So the heats run from the center of a district to another"
   ]
  },
  {
   "cell_type": "code",
   "execution_count": null,
   "metadata": {},
   "outputs": [],
   "source": [
    "data = Preprocessing.__get_month_data(trips_with_postalcode)"
   ]
  },
  {
   "cell_type": "code",
   "execution_count": null,
   "metadata": {},
   "outputs": [],
   "source": [
    "Visualization.show_heatmap_monthly_per_district(df= data, df2= df)"
   ]
  },
  {
   "cell_type": "markdown",
   "metadata": {},
   "source": [
    "### b) For one moment in time, visualize the number of bikes at fixed stations meaningfully."
   ]
  },
  {
   "cell_type": "markdown",
   "metadata": {},
   "source": [
    "#### Create dataframe with bike numbers of every station\n",
    "\n",
    "##### Create a column for every station in the dataset"
   ]
  },
  {
   "cell_type": "code",
   "execution_count": null,
   "metadata": {},
   "outputs": [],
   "source": [
    "df_station = Preprocessing.__prep_for_visualization()"
   ]
  },
  {
   "cell_type": "markdown",
   "metadata": {},
   "source": [
    "#### Fill the dataframe by going through the eventlog"
   ]
  },
  {
   "cell_type": "code",
   "execution_count": null,
   "metadata": {},
   "outputs": [],
   "source": [
    "# get the amount of available bikes at each station for different time stamps\n",
    "for index, row in df_station['df_raw'].iterrows():\n",
    "    timestamp = pd.to_datetime(row.get(key = 'datetime')).ceil('H').strftime('%Y-%m-%d-%H')\n",
    "    df_station['station_bikenumbers'].at[timestamp, row.get(key = 'p_name')] = pd.to_numeric(row.get(key = 'p_bikes'))"
   ]
  },
  {
   "cell_type": "markdown",
   "metadata": {},
   "source": [
    "####  Fill NaN values with last available value"
   ]
  },
  {
   "cell_type": "code",
   "execution_count": null,
   "metadata": {},
   "outputs": [],
   "source": [
    "df_station['station_bikenumbers'].fillna(method='ffill', inplace=True)\n",
    "df_station['station_bikenumbers'].fillna(value='0.0', inplace=True)\n",
    "df_station['station_bikenumbers']"
   ]
  },
  {
   "cell_type": "markdown",
   "metadata": {},
   "source": [
    "This matrix shows the amount of available bikes at each station at different times"
   ]
  },
  {
   "cell_type": "markdown",
   "metadata": {},
   "source": [
    "#### Generate a station list with geo coordinates"
   ]
  },
  {
   "cell_type": "code",
   "execution_count": null,
   "metadata": {},
   "outputs": [],
   "source": [
    "stations = trips_per_station.drop(columns = [\"count\"], axis = 1)\n",
    "stations.rename(columns={'p_name_start':'p_name', 'latitude_start':'latitude', 'longitude_start': 'longitude'}, inplace=True)\n",
    "#stations.set_index('p_name')\n",
    "stations"
   ]
  },
  {
   "cell_type": "markdown",
   "metadata": {},
   "source": [
    "#### Visualization of one moment"
   ]
  },
  {
   "cell_type": "code",
   "execution_count": null,
   "metadata": {},
   "outputs": [],
   "source": [
    "data = pd.DataFrame(df_station['station_bikenumbers'].loc[CONSTANTS.FILTER_FOR_ONE_MOMENT.value])\n",
    "\n",
    "data.reset_index(inplace=True)\n",
    "data = data.rename(columns={'index': 'p_name', CONSTANTS.FILTER_FOR_ONE_MOMENT.value:'NumberOfBikes'})\n",
    "data.head()"
   ]
  },
  {
   "cell_type": "code",
   "execution_count": null,
   "metadata": {},
   "outputs": [],
   "source": [
    "bikenumber_one_moment = pd.merge(data, stations, on = \"p_name\")\n",
    "bikenumber_one_moment.head()"
   ]
  },
  {
   "cell_type": "code",
   "execution_count": null,
   "metadata": {},
   "outputs": [],
   "source": [
    "Visualization.show_one_moment(df= districts_germany,df2=bikenumber_one_moment)"
   ]
  },
  {
   "cell_type": "code",
   "execution_count": null,
   "metadata": {},
   "outputs": [],
   "source": [
    "Visualization.show_one_moment_at_map(df= districts_germany,df2=bikenumber_one_moment)"
   ]
  },
  {
   "cell_type": "markdown",
   "metadata": {},
   "source": [
    "### c) Create a heatmap based on an interesting aspect of the data, e.g., end locations of trips shortly before the start of a major public event."
   ]
  },
  {
   "cell_type": "code",
   "execution_count": null,
   "metadata": {},
   "outputs": [],
   "source": [
    "df_station = df_trip[[\"p_name_start\",\"latitude_start\", \"longitude_start\", \"p_name_end\", \n",
    "                      \"latitude_end\",\"longitude_end\", \"coordinates_start\", \"coordinates_end\",\"datetime_start\"]]"
   ]
  },
  {
   "cell_type": "code",
   "execution_count": null,
   "metadata": {},
   "outputs": [],
   "source": [
    "df_station.head()"
   ]
  },
  {
   "cell_type": "code",
   "execution_count": null,
   "metadata": {},
   "outputs": [],
   "source": [
    "AMOUNT_OF_TRIPS = 20000"
   ]
  },
  {
   "cell_type": "code",
   "execution_count": null,
   "metadata": {},
   "outputs": [],
   "source": [
    "Visualization.most_used_station(df_station, AMOUNT_OF_TRIPS)"
   ]
  },
  {
   "cell_type": "code",
   "execution_count": null,
   "metadata": {},
   "outputs": [],
   "source": [
    "Visualization.station_capacity(df_station)"
   ]
  },
  {
   "cell_type": "code",
   "execution_count": null,
   "metadata": {},
   "outputs": [],
   "source": [
    "Visualization.show_trips(df_station, AMOUNT_OF_TRIPS)"
   ]
  },
  {
   "cell_type": "code",
   "execution_count": null,
   "metadata": {},
   "outputs": [],
   "source": [
    "Visualization.show_map_at_specific_day(df_station, date=\"2019-01-20\", street=\"Signal Iduna Park\")"
   ]
  },
  {
   "cell_type": "markdown",
   "metadata": {},
   "source": [
    "### d) Visualize the distribution of trip lengths per month. Compare the distributions to normal distributions with mean and standard deviation as calculated before (1.d))"
   ]
  },
  {
   "cell_type": "markdown",
   "metadata": {},
   "source": [
    "#### Visualization of the trip distribution\n",
    "\n",
    "##### Trip duration"
   ]
  },
  {
   "cell_type": "code",
   "execution_count": null,
   "metadata": {},
   "outputs": [],
   "source": [
    "import matplotlib.pyplot as plt\n",
    "import numpy as np\n",
    "import seaborn as sns"
   ]
  },
  {
   "cell_type": "code",
   "execution_count": null,
   "metadata": {},
   "outputs": [],
   "source": [
    "weekday_names = [\"Monday\", \"Tuesday\", \"Wednesday\", \"Thursday\", \"Friday\", \"Saturday\", \"Sunday\"]\n",
    "\n",
    "# without July (no data for July)\n",
    "month_names = [\"January\",\"February\",\"March\",\"April\",\"May\",\"June\",\"August\",\"September\",\"October\",\"November\",\"December\"]"
   ]
  },
  {
   "cell_type": "code",
   "execution_count": null,
   "metadata": {},
   "outputs": [],
   "source": [
    "fig_dims = (12, 8)\n",
    "fig, ax = plt.subplots(figsize=fig_dims)\n",
    "\n",
    "sns.barplot(x=\"month\", y=\"trip_duration\", data=df_trip, estimator=np.mean,ax=ax)\n",
    "plt.xticks([0,1,2,3,4,5,6,7,8,9,10,11], month_names)\n",
    "plt.title(\"Trip duration per month\")\n",
    "plt.show()"
   ]
  },
  {
   "cell_type": "code",
   "execution_count": null,
   "metadata": {},
   "outputs": [],
   "source": [
    "fig_dims = (12, 8)\n",
    "fig, ax = plt.subplots(figsize=fig_dims)\n",
    "\n",
    "sns.barplot(x=\"weekday\", y=\"trip_duration\", data=df_trip, estimator=np.mean,ax=ax)\n",
    "plt.xticks([0,1,2,3,4,5,6], weekday_names)\n",
    "plt.title(\"Trip duration per weekday\")\n",
    "plt.show()"
   ]
  },
  {
   "cell_type": "markdown",
   "metadata": {},
   "source": [
    "##### Trip duration per hour"
   ]
  },
  {
   "cell_type": "code",
   "execution_count": null,
   "metadata": {},
   "outputs": [],
   "source": [
    "fig_dims = (12, 8)\n",
    "fig, ax = plt.subplots(figsize=fig_dims)\n",
    "\n",
    "sns.barplot(x=\"hour\", y=\"trip_duration\", data=df_trip, estimator=np.mean,ax=ax)\n",
    "plt.title(\"Trip duration per hour\")\n",
    "plt.show()"
   ]
  },
  {
   "cell_type": "markdown",
   "metadata": {},
   "source": [
    "There is a suprising drop from between 0:00 and 2:00"
   ]
  },
  {
   "cell_type": "markdown",
   "metadata": {},
   "source": [
    "##### Trip duration on weekdays and weekends"
   ]
  },
  {
   "cell_type": "code",
   "execution_count": null,
   "metadata": {},
   "outputs": [],
   "source": [
    "fig_dims = (8, 6)\n",
    "fig, ax = plt.subplots(figsize=fig_dims)\n",
    "\n",
    "sns.barplot(x=\"weekend\", y=\"trip_duration\", data=df_trip, estimator=np.mean)\n",
    "plt.title(\"Trip duration on weekdays and weekends\")\n",
    "plt.show()"
   ]
  },
  {
   "cell_type": "markdown",
   "metadata": {},
   "source": [
    "##### Trip distance per month"
   ]
  },
  {
   "cell_type": "code",
   "execution_count": null,
   "metadata": {},
   "outputs": [],
   "source": [
    "fig_dims = (12, 8)\n",
    "fig, ax = plt.subplots(figsize=fig_dims)\n",
    "\n",
    "sns.barplot(x=\"month\", y=\"distance\", data=df_trip, estimator=np.mean, ax=ax)\n",
    "plt.xticks([0,1,2,3,4,5,6,7,8,9,10,11], month_names)\n",
    "plt.title(\"Trip distance per month\")\n",
    "plt.show()"
   ]
  },
  {
   "cell_type": "markdown",
   "metadata": {},
   "source": [
    "##### Trip distance per weekday"
   ]
  },
  {
   "cell_type": "code",
   "execution_count": null,
   "metadata": {},
   "outputs": [],
   "source": [
    "fig_dims = (10, 6)\n",
    "fig, ax = plt.subplots(figsize=fig_dims)\n",
    "\n",
    "sns.barplot(x=\"weekday\", y=\"distance\", data=df_trip, estimator=np.mean,ax=ax)\n",
    "plt.title(\"Trip distance per day\")\n",
    "plt.xticks([0,1,2,3,4,5,6], weekday_names)\n",
    "plt.show()"
   ]
  },
  {
   "cell_type": "markdown",
   "metadata": {},
   "source": [
    "##### Trip distance per hour"
   ]
  },
  {
   "cell_type": "code",
   "execution_count": null,
   "metadata": {},
   "outputs": [],
   "source": [
    "fig_dims = (10, 6)\n",
    "fig, ax = plt.subplots(figsize=fig_dims)\n",
    "\n",
    "sns.barplot(x=\"hour\", y=\"distance\", data=df_trip, estimator=np.mean,ax=ax)\n",
    "plt.title(\"Trip distance per hour\")\n",
    "plt.show()"
   ]
  },
  {
   "cell_type": "markdown",
   "metadata": {},
   "source": [
    "##### Trip distance on weekdays and weekends"
   ]
  },
  {
   "cell_type": "code",
   "execution_count": null,
   "metadata": {},
   "outputs": [],
   "source": [
    "fig_dims = (10, 6)\n",
    "fig, ax = plt.subplots(figsize=fig_dims)\n",
    "\n",
    "sns.barplot(x=\"weekend\", y=\"distance\", data=df_trip, estimator=np.mean,ax=ax)\n",
    "plt.title(\"Trip distance on weekdays and weekends\")\n",
    "plt.show()"
   ]
  },
  {
   "cell_type": "markdown",
   "metadata": {},
   "source": [
    "##### Amount of trips per month"
   ]
  },
  {
   "cell_type": "code",
   "execution_count": null,
   "metadata": {},
   "outputs": [],
   "source": [
    "fig_dims = (12, 8)\n",
    "fig, ax = plt.subplots(figsize=fig_dims)\n",
    "\n",
    "sns.countplot(x=\"month\", data=df_trip, ax=ax)\n",
    "plt.xticks([0,1,2,3,4,5,6,7,8,9,10,11], month_names)\n",
    "plt.title(\"Amount of trips per month\")\n",
    "plt.show()"
   ]
  },
  {
   "cell_type": "markdown",
   "metadata": {},
   "source": [
    "Data recording began on 20th of January. That's the reason for the low amount of trips in January."
   ]
  },
  {
   "cell_type": "markdown",
   "metadata": {},
   "source": [
    "##### Amount of trips per weekday"
   ]
  },
  {
   "cell_type": "code",
   "execution_count": null,
   "metadata": {},
   "outputs": [],
   "source": [
    "fig_dims = (12, 6)\n",
    "fig, ax = plt.subplots(figsize=fig_dims)\n",
    "\n",
    "sns.countplot(x=\"weekday\", data=df_trip)\n",
    "plt.title(\"Amount of trips per weekday\")\n",
    "plt.xticks([0,1,2,3,4,5,6], weekday_names)\n",
    "plt.show()"
   ]
  },
  {
   "cell_type": "markdown",
   "metadata": {},
   "source": [
    "##### Amount of trips per hour"
   ]
  },
  {
   "cell_type": "code",
   "execution_count": null,
   "metadata": {},
   "outputs": [],
   "source": [
    "fig_dims = (12, 6)\n",
    "fig, ax = plt.subplots(figsize=fig_dims)\n",
    "\n",
    "sns.countplot(x=\"hour\", data=df_trip)\n",
    "plt.title(\"Amount of trips per hour\")\n",
    "plt.show()"
   ]
  },
  {
   "cell_type": "code",
   "execution_count": null,
   "metadata": {},
   "outputs": [],
   "source": []
  },
  {
   "cell_type": "code",
   "execution_count": null,
   "metadata": {},
   "outputs": [],
   "source": []
  }
 ],
 "metadata": {
  "kernelspec": {
   "display_name": "Python 3",
   "language": "python",
   "name": "python3"
  },
  "language_info": {
   "codemirror_mode": {
    "name": "ipython",
    "version": 3
   },
   "file_extension": ".py",
   "mimetype": "text/x-python",
   "name": "python",
   "nbconvert_exporter": "python",
   "pygments_lexer": "ipython3",
   "version": "3.7.6"
  }
 },
 "nbformat": 4,
 "nbformat_minor": 4
}
