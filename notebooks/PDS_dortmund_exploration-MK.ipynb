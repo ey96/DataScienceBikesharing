{
 "cells": [
  {
   "cell_type": "markdown",
   "metadata": {},
   "source": [
    "# Semester Project - Nextbike\n",
    "## Task 1 - Exploration and Description"
   ]
  },
  {
   "cell_type": "code",
   "execution_count": null,
   "metadata": {},
   "outputs": [],
   "source": [
    "# import relevant libaries for data exploration \n",
    "from vincenty import vincenty\n",
    "import numpy as np \n",
    "import pandas as pd \n",
    "import datetime\n",
    "from datetime import timedelta\n",
    "\n",
    "\n",
    "import matplotlib.pyplot as plt\n",
    "import seaborn as sns"
   ]
  },
  {
   "cell_type": "code",
   "execution_count": null,
   "metadata": {},
   "outputs": [],
   "source": [
    "# reading the csv\n",
    "df = pd.read_csv(\"../data/internal/dortmund.csv\", index_col=0)\n",
    "df.head(5)"
   ]
  },
  {
   "cell_type": "markdown",
   "metadata": {},
   "source": [
    "### What does the columns represent? \n",
    "\n",
    "The prefix \"p\" stands for the <i> positon </i> and the prefix \"b\" describes the features for the used <i> bike</i> . \n",
    "\n",
    "###### Meanings of the columns\n",
    "\n",
    "| Column      | Description          |\n",
    "|-------------|----------------------|\n",
    "|<i> p_spot </i>      |True, if it is an official station                   |\n",
    "|<i>p_place_type </i>|                      |\n",
    "|<i>datetime </i></i>    |Datetime of the start or end of a trip |\n",
    "|<i>b_number </i>    |Bike ID                   |\n",
    "|<i>trip   </i>      |Values = [\"first, last, start, end] <br> defines if a trip starts or ends|\n",
    "|<i>p_uid </i>       |ID of the bike station / position                      |\n",
    "|<i>p_bikes </i>     |Number of available bikes at the postion                      |\n",
    "|<i>p_lat   </i>     |Latitude coordinate of the position                      |\n",
    "|<i>b_bike_type</i>  |Type of the used bike                      |\n",
    "|<i>p_name  </i>     |Street or station name of the current position                      |\n",
    "|<i>p_number  </i>   |ID of the postion / bike station                      |\n",
    "|<i>p_lng </i>       |Longitude coordinate of the position                      |\n",
    "|<i>p_bike   </i>    |                      |\n",
    "\n"
   ]
  },
  {
   "cell_type": "markdown",
   "metadata": {},
   "source": [
    "### Analyse the trip column"
   ]
  },
  {
   "cell_type": "code",
   "execution_count": null,
   "metadata": {
    "scrolled": true
   },
   "outputs": [],
   "source": [
    "df[\"trip\"].unique()"
   ]
  },
  {
   "cell_type": "markdown",
   "metadata": {},
   "source": [
    "There are four different values in the trip column [first, last, start, end]. \n",
    "At least two values are required to define whether the data set belongs to the starting point or the end of the trip. This means that one trip is represented in two rows in the dataframe. One of the rows contains the values at the startinging point (i.e. datetime, start position) and the other row contains the values at the ending point of the trip. \n",
    "\n",
    "###### Why are there four values in the trip column? \n",
    "\n",
    "Let's have a deeper look in the dataframe and the trip column."
   ]
  },
  {
   "cell_type": "code",
   "execution_count": null,
   "metadata": {
    "scrolled": true
   },
   "outputs": [],
   "source": [
    "# there are much more datasets which have the values \"start\" and \"end\" in the trip column\n",
    "df[\"trip\"].value_counts()"
   ]
  },
  {
   "cell_type": "code",
   "execution_count": null,
   "metadata": {},
   "outputs": [],
   "source": [
    "df[(df[\"trip\"] == \"first\") | (df[\"trip\"] ==\"last\")].head(50)"
   ]
  },
  {
   "cell_type": "markdown",
   "metadata": {},
   "source": [
    "In this filtered dataframe above it gets clear that the examples with the values **first** and **last** in the trip column don't make much sense. Most of the trips in this dataframe have an unlikely long trip duration. The start time of a trip is almost always at 0 AM and the end time of a trip is at 23:59 PM. \n",
    "Furthermore the start and the end positions of one trip are the same. \n",
    "\n",
    "It could be measurement errors or other data recording errors. <br> \n",
    "These datasets can be disregarded for the next steps, because they aren't suitable for further analyses. "
   ]
  },
  {
   "cell_type": "code",
   "execution_count": null,
   "metadata": {},
   "outputs": [],
   "source": [
    "# focus on datasets whit values \"start\" and \"end\" in the trip column\n",
    "# store the starting and ending events of a trip in two different dataframes\n",
    "# p_number != 0 --> just focus on the trips to an official bike station \n",
    "df_start = df[(df[\"trip\"] == \"start\") & (df[\"p_number\"] != 0)]\n",
    "df_end = df[(df[\"trip\"] == \"end\") & (df[\"p_number\"] != 0)]"
   ]
  },
  {
   "cell_type": "code",
   "execution_count": null,
   "metadata": {
    "scrolled": true
   },
   "outputs": [],
   "source": [
    "df_start.reset_index(inplace=True)\n",
    "df_end.reset_index(inplace=True)"
   ]
  },
  {
   "cell_type": "code",

   "execution_count": null,
   "metadata": {},
   "outputs": [],
   "source": [
    "# rename the column names to distinguish the columns after a merge of the dateframes\n",
    "df_start.rename(columns={\"index\":\"index_start\",\"datetime\":\"datetime_start\", \"p_lat\":\"latitude_start\",\"p_lng\":\"longitude_start\",\"p_name\":\"p_name_start\",\"b_number\":\"b_number_start\"},inplace=True)\n",
    "df_end.rename(columns={\"index\":\"index_end\",\"datetime\":\"datetime_end\", \"p_lat\":\"latitude_end\",\"p_lng\":\"longitude_end\",\"p_name\":\"p_name_end\",\"b_number\":\"b_number_end\"},inplace=True)"
   ]
  },
  {
   "cell_type": "code",
   "execution_count": null,
   "metadata": {},

   "outputs": [],
   "source": [
    "# drop the columns, which aren't necessary for the final dateframe\n",
    "df_start.drop(['p_spot', 'p_place_type',  'trip',\n",
    "       'p_uid', 'p_bikes', 'b_bike_type',\n",
    "       'p_number', 'p_bike'],inplace=True,axis=1)\n",
    "\n",
    "df_end.drop(['p_spot', 'p_place_type', 'trip',\n",
    "       'p_uid', 'p_bikes', 'b_bike_type',\n",
    "       'p_number', 'p_bike'],inplace=True,axis=1)"
   ]
  },
  {
   "cell_type": "code",
   "execution_count": null,
   "metadata": {},

   "outputs": [],
   "source": [
    "# modify the index_end to merge the dataframes by index_start and index_end\n",
    "df_end[\"index_end\"] = df_end[\"index_end\"]-1"
   ]
  },
  {
   "cell_type": "code",
   "execution_count": null,
   "metadata": {},
   "outputs": [],
   "source": [
    "# merge the two sepearte dataframes to the final dataframe \n",
    "# the final dataframe consists of datasets which describe a trip with features for the start and the end of a trip\n",
    "df_final = pd.merge(df_start,df_end,left_on=\"index_start\", right_on=\"index_end\")"
   ]
  },
  {
   "cell_type": "code",
   "execution_count": null,
   "metadata": {},
   "outputs": [],
   "source": [
    "# check if there is a trip with different bike numbers at the start and the end of the trip \n",
    "#- if so this wouldn't make sense \n",
    "df_final[df_final[\"b_number_start\"] != df_final[\"b_number_start\"]]"
   ]
  },
  {
   "cell_type": "code",
   "execution_count": null,
   "metadata": {},
   "outputs": [],
   "source": [
    "# drop the redundant columns\n",
    "df_final.drop([\"index_start\",\"index_end\",\"b_number_end\"],inplace=True,axis=1)\n",
    "df_final.rename({\"b_number_start\":\"b_number\"},inplace=True)"
   ]
  },
  {
   "cell_type": "code",
   "execution_count": null,
   "metadata": {},
   "outputs": [],
   "source": [
    "# check for missing values \n",
    "df_final.isna().any(axis=0)"
   ]
  },
  {
   "cell_type": "code",
   "execution_count": null,
   "metadata": {},
   "outputs": [],
   "source": [
    "# converting objects to datetimes\n",
    "df_final[\"datetime_start\"] = pd.to_datetime(df_final[\"datetime_start\"])\n",
    "df_final[\"datetime_end\"] = pd.to_datetime(df_final[\"datetime_end\"])\n",
    "\n",
    "# adding the trip duration with the difference of start and end time\n",
    "df_final[\"trip_duration\"] = df_final[\"datetime_end\"] -df_final[\"datetime_start\"]\n",
    "\n",
    "#converting timedelta to numeric and format in minutes \n",
    "df_final[\"trip_duration\"] = pd.to_numeric(df_final[\"trip_duration\"] / 60000000000)\n",
    "\n",
    "# adding the distance between start and end position\n",
    "df_final[\"distance\"] = df_final.apply(\n",
    "    lambda x: vincenty([x[\"latitude_start\"], x[\"longitude_start\"]],\n",
    "                       [x[\"latitude_end\"], x[\"longitude_end\"]],),axis=1)\n",
    "\n",
    "## adding the weekday of the start time of a trip; stored in integers (0: monday, 6:sunday)\n",
    "df_final['weekday'] = df_final['datetime_start'].dt.dayofweek"
   ]
  },
  {
   "cell_type": "code",
   "execution_count": null,
   "metadata": {},
   "outputs": [],
   "source": [
    "# function which returns True for saturday and sunday; otherwise it returns False\n",
    "def isWeekend(index_of_day): \n",
    "    if index_of_day > 4: \n",
    "        return True \n",
    "    else: \n",
    "        return False\n",
    "\n",
    "# adding new boolean column \"weekend\"    \n",
    "df_final[\"weekend\"] = df_final[\"weekday\"].apply(lambda x: isWeekend(x))"
   ]
  },
  {
   "cell_type": "code",
   "execution_count": null,

   "metadata": {},
   "outputs": [],
   "source": [
    "# transform column \"datatime_start\" into several columns \n",
    "df_final[\"day\"] = df_final[\"datetime_start\"].apply(lambda x: x.day)\n",
    "df_final[\"month\"] = df_final[\"datetime_start\"].apply(lambda x: x.month)\n",
    "df_final[\"hour\"] = df_final[\"datetime_start\"].apply(lambda x: x.hour)"
   ]
  },
  {
   "cell_type": "code",
   "execution_count": null,
   "metadata": {},
   "outputs": [],
   "source": [
    "df_final.to_csv('../data/processed/dortmund_trips.csv')\n",
    "df_final"
   ]
  },
  {
   "cell_type": "markdown",
   "metadata": {},
   "source": [
    "### Calculating aggregate statistic per month, per day of week and per hour of day"
   ]
  },
  {
   "cell_type": "markdown",
   "metadata": {},
   "source": [
    "##### Statistic per month"
   ]
  },
  {
   "cell_type": "code",
   "execution_count": null,
   "metadata": {
    "scrolled": true
   },
   "outputs": [],
   "source": [
    "df_final.groupby(['month']).mean()[[\"trip_duration\"]]\n",
    "# --> no data for July "
   ]
  },
  {
   "cell_type": "code",
   "execution_count": null,
   "metadata": {
    "scrolled": true
   },
   "outputs": [],
   "source": [
    "# in this array \"July\" is missing \n",
    "month_by_name = np.array([\"January\", \"February\", \"March\", \"April\", \"May\", \"June\", \"August\", \"September\", \"October\", \"November\", \"December\"])\n",
    "\n",
    "# Means \n",
    "df_final.groupby(['month']).mean()[[\"trip_duration\"]].set_index(keys=month_by_name)"
   ]
  },
  {
   "cell_type": "code",

   "execution_count": null,
   "metadata": {},
   "outputs": [],
   "source": [
    "# Standard deviation \n",
    "df_final.groupby(['month']).std()[[\"trip_duration\"]].set_index(keys=month_by_name)"
   ]
  },
  {
   "cell_type": "markdown",
   "metadata": {},
   "source": [
    "#### Statistics per day of week"
   ]
  },
  {
   "cell_type": "code",

   "execution_count": null,
   "metadata": {
    "scrolled": true
   },
   "outputs": [],
   "source": [
    "# Means \n",
    "weekday_by_name= np.array([\"Monday\", \"Tuesday\",\"Wednesday\",\"Thursday\",\"Friday\",\"Saturday\",\"Sunday\"])\n",
    "df_final.groupby(['weekday']).mean()[[\"trip_duration\"]].set_index(weekday_by_name)"
   ]
  },
  {
   "cell_type": "code",
   "execution_count": null,
   "metadata": {
    "scrolled": true
   },
   "outputs": [],
   "source": [
    "# Standard deviation \n",
    "df_final[[\"weekday\", \"trip_duration\"]].groupby(\"weekday\").std().set_index(weekday_by_name)"
   ]
  },
  {
   "cell_type": "markdown",
   "metadata": {},
   "source": [
    "#### Statistics per hour of day"
   ]
  },
  {
   "cell_type": "code",
   "execution_count": null,
   "metadata": {},
   "outputs": [],
   "source": [
    "# Means \n",
    "df_final.groupby(['hour']).mean()[[\"trip_duration\"]]"
   ]
  },
  {
   "cell_type": "code",
   "execution_count": null,
   "metadata": {
    "scrolled": true
   },
   "outputs": [],
   "source": [
    "# Standard deviation \n",
    "df_final[[\"hour\", \"trip_duration\"]].groupby(\"hour\").std()"
   ]
  },
  {
   "cell_type": "code",
   "execution_count": null,
   "metadata": {},
   "outputs": [],
   "source": [
    "df_final.head()"
   ]
  },
  {
   "cell_type": "markdown",
   "metadata": {},
   "source": [
    "### Visualization of the trip distribution"
   ]
  },
  {
   "cell_type": "markdown",
   "metadata": {},
   "source": [
    "#### Trip Duration"
   ]
  },
  {
   "cell_type": "code",
   "execution_count": null,
   "metadata": {},
   "outputs": [],
   "source": [
    "trips = df_final\n",
    "sns.barplot(x=\"month\", y=\"trip_duration\", data=trips, estimator=np.mean)\n",
    "plt.show()"
   ]
  },
  {
   "cell_type": "code",
   "execution_count": null,
   "metadata": {},
   "outputs": [],
   "source": [
    "sns.violinplot(x=\"month\", y=\"trip_duration\", data=trips)\n",
    "plt.show()"
   ]
  },
  {
   "cell_type": "code",
   "execution_count": null,
   "metadata": {
    "scrolled": true
   },
   "outputs": [],
   "source": [
    "sns.barplot(x=\"hour\", y=\"trip_duration\", data=trips, estimator=np.mean)\n",
    "plt.show()\n",
    "# 0 bis 2 Uhr?"
   ]
  },
  {
   "cell_type": "code",
   "execution_count": null,
   "metadata": {},
   "outputs": [],
   "source": [
    "sns.barplot(x=\"weekend\", y=\"trip_duration\", data=trips, estimator=np.mean)\n",
    "plt.show()"
   ]
  },
  {
   "cell_type": "markdown",
   "metadata": {},
   "source": [
    "#### Trip Distance"
   ]
  },
  {
   "cell_type": "code",
   "execution_count": null,
   "metadata": {
    "scrolled": true
   },
   "outputs": [],
   "source": [
    "sns.barplot(x=\"month\", y=\"distance\", data=trips, estimator=np.mean)\n",
    "plt.show()"
   ]
  },
  {
   "cell_type": "code",
   "execution_count": null,
   "metadata": {
    "scrolled": true
   },
   "outputs": [],
   "source": [
    "sns.barplot(x=\"weekday\", y=\"distance\", data=trips, estimator=np.mean)\n",
    "plt.show()"
   ]
  },
  {
   "cell_type": "code",
   "execution_count": null,
   "metadata": {},
   "outputs": [],
   "source": [
    "sns.barplot(x=\"weekend\", y=\"distance\", data=trips, estimator=np.mean)\n",
    "plt.show()"
   ]
  },
  {
   "cell_type": "markdown",
   "metadata": {},
   "source": [
    "#### Amount of trips"
   ]
  },
  {
   "cell_type": "code",
   "execution_count": null,
   "metadata": {},
   "outputs": [],
   "source": [
    "sns.countplot(x=\"month\", data=trips)\n",
    "plt.show()\n",
    "# take out january?"
   ]
  },
  {
   "cell_type": "code",
   "execution_count": null,
   "metadata": {},
   "outputs": [],
   "source": [
    "sns.countplot(x=\"weekend\", data=trips)\n",
    "plt.show()"
   ]
  },
  {
   "cell_type": "code",
   "execution_count": null,
   "metadata": {},
   "outputs": [],
   "source": [
    "sns.barplot(x=\"weekend\", y=\"trip_duration\", data=trips, estimator=np.mean)\n",
    "plt.show()"
   ]
  },
  {
   "cell_type": "code",
   "execution_count": null,
   "metadata": {},
   "outputs": [],
   "source": [
    "df_final.mean()[[\"distance\"]]\n",
    "# --> no data for July "
   ]
  },
  {
   "cell_type": "code",
   "execution_count": null,
   "metadata": {},
   "outputs": [],
   "source": [
    "df_final.groupby(['month']).mean()[[\"distance\"]]\n",
    "# --> no data for July "
   ]
  },
  {
   "cell_type": "code",
   "execution_count": null,
   "metadata": {},
   "outputs": [],
   "source": []
  }
 ],
 "metadata": {
  "kernelspec": {
   "display_name": "Python 3",
   "language": "python",
   "name": "python3"
  },
  "language_info": {
   "codemirror_mode": {
    "name": "ipython",
    "version": 3
   },
   "file_extension": ".py",
   "mimetype": "text/x-python",
   "name": "python",
   "nbconvert_exporter": "python",
   "pygments_lexer": "ipython3",
   "version": "3.7.6"
  }
 },
 "nbformat": 4,
 "nbformat_minor": 4
}
