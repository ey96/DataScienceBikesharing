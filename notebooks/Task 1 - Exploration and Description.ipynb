{
 "cells": [
  {
   "cell_type": "markdown",
   "metadata": {},
   "source": [
    "# Semester Project - Nextbike\n",
    "## Task 1 - Exploration and Description"
   ]
  },
  {
   "cell_type": "code",
   "execution_count": null,
   "metadata": {},
   "outputs": [],
   "source": [
    "!pip3 install -e .."
   ]
  },
  {
   "cell_type": "code",
   "execution_count": null,
   "metadata": {},
   "outputs": [],
   "source": [
    "from nextbike.preprocessing import Preprocessing \n",
    "from nextbike.io import input, output\n",
    "\n",
    "import numpy as np"
   ]
  },
  {
   "cell_type": "code",
   "execution_count": null,
   "metadata": {},
   "outputs": [],
   "source": [
    "df = input.read_file()\n",
    "df.head()"
   ]
  },
  {
   "cell_type": "markdown",
   "metadata": {},
   "source": [
    "### a) The data set shows columns with prefixes p and b. What do you think do they represent? Also try to find good assumptions for the meanings of the columns.\n",
    "\n",
    "The prefix \"p\" stands for the <i> positon </i> and the prefix \"b\" describes the features for the used <i> bike</i> . \n",
    "\n",
    "###### Meanings of the columns\n",
    "\n",
    "| Column      | Description          |\n",
    "|-------------|----------------------|\n",
    "|<i> p_spot </i>      |True, if it is an official station                   |\n",
    "|<i>p_place_type </i>|                      |\n",
    "|<i>datetime </i></i>    |Datetime of the start or end of a trip |\n",
    "|<i>b_number </i>    |Bike ID                   |\n",
    "|<i>trip   </i>      |Values = [\"first, last, start, end] <br> defines if a trip starts or ends|\n",
    "|<i>p_uid </i>       |ID of the bike station / position                      |\n",
    "|<i>p_bikes </i>     |Number of available bikes at the postion                      |\n",
    "|<i>p_lat   </i>     |Latitude coordinate of the position                      |\n",
    "|<i>b_bike_type</i>  |Type of the used bike                      |\n",
    "|<i>p_name  </i>     |Street or station name of the current position                      |\n",
    "|<i>p_number  </i>   |ID of the postion / bike station                      |\n",
    "|<i>p_lng </i>       |Longitude coordinate of the position                      |\n",
    "|<i>p_bike   </i>    |                      |\n",
    "\n",
    "\n"
   ]
  },
  {
   "cell_type": "markdown",
   "metadata": {},
   "source": [
    "### b) The trip column in your data set shows different values. Explain why there are not only two. Are examples with certain values for trip more informative for the analysis of mobility patterns than others?\n",
    "\n",
    "\n",
    "#### Analyse the trip column"
   ]
  },
  {
   "cell_type": "code",
   "execution_count": null,
   "metadata": {},
   "outputs": [],
   "source": [
    "df[\"trip\"].unique()"
   ]
  },
  {
   "cell_type": "markdown",
   "metadata": {},
   "source": [
    "There are four different values in the trip column [first, last, start, end]. \n",
    "At least two values are required to define whether the dataset belongs to the starting point or the end of the trip. This means that <b> one trip is represented in two successively rows </b> in the dataframe. One of the rows contains the values at the startinging point (i.e. datetime, start position) and the other row contains the values at the ending point of the trip. \n",
    "\n",
    "Let's have a deeper look in the dataframe and the trip column."
   ]
  },
  {
   "cell_type": "code",
   "execution_count": null,
   "metadata": {},
   "outputs": [],
   "source": [
    "# there are much more datasets which have the values \"start\" and \"end\" in the trip column\n",
    "df[\"trip\"].value_counts()"
   ]
  },
  {
   "cell_type": "code",
   "execution_count": null,
   "metadata": {},
   "outputs": [],
   "source": [
    "df[(df[\"trip\"] == \"first\") | (df[\"trip\"] ==\"last\")].head(50)"
   ]
  },
  {
   "cell_type": "markdown",
   "metadata": {},
   "source": [
    "In this filtered dataframe above it gets clear that the examples with the values **first** and **last** in the trip column don't make much sense. Most of the trips in this dataframe have an unlikely long trip duration. The start time of a trip is almost always at 0 AM and the end time of a trip is at 23:59 PM. \n",
    "Furthermore the start and the end positions of one trip are the same. \n",
    "\n",
    "It could be measurement errors or other data recording errors. <br> \n",
    "These datasets can be disregarded for the next steps, because they aren't suitable for further analysis, especially for the preditction of trip durations. "
   ]
  },
  {
   "cell_type": "markdown",
   "metadata": {},
   "source": [
    "### c) Based on the given data, create a new DataFrame that stores (at least) the following trip information (“trip format”):\n",
    "- Bike Number\n",
    "- Start Time (Either as appropriate data type or as several columns from “Start Month” down to “Start Minute”)\n",
    "- Weekend (binary)\n",
    "- Start Position (Either as appropriate data type or as two columns for Longitude and Latitude),\n",
    "- Duration\n",
    "- End Time \n",
    "- End Position "
   ]
  },
  {
   "cell_type": "code",
   "execution_count": null,
   "metadata": {},
   "outputs": [],
   "source": [
    "df = Preprocessing.get_trip_data()\n",
    "df.head(5)"
   ]
  },
  {
   "cell_type": "markdown",
   "metadata": {},
   "source": [
    "#### Adding weather features"
   ]
  },
  {
   "cell_type": "markdown",
   "metadata": {},
   "source": [
    "The following steps add three weather features to the final trip DataFrame. The ressource for the weather data is \"Deutscher Wetterdienst\". [Here](https://opendata.dwd.de/climate_environment/CDC/observations_germany/climate/hourly/), you can download the hourly weather data for several cities in Germany. \n",
    "\n",
    "The reason why we take the weather data for Waltrop-City is because there is no official weather station directly in Dortmund. There is no data for Dortmund accessable. Waltrop is the closest city to Dortmund, where weather data can be accessed.\n",
    "\n"
   ]
  },
  {
   "cell_type": "code",
   "execution_count": null,
   "metadata": {},
   "outputs": [],
   "source": [
    "df = Preprocessing.get_trip_data(with_weather=True)\n",
    "df.head(10)"
   ]
  },
  {
   "cell_type": "code",
   "execution_count": null,
   "metadata": {},
   "outputs": [],
   "source": [
    "output.write_trip_data(df)"
   ]
  },
  {
   "cell_type": "markdown",
   "metadata": {},
   "source": [
    "### d) Calculate the aggregate statistics (i.e., mean and standard deviation) for the trip duration per month, per day of week, and per hour of day. Are there visible differences between weekdays and weekends?\n",
    "\n",
    "(The differences between weekdays and weekends will be shown in Task 2 by visualizing the data)\n",
    "\n",
    "#### Calculating aggregate statistic per month, per day of week and per hour of day"
   ]
  },
  {
   "cell_type": "markdown",
   "metadata": {},
   "source": [
    "##### Statistic per month"
   ]
  },
  {
   "cell_type": "code",
   "execution_count": null,
   "metadata": {},
   "outputs": [],
   "source": [
    "# in this array \"July\" is missing \n",
    "month_by_name = np.array([\"January\", \"February\", \"March\", \"April\", \"May\", \"June\", \"August\", \"September\", \"October\", \"November\", \"December\"])\n",
    "\n",
    "# Means per month\n",
    "df.groupby(['month']).mean()[[\"trip_duration\"]].set_index(keys=month_by_name)"
   ]
  },
  {
   "cell_type": "code",
   "execution_count": null,
   "metadata": {},
   "outputs": [],
   "source": [
    "# Means per month\n",
    "# distinguish between weekend and workday\n",
    "df.groupby(['weekend', 'month']).mean()[[\"trip_duration\"]]"
   ]
  },
  {
   "cell_type": "code",
   "execution_count": null,
   "metadata": {},
   "outputs": [],
   "source": [
    "# Standard deviation per month\n",
    "df.groupby(['month']).std()[[\"trip_duration\"]].set_index(keys=month_by_name)"
   ]
  },
  {
   "cell_type": "code",
   "execution_count": null,
   "metadata": {},
   "outputs": [],
   "source": [
    "# Standard deviation per month\n",
    "# distinguish between weekend and workday\n",
    "df.groupby(['weekend','month']).std()[[\"trip_duration\"]]"
   ]
  },
  {
   "cell_type": "markdown",
   "metadata": {},
   "source": [
    "##### Statistics per day of week"
   ]
  },
  {
   "cell_type": "code",
   "execution_count": null,
   "metadata": {},
   "outputs": [],
   "source": [
    "# Means \n",
    "weekday_by_name= np.array([\"Monday\", \"Tuesday\",\"Wednesday\",\"Thursday\",\"Friday\",\"Saturday\",\"Sunday\"])\n",
    "df.groupby(['weekday']).mean()[[\"trip_duration\"]].set_index(weekday_by_name)"
   ]
  },
  {
   "cell_type": "code",
   "execution_count": null,
   "metadata": {},
   "outputs": [],
   "source": [
    "# Standard deviation \n",
    "df[[\"weekday\", \"trip_duration\"]].groupby(\"weekday\").std().set_index(weekday_by_name)"
   ]
  },
  {
   "cell_type": "code",
   "execution_count": null,
   "metadata": {},
   "outputs": [],
   "source": [
    "# Means per hour\n",
    "df.groupby(['hour']).mean()[[\"trip_duration\"]]"
   ]
  },
  {
   "cell_type": "code",
   "execution_count": null,
   "metadata": {},
   "outputs": [],
   "source": [
    "# Means per hour \n",
    "# distinguish between weekend and workday\n",
    "df.groupby(['weekend','hour']).mean()[[\"trip_duration\"]]"
   ]
  },
  {
   "cell_type": "code",
   "execution_count": null,
   "metadata": {},
   "outputs": [],
   "source": [
    "# Standard deviation per hour\n",
    "df[[\"hour\", \"trip_duration\"]].groupby(\"hour\").std()"
   ]
  },
  {
   "cell_type": "code",
   "execution_count": null,
   "metadata": {},
   "outputs": [],
   "source": [
    "# Standard deviation per hour\n",
    "# distinguish between weekend and workday\n",
    "df.groupby(['weekend','month']).std()[[\"trip_duration\"]]"
   ]
  }
 ],
 "metadata": {
  "kernelspec": {
   "display_name": "Python 3",
   "language": "python",
   "name": "python3"
  },
  "language_info": {
   "codemirror_mode": {
    "name": "ipython",
    "version": 3
   },
   "file_extension": ".py",
   "mimetype": "text/x-python",
   "name": "python",
   "nbconvert_exporter": "python",
   "pygments_lexer": "ipython3",
   "version": "3.7.6"
  }
 },
 "nbformat": 4,
 "nbformat_minor": 4
}
