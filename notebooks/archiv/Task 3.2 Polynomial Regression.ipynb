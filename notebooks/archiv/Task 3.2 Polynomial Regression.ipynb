{
 "cells": [
  {
   "cell_type": "markdown",
   "metadata": {},
   "source": [
    "# Polynomial Regression"
   ]
  },
  {
   "cell_type": "code",
   "execution_count": 1,
   "metadata": {},
   "outputs": [],
   "source": [
    "import warnings\n",
    "warnings.filterwarnings(\"ignore\")\n",
    "import pandas as pd \n",
    "import seaborn as sns\n",
    "import matplotlib.pyplot as plt\n",
    "import nextbike.preprocessing.Preprocessing as prep\n",
    "\n",
    "from scipy.stats import zscore\n",
    "import numpy as np\n",
    "from vincenty import vincenty \n",
    "from sklearn.metrics import mean_absolute_error,mean_squared_error, r2_score\n",
    "from sklearn.linear_model import Lasso,Ridge, LinearRegression\n",
    "from sklearn.ensemble import RandomForestRegressor\n",
    "from sklearn.model_selection import GridSearchCV,train_test_split\n",
    "from sklearn.preprocessing import PolynomialFeatures,StandardScaler\n",
    "from sklearn.svm import SVR\n",
    "import time"
   ]
  },
  {
   "cell_type": "code",
   "execution_count": 2,
   "metadata": {},
   "outputs": [],
   "source": [
    "df = pd.read_csv('../data/processed/dortmund_trips.csv', index_col=0)"
   ]
  },
  {
   "cell_type": "code",
   "execution_count": 3,
   "metadata": {},
   "outputs": [],
   "source": [
    "X = df[[\"month\",\"weekday\",\"day\",\"day_of_year\", \"hour\",\"minute\",\"latitude_start\",\"longitude_start\",\"area_start\",\n",
    "        \"temperature °C\",\"precipitation\",\"distanceToUniversity\",\"distanceToCentralStation\"]]\n",
    "y = df[\"trip_duration\"]\n",
    "X_train, X_test, y_train, y_test = train_test_split(X,y,test_size=0.3,random_state=42)"
   ]
  },
  {
   "cell_type": "code",
   "execution_count": 4,
   "metadata": {},
   "outputs": [],
   "source": [
    "name, poly_degree, r2, rmse, mae, exetime, desc = [],[],[],[],[],[],[] # arrays for results"
   ]
  },
  {
   "cell_type": "code",
   "execution_count": 5,
   "metadata": {},
   "outputs": [],
   "source": [
    "def polynomial_reg(modelname, estimator, degree): \n",
    "    start = time.time()\n",
    "        \n",
    "    poly_reg = PolynomialFeatures(degree = degree)\n",
    "    x_poly = poly_reg.fit_transform(X_train)\n",
    "\n",
    "    model = estimator\n",
    "    model.fit(x_poly, y_train)\n",
    "\n",
    "    # evaluate the model on the second set of data\n",
    "    y_pred = model.predict(poly_reg.transform(X_test))\n",
    "    y_pred_train = model.predict(x_poly)\n",
    "    end = time.time()\n",
    "\n",
    "    print(\"w/o cross-validation:\")\n",
    "    print(\"R^2-Score is: {}\".format(r2_score(y_train, y_pred_train)))\n",
    "    print(\"RMSE: {}\".format(np.sqrt(mean_squared_error(y_train,y_pred_train))))\n",
    "    print(\"MAE: {}\".format(mean_absolute_error(y_train,y_pred_train)))\n",
    "    print(\"\")\n",
    "    print(\"w/ cross-validation:\")\n",
    "    print ('The R^2 is: ',r2_score(y_test, y_pred))\n",
    "    print(\"RMSE: {}\".format(np.sqrt(mean_squared_error(y_test,y_pred))))\n",
    "    print(\"MAE: {}\".format(mean_absolute_error(y_test,y_pred)))  \n",
    "    \n",
    "    name.append(modelname)\n",
    "    r2.append(r2_score(y_test, y_pred))\n",
    "    rmse.append(np.sqrt(mean_squared_error(y_test,y_pred)))\n",
    "    mae.append(mean_absolute_error(y_test,y_pred))\n",
    "    exetime.append((end-start)/60)\n",
    "    desc.append(estimator)\n",
    "    poly_degree.append(degree)"
   ]
  },
  {
   "cell_type": "code",
   "execution_count": 6,
   "metadata": {
    "scrolled": true
   },
   "outputs": [
    {
     "name": "stdout",
     "output_type": "stream",
     "text": [
      "w/o cross-validation:\n",
      "R^2-Score is: 0.09863347080824947\n",
      "RMSE: 79.30940698885384\n",
      "MAE: 37.94287238934919\n",
      "\n",
      "w/ cross-validation:\n",
      "The R^2 is:  0.08792723768339195\n",
      "RMSE: 79.3889247739953\n",
      "MAE: 38.31425362922783\n"
     ]
    }
   ],
   "source": [
    "polynomial_reg(\"LinearRegression\", LinearRegression(), 3)"
   ]
  },
  {
   "cell_type": "code",
   "execution_count": 7,
   "metadata": {},
   "outputs": [
    {
     "name": "stdout",
     "output_type": "stream",
     "text": [
      "w/o cross-validation:\n",
      "R^2-Score is: 0.1379965783694329\n",
      "RMSE: 77.55833618716143\n",
      "MAE: 37.665970106329034\n",
      "\n",
      "w/ cross-validation:\n",
      "The R^2 is:  0.10175403992243914\n",
      "RMSE: 78.78486825482919\n",
      "MAE: 38.54711356428935\n"
     ]
    }
   ],
   "source": [
    "polynomial_reg(\"Linear Regression\", LinearRegression(), 4)"
   ]
  },
  {
   "cell_type": "code",
   "execution_count": 8,
   "metadata": {
    "scrolled": true
   },
   "outputs": [
    {
     "name": "stdout",
     "output_type": "stream",
     "text": [
      "w/o cross-validation:\n",
      "R^2-Score is: 0.09595897945030096\n",
      "RMSE: 79.42698136473796\n",
      "MAE: 37.95368980433868\n",
      "\n",
      "w/ cross-validation:\n",
      "The R^2 is:  0.0857564503279592\n",
      "RMSE: 79.48334380516425\n",
      "MAE: 38.294657432120054\n"
     ]
    }
   ],
   "source": [
    "polynomial_reg(\"Ridge\", Ridge(), 3)"
   ]
  },
  {
   "cell_type": "code",
   "execution_count": 9,
   "metadata": {},
   "outputs": [
    {
     "name": "stdout",
     "output_type": "stream",
     "text": [
      "w/o cross-validation:\n",
      "R^2-Score is: 0.14004079508598188\n",
      "RMSE: 77.46631790054701\n",
      "MAE: 37.10508858535518\n",
      "\n",
      "w/ cross-validation:\n",
      "The R^2 is:  0.1101364297740931\n",
      "RMSE: 78.41639822597739\n",
      "MAE: 37.87658796820659\n"
     ]
    }
   ],
   "source": [
    "polynomial_reg(\"Ridge\", Ridge(), degree=4)"
   ]
  },
  {
   "cell_type": "code",
   "execution_count": 10,
   "metadata": {},
   "outputs": [
    {
     "name": "stdout",
     "output_type": "stream",
     "text": [
      "w/o cross-validation:\n",
      "R^2-Score is: -1832712967.2220135\n",
      "RMSE: 3576195.1960099083\n",
      "MAE: 3576195.1951687094\n",
      "\n",
      "w/ cross-validation:\n",
      "The R^2 is:  0.10981951893216191\n",
      "RMSE: 78.430360363228\n",
      "MAE: 37.859364546529946\n"
     ]
    }
   ],
   "source": [
    "# hyperparameters found with RandomizedSearch \n",
    "polynomial_reg(\"Ridge\", Ridge(solver=\"cholesky\", max_iter=40, fit_intercept=True, copy_X=False, alpha=50), degree=4)"
   ]
  },
  {
   "cell_type": "code",
   "execution_count": 11,
   "metadata": {},
   "outputs": [
    {
     "name": "stdout",
     "output_type": "stream",
     "text": [
      "w/o cross-validation:\n",
      "R^2-Score is: 0.10232069152286005\n",
      "RMSE: 79.147025230541\n",
      "MAE: 37.69723938493105\n",
      "\n",
      "w/ cross-validation:\n",
      "The R^2 is:  0.08897553320083451\n",
      "RMSE: 79.34328862281411\n",
      "MAE: 38.124820170860055\n"
     ]
    }
   ],
   "source": [
    "polynomial_reg(\"Lasso\", Lasso(), 4)"
   ]
  },
  {
   "cell_type": "code",
   "execution_count": 12,
   "metadata": {},
   "outputs": [
    {
     "name": "stdout",
     "output_type": "stream",
     "text": [
      "w/o cross-validation:\n",
      "R^2-Score is: 0.07921017190506452\n",
      "RMSE: 80.1593608145324\n",
      "MAE: 38.20685455231052\n",
      "\n",
      "w/ cross-validation:\n",
      "The R^2 is:  0.07197270068594519\n",
      "RMSE: 80.08027442145028\n",
      "MAE: 38.48503231469628\n"
     ]
    }
   ],
   "source": [
    "polynomial_reg(\"Lasso\",Lasso(max_iter=40,fit_intercept=True, copy_X=False, alpha=50), 4)"
   ]
  },
  {
   "cell_type": "code",
   "execution_count": 13,
   "metadata": {},
   "outputs": [
    {
     "data": {
      "text/html": [
       "<div>\n",
       "<style scoped>\n",
       "    .dataframe tbody tr th:only-of-type {\n",
       "        vertical-align: middle;\n",
       "    }\n",
       "\n",
       "    .dataframe tbody tr th {\n",
       "        vertical-align: top;\n",
       "    }\n",
       "\n",
       "    .dataframe thead th {\n",
       "        text-align: right;\n",
       "    }\n",
       "</style>\n",
       "<table border=\"1\" class=\"dataframe\">\n",
       "  <thead>\n",
       "    <tr style=\"text-align: right;\">\n",
       "      <th></th>\n",
       "      <th>Polynomial Regression with</th>\n",
       "      <th>Degree</th>\n",
       "      <th>R2</th>\n",
       "      <th>RMSE</th>\n",
       "      <th>MAE</th>\n",
       "      <th>Execution time (min)</th>\n",
       "      <th>Description</th>\n",
       "    </tr>\n",
       "  </thead>\n",
       "  <tbody>\n",
       "    <tr>\n",
       "      <th>0</th>\n",
       "      <td>LinearRegression</td>\n",
       "      <td>3</td>\n",
       "      <td>0.087927</td>\n",
       "      <td>79.388925</td>\n",
       "      <td>38.314254</td>\n",
       "      <td>0.122343</td>\n",
       "      <td>LinearRegression(copy_X=True, fit_intercept=True, n_jobs=None, normalize=False)</td>\n",
       "    </tr>\n",
       "    <tr>\n",
       "      <th>1</th>\n",
       "      <td>Linear Regression</td>\n",
       "      <td>4</td>\n",
       "      <td>0.101754</td>\n",
       "      <td>78.784868</td>\n",
       "      <td>38.547114</td>\n",
       "      <td>1.507270</td>\n",
       "      <td>LinearRegression(copy_X=True, fit_intercept=True, n_jobs=None, normalize=False)</td>\n",
       "    </tr>\n",
       "    <tr>\n",
       "      <th>2</th>\n",
       "      <td>Ridge</td>\n",
       "      <td>3</td>\n",
       "      <td>0.085756</td>\n",
       "      <td>79.483344</td>\n",
       "      <td>38.294657</td>\n",
       "      <td>0.053588</td>\n",
       "      <td>Ridge(alpha=1.0, copy_X=True, fit_intercept=True, max_iter=None,\\n      normalize=False, random_state=None, solver='auto', tol=0.001)</td>\n",
       "    </tr>\n",
       "    <tr>\n",
       "      <th>3</th>\n",
       "      <td>Ridge</td>\n",
       "      <td>4</td>\n",
       "      <td>0.110136</td>\n",
       "      <td>78.416398</td>\n",
       "      <td>37.876588</td>\n",
       "      <td>2.770713</td>\n",
       "      <td>Ridge(alpha=1.0, copy_X=True, fit_intercept=True, max_iter=None,\\n      normalize=False, random_state=None, solver='auto', tol=0.001)</td>\n",
       "    </tr>\n",
       "    <tr>\n",
       "      <th>4</th>\n",
       "      <td>Ridge</td>\n",
       "      <td>4</td>\n",
       "      <td>0.109820</td>\n",
       "      <td>78.430360</td>\n",
       "      <td>37.859365</td>\n",
       "      <td>2.762630</td>\n",
       "      <td>Ridge(alpha=50, copy_X=False, fit_intercept=True, max_iter=40, normalize=False,\\n      random_state=None, solver='cholesky', tol=0.001)</td>\n",
       "    </tr>\n",
       "    <tr>\n",
       "      <th>5</th>\n",
       "      <td>Lasso</td>\n",
       "      <td>4</td>\n",
       "      <td>0.088976</td>\n",
       "      <td>79.343289</td>\n",
       "      <td>38.124820</td>\n",
       "      <td>6.450144</td>\n",
       "      <td>Lasso(alpha=1.0, copy_X=True, fit_intercept=True, max_iter=1000,\\n      normalize=False, positive=False, precompute=False, random_state=None,\\n      selection='cyclic', tol=0.0001, warm_start=False)</td>\n",
       "    </tr>\n",
       "    <tr>\n",
       "      <th>6</th>\n",
       "      <td>Lasso</td>\n",
       "      <td>4</td>\n",
       "      <td>0.071973</td>\n",
       "      <td>80.080274</td>\n",
       "      <td>38.485032</td>\n",
       "      <td>1.089877</td>\n",
       "      <td>Lasso(alpha=50, copy_X=False, fit_intercept=True, max_iter=40, normalize=False,\\n      positive=False, precompute=False, random_state=None, selection='cyclic',\\n      tol=0.0001, warm_start=False)</td>\n",
       "    </tr>\n",
       "  </tbody>\n",
       "</table>\n",
       "</div>"
      ],
      "text/plain": [
       "  Polynomial Regression with  Degree        R2       RMSE        MAE  \\\n",
       "0  LinearRegression           3       0.087927  79.388925  38.314254   \n",
       "1  Linear Regression          4       0.101754  78.784868  38.547114   \n",
       "2  Ridge                      3       0.085756  79.483344  38.294657   \n",
       "3  Ridge                      4       0.110136  78.416398  37.876588   \n",
       "4  Ridge                      4       0.109820  78.430360  37.859365   \n",
       "5  Lasso                      4       0.088976  79.343289  38.124820   \n",
       "6  Lasso                      4       0.071973  80.080274  38.485032   \n",
       "\n",
       "   Execution time (min)  \\\n",
       "0  0.122343               \n",
       "1  1.507270               \n",
       "2  0.053588               \n",
       "3  2.770713               \n",
       "4  2.762630               \n",
       "5  6.450144               \n",
       "6  1.089877               \n",
       "\n",
       "                                                                                                                                                                                              Description  \n",
       "0  LinearRegression(copy_X=True, fit_intercept=True, n_jobs=None, normalize=False)                                                                                                                         \n",
       "1  LinearRegression(copy_X=True, fit_intercept=True, n_jobs=None, normalize=False)                                                                                                                         \n",
       "2  Ridge(alpha=1.0, copy_X=True, fit_intercept=True, max_iter=None,\\n      normalize=False, random_state=None, solver='auto', tol=0.001)                                                                   \n",
       "3  Ridge(alpha=1.0, copy_X=True, fit_intercept=True, max_iter=None,\\n      normalize=False, random_state=None, solver='auto', tol=0.001)                                                                   \n",
       "4  Ridge(alpha=50, copy_X=False, fit_intercept=True, max_iter=40, normalize=False,\\n      random_state=None, solver='cholesky', tol=0.001)                                                                 \n",
       "5  Lasso(alpha=1.0, copy_X=True, fit_intercept=True, max_iter=1000,\\n      normalize=False, positive=False, precompute=False, random_state=None,\\n      selection='cyclic', tol=0.0001, warm_start=False)  \n",
       "6  Lasso(alpha=50, copy_X=False, fit_intercept=True, max_iter=40, normalize=False,\\n      positive=False, precompute=False, random_state=None, selection='cyclic',\\n      tol=0.0001, warm_start=False)    "
      ]
     },
     "execution_count": 13,
     "metadata": {},
     "output_type": "execute_result"
    }
   ],
   "source": [
    "pd.set_option('display.max_colwidth', -1)\n",
    "\n",
    "results = {\n",
    "    \"Polynomial Regression with\": name, \n",
    "    \"Degree\":poly_degree, \n",
    "    \"R2\": r2, \n",
    "    \"RMSE\":rmse, \n",
    "    \"MAE\": mae, \n",
    "    \"Execution time (min)\":exetime,\n",
    "    \"Description\":desc\n",
    "}\n",
    "\n",
    "df_result = pd.DataFrame(results)\n",
    "df_result"
   ]
  }
 ],
 "metadata": {
  "kernelspec": {
   "display_name": "Python 3",
   "language": "python",
   "name": "python3"
  },
  "language_info": {
   "codemirror_mode": {
    "name": "ipython",
    "version": 3
   },
   "file_extension": ".py",
   "mimetype": "text/x-python",
   "name": "python",
   "nbconvert_exporter": "python",
   "pygments_lexer": "ipython3",
   "version": "3.7.3"
  }
 },
 "nbformat": 4,
 "nbformat_minor": 4
}
