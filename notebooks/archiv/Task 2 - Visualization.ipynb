{
 "cells": [
  {
   "cell_type": "markdown",
   "metadata": {},
   "source": [
    "# Semester Project - Nextbike\n",
    "## Task 2 - Visualization\n",
    "\n",
    "### a) For the summer month (i.e., June, August, or September) with most trips, visualize the number of started trips per PLZ region (you’ll have to find geo data for that yourselves!) in a map."
   ]
  },
  {
   "cell_type": "code",
   "execution_count": null,
   "metadata": {},
   "outputs": [],
   "source": [
    "#import relevant libraries for visualization\n",
    "#Requirement: execute conda install -c conda-forge geopy\n",
    "import pandas as pd\n",
    "import numpy as np\n",
    "import geopy\n",
    "import geopandas as gpd\n",
    "import folium\n",
    "from folium import plugins\n",
    "from folium.plugins import HeatMapWithTime\n",
    "from folium.plugins import MarkerCluster\n",
    "#import geopandas as gpd\n",
    "from shapely.geometry import Point\n",
    "import matplotlib.pyplot as plt\n",
    "import seaborn as sns\n",
    "from sklearn.utils import shuffle\n",
    "\n",
    "\n",
    "\n",
    "# import timeit to measure execution times\n",
    "import timeit\n",
    "\n",
    "#imports of folium for map visualization\n",
    "import folium\n",
    "from folium import plugins\n",
    "from folium.plugins import HeatMap\n",
    "\n",
    "#import Matplotlib Ticker to style axes of figures\n",
    "import matplotlib.ticker as ticker\n",
    "\n",
    "import warnings\n",
    "warnings.filterwarnings('ignore')\n"
   ]
  },
  {
   "cell_type": "markdown",
   "metadata": {},
   "source": [
    "#### Get the geodata of Dortmund\n",
    "\n",
    "source of geodata: https://www.suche-postleitzahl.org/plz-karte-erstellens"
   ]
  },
  {
   "cell_type": "code",
   "execution_count": null,
   "metadata": {},
   "outputs": [],
   "source": [
    "# get geodata of germany (postal codes and their areas/polygons)\n",
    "districts_germany = gpd.read_file(\"../../data/external/germany_postalcodes.geojson\")\n",
    "districts_germany.head()"
   ]
  },
  {
   "cell_type": "code",
   "execution_count": null,
   "metadata": {},
   "outputs": [],
   "source": [
    "# filter for districts of dortmund\n",
    "districts_dortmund = districts_germany[districts_germany[\"note\"].str.contains(\"Dortmund\")]\n",
    "\n",
    "# calculate the center of the districts (for later analysis)\n",
    "districts_dortmund[\"longitude\"] = districts_dortmund[\"geometry\"].centroid.x\n",
    "districts_dortmund[\"latitude\"] = districts_dortmund[\"geometry\"].centroid.y\n",
    "\n",
    "districts_dortmund"
   ]
  },
  {
   "cell_type": "markdown",
   "metadata": {},
   "source": [
    "#### Get the trip data (from Task 1)"
   ]
  },
  {
   "cell_type": "code",
   "execution_count": null,
   "metadata": {},
   "outputs": [],
   "source": [
    "trips = pd.read_csv(\"../../data/processed/dortmund_trips.csv\", index_col = 0)"
   ]
  },
  {
   "cell_type": "code",
   "execution_count": null,
   "metadata": {},
   "outputs": [],
   "source": [
    "# returns \"Point(longtitude, latitude)\" of the starting position of a rental\n",
    "def make_point(row):\n",
    "    return Point(row.longitude_start, row.latitude_start)"
   ]
  },
  {
   "cell_type": "markdown",
   "metadata": {},
   "source": [
    "##### Convert start positions of trip data to geographical points"
   ]
  },
  {
   "cell_type": "code",
   "execution_count": null,
   "metadata": {},
   "outputs": [],
   "source": [
    "# Go through every row, and make a point out of its lat and lon\n",
    "trips[\"geometry\"] = trips.apply(make_point, axis=1)\n",
    "# It doesn't come with a CRS because it's a CSV, so it has to be set\n",
    "trips.crs = {'init': 'epsg:4326'}"
   ]
  },
  {
   "cell_type": "code",
   "execution_count": null,
   "metadata": {},
   "outputs": [],
   "source": [
    "# additional column for aggregations\n",
    "trips[\"count\"] = 1"
   ]
  },
  {
   "cell_type": "code",
   "execution_count": null,
   "metadata": {},
   "outputs": [],
   "source": [
    "trips.head()"
   ]
  },
  {
   "cell_type": "code",
   "execution_count": null,
   "metadata": {},
   "outputs": [],
   "source": [
    "#convert dataset of trips to geodataframe (so it can be merged later with the geodataframe of dortmund)\n",
    "geo_trips = gpd.GeoDataFrame(trips, crs={'init': 'epsg:4326'}, geometry=trips.geometry)"
   ]
  },
  {
   "cell_type": "markdown",
   "metadata": {},
   "source": [
    "#### Calculate amount of trips per station"
   ]
  },
  {
   "cell_type": "markdown",
   "metadata": {},
   "source": [
    "##### Group the data per station"
   ]
  },
  {
   "cell_type": "code",
   "execution_count": null,
   "metadata": {},
   "outputs": [],
   "source": [
    "trips_per_station = trips.groupby([\"latitude_start\", \"longitude_start\", \"p_name_start\"]).count()[[\"count\"]]"
   ]
  },
  {
   "cell_type": "code",
   "execution_count": null,
   "metadata": {},
   "outputs": [],
   "source": [
    "trips_per_station"
   ]
  },
  {
   "cell_type": "markdown",
   "metadata": {},
   "source": [
    "Some stations are listed multiple times, so we have to fix this"
   ]
  },
  {
   "cell_type": "code",
   "execution_count": null,
   "metadata": {},
   "outputs": [],
   "source": [
    "trips_per_station.reset_index(inplace=True)"
   ]
  },
  {
   "cell_type": "code",
   "execution_count": null,
   "metadata": {},
   "outputs": [],
   "source": [
    "# get the station name with its coordinates and the amount of trips at the station\n",
    "trips_per_station = trips_per_station.groupby(\"p_name_start\").agg({'count':'sum', 'latitude_start':'mean', 'longitude_start':'mean'})"
   ]
  },
  {
   "cell_type": "code",
   "execution_count": null,
   "metadata": {},
   "outputs": [],
   "source": [
    "trips_per_station.reset_index(inplace=True)"
   ]
  },
  {
   "cell_type": "code",
   "execution_count": null,
   "metadata": {},
   "outputs": [],
   "source": [
    "trips_per_station"
   ]
  },
  {
   "cell_type": "markdown",
   "metadata": {},
   "source": [
    "#### Visualize the stations and their amount of rentals"
   ]
  },
  {
   "cell_type": "code",
   "execution_count": null,
   "metadata": {
    "scrolled": true
   },
   "outputs": [],
   "source": [
    "stations_map = folium.Map(location = [51.5, 7.5], zoom_start=11)\n",
    "\n",
    "# draw the borders of Dortmund and its districts\n",
    "folium.Choropleth(\n",
    "    geo_data=districts_dortmund, \n",
    "    fill_color = 'grey',\n",
    "    fill_opacity=0.4,\n",
    "    ).add_to(stations_map)\n",
    "\n",
    "# draw an interactive (clickable) circle for each station - circle gets bigger with the amounts of rentals at the station\n",
    "for index, row in trips_per_station.iterrows():\n",
    "    \n",
    "    station_rentals = row['count']\n",
    "\n",
    "    station_name = row['p_name_start']\n",
    "    \n",
    "    station_info = \"Name: {}\\n\\nAmount of rentals: {}\\n\".format(station_name,station_rentals)\n",
    "    \n",
    "    #folium.Marker(location=[row['latitude_start'],row['longitude_start']], popup=station_info).add_to(stations_map)\n",
    "    \n",
    "    folium.Circle(\n",
    "        location=[row['latitude_start'],row['longitude_start']],\n",
    "        popup=station_info,\n",
    "        radius=row['count']*0.009,\n",
    "        color='red',\n",
    "        fill=True,\n",
    "        fill_color='#red'\n",
    "    ).add_to(stations_map)\n",
    "\n",
    "display(stations_map)"
   ]
  },
  {
   "cell_type": "markdown",
   "metadata": {},
   "source": [
    "This map shows each station in Dortmund as a red circle. The bigger the circle the higher is the demand. \n",
    "Click on the circles for more information."
   ]
  },
  {
   "cell_type": "markdown",
   "metadata": {},
   "source": [
    "#### Get the summer month with the most trips"
   ]
  },
  {
   "cell_type": "code",
   "execution_count": null,
   "metadata": {},
   "outputs": [],
   "source": [
    "# get the amount of rentals per month\n",
    "trips_per_month = trips.groupby(\"month\").count()\n",
    "\n",
    "# get the month with the highest amount of trips/highest value\n",
    "maxValue = trips_per_month['datetime_start'].idxmax()\n",
    " \n",
    "print(\"Month number\", maxValue, \"has the highes value\")\n"
   ]
  },
  {
   "cell_type": "markdown",
   "metadata": {},
   "source": [
    "June has the most trips"
   ]
  },
  {
   "cell_type": "code",
   "execution_count": null,
   "metadata": {},
   "outputs": [],
   "source": [
    "#convert dataset of trips to geodataframe (so it can be merged with the geodataframe of dortmund)\n",
    "geo_trips_june = geo_trips[geo_trips[\"month\"] == 6]\n",
    "\n",
    "# drop unnecessary attributes\n",
    "geo_trips_june = geo_trips_june[['geometry', 'count']]"
   ]
  },
  {
   "cell_type": "code",
   "execution_count": null,
   "metadata": {},
   "outputs": [],
   "source": [
    "# join the data\n",
    "# merges data when POINT of trips is within POLYGON of a dortmund district\n",
    "trips_with_postalcode_june = gpd.sjoin(geo_trips_june, districts_dortmund, how='left', op='within')"
   ]
  },
  {
   "cell_type": "code",
   "execution_count": null,
   "metadata": {},
   "outputs": [],
   "source": [
    "trips_with_postalcode_june"
   ]
  },
  {
   "cell_type": "markdown",
   "metadata": {},
   "source": [
    "This dataframe shows the trips with their geographical location and their postalcode of the start-station "
   ]
  },
  {
   "cell_type": "markdown",
   "metadata": {},
   "source": [
    "##### Calculate the amount of trips per postal code"
   ]
  },
  {
   "cell_type": "code",
   "execution_count": null,
   "metadata": {},
   "outputs": [],
   "source": [
    "trips_with_postalcode_june = trips_with_postalcode_june.drop(columns = [\"index_right\", \"note\", \"qkm\", \"einwohner\"])"
   ]
  },
  {
   "cell_type": "code",
   "execution_count": null,
   "metadata": {
    "scrolled": true
   },
   "outputs": [],
   "source": [
    "trips_with_postalcode_june.head()"
   ]
  },
  {
   "cell_type": "code",
   "execution_count": null,
   "metadata": {},
   "outputs": [],
   "source": [
    "amount_per_postalcode = trips_with_postalcode_june.groupby(\"plz\").count()[[\"count\"]]"
   ]
  },
  {
   "cell_type": "code",
   "execution_count": null,
   "metadata": {},
   "outputs": [],
   "source": [
    "amount_per_postalcode"
   ]
  },
  {
   "cell_type": "code",
   "execution_count": null,
   "metadata": {},
   "outputs": [],
   "source": [
    "# transfer amount of data to the geojson of the district\n",
    "district_with_count = districts_dortmund.merge(amount_per_postalcode, on='plz', how='left', indicator=True)"
   ]
  },
  {
   "cell_type": "code",
   "execution_count": null,
   "metadata": {},
   "outputs": [],
   "source": [
    "district_with_count"
   ]
  },
  {
   "cell_type": "markdown",
   "metadata": {},
   "source": [
    "This dataframe shows the geo data/postalcodes of dortmund with the respective amount of rentals\n",
    "\n",
    "Some values show left_only/NaN => no rentals were done in these districts / there are no stations"
   ]
  },
  {
   "cell_type": "markdown",
   "metadata": {},
   "source": [
    "#### Visualize the amount of rentals per postalcode for the month June in Dortmund"
   ]
  },
  {
   "cell_type": "code",
   "execution_count": null,
   "metadata": {},
   "outputs": [],
   "source": [
    "district_with_count[\"count\"] = district_with_count[\"count\"].fillna(0)"
   ]
  },
  {
   "cell_type": "code",
   "execution_count": null,
   "metadata": {},
   "outputs": [],
   "source": [
    "quan = np.arange(0,1.1,0.1)\n",
    "bins = list(district_with_count['count'].quantile(quan))\n",
    "districts_map = folium.Map(location = [51.514244, 7.468429], zoom_start=10.5)\n",
    "\n",
    "folium.Choropleth(\n",
    "    geo_data=district_with_count,\n",
    "    data=district_with_count,\n",
    "    columns=['plz','count'],\n",
    "    key_on='properties.plz',\n",
    "    fill_color='RdYlGn',\n",
    "    fill_opacity=0.7,\n",
    "    line_opacity=0.2,\n",
    "    line_weight=1,\n",
    "    line_color='black',\n",
    "    legend_name='Number of bookings per postcode',\n",
    "    bins=bins    \n",
    "    ).add_to(districts_map)\n",
    "\n",
    "# Show information (postal code and rental amount) when mouse over district\n",
    "folium.GeoJson(\n",
    "    district_with_count,\n",
    "    style_function=lambda feature:{\"color\":\"black\", \"weight\":1,},\n",
    "    highlight_function=lambda x: {\"weight\":2, \"color\":\"black\",\"fillOpacity\":0.5},\n",
    "    tooltip=folium.features.GeoJsonTooltip(fields=['count', 'plz'], aliases=['Amount of rentals:', 'Postcal code:'])   \n",
    "    ).add_to(districts_map)\n",
    "\n",
    "districts_map\n",
    "\n",
    "# the district in the south west is displayed dark green becauce the University of Dortmund is located within this district "
   ]
  },
  {
   "cell_type": "markdown",
   "metadata": {},
   "source": [
    "This map shows each district/postal code in Dortmund with its demand. The demand can be differentiated by color.\n",
    "Hower over the districts for more information."
   ]
  },
  {
   "cell_type": "markdown",
   "metadata": {},
   "source": [
    "### Visualize daily heatmap "
   ]
  },
  {
   "cell_type": "markdown",
   "metadata": {},
   "source": [
    "### Get the postalcode for each trip"
   ]
  },
  {
   "cell_type": "code",
   "execution_count": null,
   "metadata": {},
   "outputs": [],
   "source": [
    "# merges data when POINT of trips is within POLYGON of a dortmund district\n",
    "trips_with_postalcode = gpd.sjoin(geo_trips, districts_dortmund, how='left', op='within')"
   ]
  },
  {
   "cell_type": "code",
   "execution_count": null,
   "metadata": {},
   "outputs": [],
   "source": [
    "# drop unnecessary columns\n",
    "trips_with_postalcode = trips_with_postalcode.drop(columns = [\"datetime_start\", \"b_number\", \"p_name_start\", \"datetime_end\", \"latitude_end\", \"p_name_end\", \"longitude_end\", \"trip_duration\", \"distance\", \"weekday\", \"weekend\", \"day\", \"index_right\", \"note\", \"qkm\", \"einwohner\"])\n",
    "trips_with_postalcode.head()"
   ]
  },
  {
   "cell_type": "code",
   "execution_count": null,
   "metadata": {},
   "outputs": [],
   "source": [
    "# get the trip data for different times of a day\n",
    "fife_nine = trips_with_postalcode.loc[(trips_with_postalcode.hour < 10) & (trips_with_postalcode.hour > 5)]\n",
    "ten_three = trips_with_postalcode.loc[(trips_with_postalcode.hour < 16) & (trips_with_postalcode.hour > 9)]\n",
    "four_eight = trips_with_postalcode.loc[(trips_with_postalcode.hour < 21) & (trips_with_postalcode.hour > 15)]\n",
    "nine_four = trips_with_postalcode.loc[(trips_with_postalcode.hour < 6) | (trips_with_postalcode.hour > 20)]"
   ]
  },
  {
   "cell_type": "code",
   "execution_count": null,
   "metadata": {},
   "outputs": [],
   "source": [
    "# aggregate the amount of rentals per station for each time period\n",
    "fife_nine = fife_nine.groupby(['latitude_start','longitude_start']).count()\n",
    "ten_three = ten_three.groupby(['latitude_start','longitude_start']).count()\n",
    "four_eight = four_eight.groupby(['latitude_start','longitude_start']).count()\n",
    "nine_four= nine_four.groupby(['latitude_start','longitude_start']).count()"
   ]
  },
  {
   "cell_type": "code",
   "execution_count": null,
   "metadata": {},
   "outputs": [],
   "source": [
    "# further processing, so the data can be visualized in a heatmap with a slider\n",
    "fife_nine.reset_index(inplace=True)\n",
    "ten_three.reset_index(inplace=True)\n",
    "four_eight.reset_index(inplace=True)\n",
    "nine_four.reset_index(inplace=True)\n",
    "\n",
    "time_data = [fife_nine[['latitude_start', 'longitude_start', 'hour']].values.tolist(),\n",
    "      ten_three[['latitude_start', 'longitude_start', 'hour']].values.tolist(),\n",
    "      four_eight[['latitude_start', 'longitude_start', 'hour']].values.tolist(),\n",
    "      nine_four[['latitude_start', 'longitude_start', 'hour']].values.tolist()]"
   ]
  },
  {
   "cell_type": "code",
   "execution_count": null,
   "metadata": {},
   "outputs": [],
   "source": [
    "# visualize\n",
    "heatmap_daily = folium.Map(location = [51.5135872,7.4652981], zoom_start=11.2)\n",
    "\n",
    "plugins.HeatMapWithTime(time_data,\n",
    "                        index=['5:00 - 9:00','10:00 - 15:00','16:00 - 20:00','21:00 - 4:00'],\n",
    "                        auto_play=True,\n",
    "                        radius=30,\n",
    "                        overlay=False,\n",
    "                        use_local_extrema=True).add_to(heatmap_daily)\n",
    "\n",
    "folium.Choropleth(\n",
    "    geo_data=districts_dortmund,\n",
    "    fill_opacity=0.1,\n",
    "    line_opacity=1,).add_to(heatmap_daily)\n",
    "\n",
    "display(heatmap_daily)"
   ]
  },
  {
   "cell_type": "markdown",
   "metadata": {},
   "source": [
    "This heatmap shows the distribution of the demand (per station) at different times of day\n",
    "Use the slider to select a time period"
   ]
  },
  {
   "cell_type": "markdown",
   "metadata": {},
   "source": [
    "### Visualize monthly heatmap\n",
    "\n",
    "This is not done per station (like previously).\n",
    "This is done per postalcode. However, we had to map the districts to their center, because otherwise it could not be visualized. So the heats run from the center of a district to another"
   ]
  },
  {
   "cell_type": "code",
   "execution_count": null,
   "metadata": {},
   "outputs": [],
   "source": [
    "# get the data per month\n",
    "trips_jan = trips_with_postalcode.loc[(trips_with_postalcode.month == 1)]\n",
    "trips_feb = trips_with_postalcode.loc[(trips_with_postalcode.month == 2)]\n",
    "trips_mar = trips_with_postalcode.loc[(trips_with_postalcode.month == 3)]\n",
    "trips_apr = trips_with_postalcode.loc[(trips_with_postalcode.month == 4)]\n",
    "trips_may = trips_with_postalcode.loc[(trips_with_postalcode.month == 5)]\n",
    "trips_jun = trips_with_postalcode.loc[(trips_with_postalcode.month == 6)]\n",
    "\n",
    "# july does not exist\n",
    "\n",
    "trips_aug = trips_with_postalcode.loc[(trips_with_postalcode.month == 8)]\n",
    "trips_sep = trips_with_postalcode.loc[(trips_with_postalcode.month == 9)]\n",
    "trips_oct = trips_with_postalcode.loc[(trips_with_postalcode.month == 10)]\n",
    "trips_nov = trips_with_postalcode.loc[(trips_with_postalcode.month == 11)]\n",
    "trips_dec = trips_with_postalcode.loc[(trips_with_postalcode.month == 12)]"
   ]
  },
  {
   "cell_type": "code",
   "execution_count": null,
   "metadata": {},
   "outputs": [],
   "source": [
    "# aggregate the amount of rentals per (mapped) district\n",
    "trips_jan = trips_jan.groupby(\"plz\").agg({'count':'sum', 'longitude':'mean', 'latitude':'mean'})\n",
    "trips_feb = trips_feb.groupby(\"plz\").agg({'count':'sum', 'longitude':'mean', 'latitude':'mean'})\n",
    "trips_mar = trips_mar.groupby(\"plz\").agg({'count':'sum', 'longitude':'mean', 'latitude':'mean'})\n",
    "trips_apr = trips_apr.groupby(\"plz\").agg({'count':'sum', 'longitude':'mean', 'latitude':'mean'})\n",
    "trips_may = trips_may.groupby(\"plz\").agg({'count':'sum', 'longitude':'mean', 'latitude':'mean'})\n",
    "trips_jun = trips_may.groupby(\"plz\").agg({'count':'sum', 'longitude':'mean', 'latitude':'mean'})\n",
    "\n",
    "trips_aug = trips_jun.groupby(\"plz\").agg({'count':'sum', 'longitude':'mean', 'latitude':'mean'})\n",
    "trips_sep = trips_sep.groupby(\"plz\").agg({'count':'sum', 'longitude':'mean', 'latitude':'mean'})\n",
    "trips_oct = trips_oct.groupby(\"plz\").agg({'count':'sum', 'longitude':'mean', 'latitude':'mean'})\n",
    "trips_nov = trips_nov.groupby(\"plz\").agg({'count':'sum', 'longitude':'mean', 'latitude':'mean'})\n",
    "trips_dec = trips_dec.groupby(\"plz\").agg({'count':'sum', 'longitude':'mean', 'latitude':'mean'})"
   ]
  },
  {
   "cell_type": "code",
   "execution_count": null,
   "metadata": {},
   "outputs": [],
   "source": [
    "# further processing for visualization\n",
    "data=[trips_jan[['latitude', 'longitude','count']].values.tolist(),\n",
    "      trips_feb[['latitude', 'longitude','count']].values.tolist(),\n",
    "      trips_mar[['latitude', 'longitude','count']].values.tolist(),\n",
    "      trips_apr[['latitude', 'longitude','count']].values.tolist(),\n",
    "      trips_may[['latitude', 'longitude','count']].values.tolist(),\n",
    "      trips_jun[['latitude', 'longitude','count']].values.tolist(),\n",
    "      trips_aug[['latitude', 'longitude','count']].values.tolist(),\n",
    "      trips_sep[['latitude', 'longitude','count']].values.tolist(),\n",
    "      trips_oct[['latitude', 'longitude','count']].values.tolist(),\n",
    "      trips_nov[['latitude', 'longitude','count']].values.tolist(),\n",
    "      trips_dec[['latitude', 'longitude','count']].values.tolist()]\n",
    "\n",
    "    "
   ]
  },
  {
   "cell_type": "code",
   "execution_count": null,
   "metadata": {},
   "outputs": [],
   "source": [
    "heatmap_monthy_per_district = folium.Map(location = [51.5135872,7.4652981], zoom_start=11.2)\n",
    "\n",
    "plugins.HeatMapWithTime(data,\n",
    "                        index=['Jan','Feb','Mar', 'Apr', 'May', 'Jun', 'Aug', 'Sep', 'Oct', 'Nov', 'Dec'],\n",
    "                        auto_play=True,\n",
    "                        radius=30,\n",
    "                        overlay=False,\n",
    "                        use_local_extrema=True).add_to(heatmap_monthy_per_district)\n",
    "\n",
    "folium.Choropleth(\n",
    "    geo_data=districts_dortmund,\n",
    "    fill_opacity=0.1,\n",
    "    line_opacity=1,).add_to(heatmap_monthy_per_district)\n",
    "\n",
    "display(heatmap_monthy_per_district)"
   ]
  },
  {
   "cell_type": "markdown",
   "metadata": {},
   "source": [
    "### b) For one moment in time, visualize the number of bikes at fixed stations meaningfully."
   ]
  },
  {
   "cell_type": "code",
   "execution_count": null,
   "metadata": {},
   "outputs": [],
   "source": [
    "# get the initial dataset and delete the \"non-stations\"\n",
    "df = pd.read_csv(\"../../data/internal/dortmund.csv\", index_col = 0)\n",
    "df = df[df['p_number'] != 0]\n",
    "df.loc[:,'datetime'] = pd.to_datetime(df.loc[:, 'datetime'])"
   ]
  },
  {
   "cell_type": "code",
   "execution_count": null,
   "metadata": {},
   "outputs": [],
   "source": [
    "df.head()"
   ]
  },
  {
   "cell_type": "markdown",
   "metadata": {},
   "source": [
    "#### Create dataframe with bike numbers of every station\n",
    "\n",
    "##### Create a column for every station in the dataset"
   ]
  },
  {
   "cell_type": "code",
   "execution_count": null,
   "metadata": {},
   "outputs": [],
   "source": [
    "stationlist = df['p_name'].unique()"
   ]
  },
  {
   "cell_type": "code",
   "execution_count": null,
   "metadata": {},
   "outputs": [],
   "source": [
    "# Create dataframe with hourly timestamps\n",
    "station_bikenumbers = pd.DataFrame(np.arange('2019-01-20', '2019-12-31', dtype='datetime64[h]'), columns = ['time'])"
   ]
  },
  {
   "cell_type": "code",
   "execution_count": null,
   "metadata": {},
   "outputs": [],
   "source": [
    "station_bikenumbers['time'] = station_bikenumbers['time'].dt.strftime('%Y-%m-%d-%H')\n",
    "station_bikenumbers"
   ]
  },
  {
   "cell_type": "code",
   "execution_count": null,
   "metadata": {},
   "outputs": [],
   "source": [
    "for station in stationlist: \n",
    "    station_bikenumbers[station] = np.NaN"
   ]
  },
  {
   "cell_type": "code",
   "execution_count": null,
   "metadata": {},
   "outputs": [],
   "source": [
    "station_bikenumbers = station_bikenumbers.set_index('time')"
   ]
  },
  {
   "cell_type": "code",
   "execution_count": null,
   "metadata": {},
   "outputs": [],
   "source": [
    "station_bikenumbers"
   ]
  },
  {
   "cell_type": "markdown",
   "metadata": {},
   "source": [
    "#### Fill the dataframe by going through the eventlog"
   ]
  },
  {
   "cell_type": "code",
   "execution_count": null,
   "metadata": {},
   "outputs": [],
   "source": [
    "# get the amount of available bikes at each station for different time stamps\n",
    "for index, row in df.iterrows():\n",
    "    timestamp = pd.to_datetime(row.get(key = 'datetime')).ceil('H').strftime('%Y-%m-%d-%H')\n",
    "    station_bikenumbers.at[timestamp, row.get(key = 'p_name')] = pd.to_numeric(row.get(key = 'p_bikes'))"
   ]
  },
  {
   "cell_type": "code",
   "execution_count": null,
   "metadata": {},
   "outputs": [],
   "source": [
    "station_bikenumbers"
   ]
  },
  {
   "cell_type": "markdown",
   "metadata": {},
   "source": [
    "####  Fill NaN values with last available value"
   ]
  },
  {
   "cell_type": "code",
   "execution_count": null,
   "metadata": {},
   "outputs": [],
   "source": [
    "station_bikenumbers.fillna(method='ffill', inplace=True)\n",
    "station_bikenumbers.fillna(value='0.0', inplace=True)\n",
    "station_bikenumbers"
   ]
  },
  {
   "cell_type": "markdown",
   "metadata": {},
   "source": [
    "This matrix shows the amount of available bikes at each station at different times"
   ]
  },
  {
   "cell_type": "markdown",
   "metadata": {},
   "source": [
    "#### Generate a station list with geo coordinates"
   ]
  },
  {
   "cell_type": "code",
   "execution_count": null,
   "metadata": {},
   "outputs": [],
   "source": [
    "stations = trips_per_station.drop(columns = [\"count\"], axis = 1)\n",
    "stations.rename(columns={'p_name_start':'p_name', 'latitude_start':'latitude', 'longitude_start': 'longitude'}, inplace=True)\n",
    "#stations.set_index('p_name')\n",
    "stations"
   ]
  },
  {
   "cell_type": "markdown",
   "metadata": {},
   "source": [
    "#### Visualization of one moment"
   ]
  },
  {
   "cell_type": "code",
   "execution_count": null,
   "metadata": {},
   "outputs": [],
   "source": [
    "data = pd.DataFrame(station_bikenumbers.loc['2019-12-31-11'])\n"
   ]
  },
  {
   "cell_type": "code",
   "execution_count": null,
   "metadata": {},
   "outputs": [],
   "source": [
    "data.reset_index(inplace=True)"
   ]
  },
  {
   "cell_type": "code",
   "execution_count": null,
   "metadata": {},
   "outputs": [],
   "source": [
    "data = data.rename(columns={'index': 'p_name', '2019-12-31-11':'NumberOfBikes'})\n",
    "data"
   ]
  },
  {
   "cell_type": "code",
   "execution_count": null,
   "metadata": {},
   "outputs": [],
   "source": [
    "bikenumber_one_moment = pd.merge(data, stations, on = \"p_name\")"
   ]
  },
  {
   "cell_type": "code",
   "execution_count": null,
   "metadata": {},
   "outputs": [],
   "source": [
    "bikenumber_one_moment"
   ]
  },
  {
   "cell_type": "code",
   "execution_count": null,
   "metadata": {},
   "outputs": [],
   "source": [
    "bikenumer_per_stations_map = folium.Map(location = [51.5, 7.5], zoom_start=11)\n",
    "\n",
    "# draw the borders of Dortmund and its districts\n",
    "folium.Choropleth(\n",
    "    geo_data=districts_dortmund, \n",
    "    fill_color = 'grey',\n",
    "    fill_opacity=0.4,\n",
    "    ).add_to(bikenumer_per_stations_map)\n",
    "\n",
    "for index, row in bikenumber_one_moment.iterrows():\n",
    "    bikenumber = int(row['NumberOfBikes'])\n",
    "    station_name = row['p_name']    \n",
    "    station_info = \"Name: {}\\n\\nNumber of bikes: {}\\n\".format(station_name,bikenumber)   \n",
    "    \n",
    "    folium.Circle(\n",
    "      location=[row['latitude'],row['longitude']],\n",
    "      popup=station_info,\n",
    "      radius=row['NumberOfBikes']*20,\n",
    "      color='red',\n",
    "      fill=True,\n",
    "      fill_color='#red'\n",
    "    ).add_to(bikenumer_per_stations_map)\n",
    "\n",
    "display(bikenumer_per_stations_map)"
   ]
  },
  {
   "cell_type": "code",
   "execution_count": null,
   "metadata": {},
   "outputs": [],
   "source": [
    "bikenumer_per_stations_map = folium.Map(location = [51.5, 7.5], zoom_start=11)\n",
    "\n",
    "# draw the borders of Dortmund and its districts\n",
    "folium.Choropleth(\n",
    "    geo_data=districts_dortmund, \n",
    "    fill_color = 'grey',\n",
    "    fill_opacity=0.4,\n",
    "    ).add_to(bikenumer_per_stations_map)\n",
    "\n",
    "for index, row in bikenumber_one_moment.iterrows():\n",
    "    bikenumber = int(row['NumberOfBikes'])\n",
    "    station_name = row['p_name']    \n",
    "    station_info = \"Name: {}\\n\\nNumber of bikes: {}\\n\".format(station_name,bikenumber)   \n",
    "    folium.Marker(location=[row['latitude'],row['longitude']], popup=station_info).add_to(bikenumer_per_stations_map)    \n",
    "\n",
    "display(bikenumer_per_stations_map)"
   ]
  },
  {
   "cell_type": "markdown",
   "metadata": {},
   "source": [
    "These maps show the number of available bikes per station at 2019-12-31, 11'o clock"
   ]
  },
  {
   "cell_type": "markdown",
   "metadata": {},
   "source": [
    "### c) Create a heatmap based on an interesting aspect of the data, e.g., end locations of trips shortly before the start of a major public event."
   ]
  },
  {
   "cell_type": "code",
   "execution_count": null,
   "metadata": {},
   "outputs": [],
   "source": [
    "df_station = trips[[\"p_name_start\",\"latitude_start\", \"longitude_start\", \"p_name_end\", \"latitude_end\",\"longitude_end\", \"coordinates_start\", \"coordinates_end\"]]"
   ]
  },
  {
   "cell_type": "code",
   "execution_count": null,
   "metadata": {},
   "outputs": [],
   "source": [
    "df_station.head()"
   ]
  },
  {
   "cell_type": "code",
   "execution_count": null,
   "metadata": {},
   "outputs": [],
   "source": [
    "def create_map(shape= \"../../data/external/dortmund_plz.geojson\", center= [51.511838, 7.456943], tiles = 'Stamen Toner', zoom_start= 12, min_zoom=11, height=\"80%\", width=\"80%\"): \n",
    "    city_boundaries = folium.Map(\n",
    "        location= center,\n",
    "        tiles=tiles,\n",
    "        zoom_start=zoom_start,\n",
    "        min_zoom=min_zoom,\n",
    "        height=height,\n",
    "        width=width\n",
    "    )\n",
    "    folium.GeoJson(shape, name='geojson').add_to(city_boundaries)\n",
    "    \n",
    "    return city_boundaries"
   ]
  },
  {
   "cell_type": "code",
   "execution_count": null,
   "metadata": {},
   "outputs": [],
   "source": [
    "create_map(width=\"100%\")"
   ]
  },
  {
   "cell_type": "markdown",
   "metadata": {},
   "source": [
    "#### Visualize station"
   ]
  },
  {
   "cell_type": "code",
   "execution_count": null,
   "metadata": {},
   "outputs": [],
   "source": [
    "df_station"
   ]
  },
  {
   "cell_type": "code",
   "execution_count": null,
   "metadata": {},
   "outputs": [],
   "source": [
    "'''\n",
    "\n",
    "\n",
    "'''\n",
    "def station_capacity():\n",
    "    \n",
    "    tmp_map = create_map(width=\"100%\")\n",
    "    tmp_map.add_child(plugins.HeatMap(df_station[[\"latitude_start\",\"longitude_start\"]], radius=20))\n",
    "    tmp_map.add_child(plugins.HeatMap(df_station[[\"latitude_end\",\"longitude_end\"]], radius=20))\n",
    "    \n",
    "    return tmp_map"
   ]
  },
  {
   "cell_type": "code",
   "execution_count": null,
   "metadata": {},
   "outputs": [],
   "source": [
    "station_capacity()"
   ]
  },
  {
   "cell_type": "code",
   "execution_count": null,
   "metadata": {},
   "outputs": [],
   "source": [
    "'''\n",
    "\n",
    "\n",
    "'''\n",
    "from sklearn.utils import shuffle\n",
    "\n",
    "def most_used_station(amount = 1000):\n",
    "    tmp_map = create_map()\n",
    "    mc = MarkerCluster()\n",
    "    df = shuffle(df_station)\n",
    "    \n",
    "    i = 0 \n",
    "    for index, row in df.iterrows():\n",
    "        if i <= amount:\n",
    "            mc.add_child(folium.Marker(location = [row[\"latitude_start\"],row[\"longitude_start\"]]))\n",
    "            mc.add_child(folium.Marker(location = [row[\"latitude_end\"],row[\"longitude_end\"]]))\n",
    "            tmp_map.add_child(mc)\n",
    "            i = i + 1\n",
    "        else:\n",
    "            break\n",
    "    return tmp_map"
   ]
  },
  {
   "cell_type": "code",
   "execution_count": null,
   "metadata": {},
   "outputs": [],
   "source": [
    "most_used_station(2000)"
   ]
  },
  {
   "cell_type": "code",
   "execution_count": null,
   "metadata": {},
   "outputs": [],
   "source": [
    "def show_trips(amount = 500):\n",
    "    tmp_map = create_map()\n",
    "    \n",
    "    df = shuffle(df_station)\n",
    "\n",
    "    i = 0 \n",
    "    for index, row in df.iterrows():\n",
    "        if i <= amount:\n",
    "            folium.ColorLine([[row[\"latitude_start\"],row[\"longitude_start\"]],[row[\"latitude_end\"],row[\"longitude_end\"]]],\n",
    "            colors=[0,1,2],\n",
    "            colormap=[\"blue\",\"green\"],\n",
    "            weight=1, \n",
    "            opacity=0.3).add_to(tmp_map)\n",
    "            i = i + 1\n",
    "        else:\n",
    "            break\n",
    "    return tmp_map"
   ]
  },
  {
   "cell_type": "code",
   "execution_count": null,
   "metadata": {},
   "outputs": [],
   "source": [
    "show_trips(2000)"
   ]
  },
  {
   "cell_type": "code",
   "execution_count": null,
   "metadata": {},
   "outputs": [],
   "source": [
    "'''\n",
    "\n",
    "\n",
    "'''\n",
    "\n",
    "def test(date = \"2019-01-20\", street = \"Signal Iduna Park\", coord = []):\n",
    "    tmp_map = create_map()\n",
    "    \n",
    "    if not coord:\n",
    "        try:\n",
    "            from geopy.geocoders import Nominatim\n",
    "        except ImportError as e:\n",
    "            print(e)\n",
    "\n",
    "    geolocator = Nominatim(user_agent=\"http\")\n",
    "    loc = geolocator.geocode(street) \n",
    "    \n",
    "    folium.Marker(location = [loc.latitude,loc.longitude],\n",
    "                  popup=loc,\n",
    "                  icon=folium.Icon(color='blue'),\n",
    "                 ).add_to(tmp_map)\n",
    "    \n",
    "    df_tmp = trips[(trips['datetime_start'] >= date +\" 00:00:00\") & (trips['datetime_start'] <= date+\" 23:59:59\")]\n",
    "\n",
    "    tmp_map.add_child(plugins.HeatMap(df_tmp[[\"latitude_start\",\"longitude_start\"]], radius=20))\n",
    "    tmp_map.add_child(plugins.HeatMap(df_tmp[[\"latitude_end\",\"longitude_end\"]], radius=20))\n",
    "    \n",
    "    for index, row in df_tmp.iterrows():\n",
    "            folium.ColorLine([[row[\"latitude_start\"],row[\"longitude_start\"]],[row[\"latitude_end\"],row[\"longitude_end\"]]],\n",
    "            colors=[0,1,2],\n",
    "            colormap=[\"red\",\"blue\"],\n",
    "            weight=1, \n",
    "            opacity=0.5).add_to(tmp_map)\n",
    "    \n",
    "    return tmp_map"
   ]
  },
  {
   "cell_type": "code",
   "execution_count": null,
   "metadata": {},
   "outputs": [],
   "source": [
    "test()"
   ]
  },
  {
   "cell_type": "markdown",
   "metadata": {},
   "source": [
    "### d) Visualize the distribution of trip lengths per month. Compare the distributions to normal distributions with mean and standard deviation as calculated before (1.d))"
   ]
  },
  {
   "cell_type": "markdown",
   "metadata": {},
   "source": [
    "### Outlier identification"
   ]
  },
  {
   "cell_type": "code",
   "execution_count": null,
   "metadata": {},
   "outputs": [],
   "source": [
    "#identifiy outlier record based on rentalDuration\n",
    "fig_dims = (12, 8)\n",
    "fig, ax = plt.subplots(figsize=fig_dims)\n",
    "\n",
    "ax = sns.boxplot (x=trips[\"trip_duration\"])\n",
    "ax.set_xticks(np.arange(0, 55),1)\n",
    "ax.set_xlim([0, 55])\n",
    "fig.savefig(\"../../doc/figures/Outlier_identification.png\")"
   ]
  },
  {
   "cell_type": "code",
   "execution_count": null,
   "metadata": {},
   "outputs": [],
   "source": [
    "trips_new = trips[trips[\"trip_duration\"] < 49]\n",
    "trips.trip_duration.describe()"
   ]
  },
  {
   "cell_type": "code",
   "execution_count": null,
   "metadata": {},
   "outputs": [],
   "source": [
    "trips_new.trip_duration.describe()"
   ]
  },
  {
   "cell_type": "markdown",
   "metadata": {},
   "source": [
    "Round about 27000 trips are dropped. The mean dropps down significally, so the outlier which containing day rentals are effecting the data significantly"
   ]
  },
  {
   "cell_type": "markdown",
   "metadata": {},
   "source": [
    "### Visualization of the trips\n",
    "\n",
    "### Trip duration"
   ]
  },
  {
   "cell_type": "markdown",
   "metadata": {},
   "source": [
    "##### Trip duration per hour"
   ]
  },
  {
   "cell_type": "code",
   "execution_count": null,
   "metadata": {},
   "outputs": [],
   "source": [
    "weekday_names = [\"Monday\", \"Tuesday\", \"Wednesday\", \"Thursday\", \"Friday\", \"Saturday\", \"Sunday\"]\n",
    "\n",
    "# without July (no data for July)\n",
    "month_names = [\"January\",\"February\",\"March\",\"April\",\"May\",\"June\",\"August\",\"September\",\"October\",\"November\",\"December\"]"
   ]
  },
  {
   "cell_type": "code",
   "execution_count": null,
   "metadata": {
    "scrolled": true
   },
   "outputs": [],
   "source": [
    "fig_dims = (12, 8)\n",
    "fig, ax = plt.subplots(figsize=fig_dims)\n",
    "\n",
    "sns.barplot(x=\"hour\", y=\"trip_duration\", data=trips, estimator=np.mean,ax=ax)\n",
    "plt.title(\"Mean trip duration per hour with outliers\")\n",
    "plt.show()\n",
    "fig.savefig(\"../../doc/figures/hourly_trips.png\")"
   ]
  },
  {
   "cell_type": "code",
   "execution_count": null,
   "metadata": {
    "scrolled": true
   },
   "outputs": [],
   "source": [
    "fig_dims = (12, 8)\n",
    "fig, ax = plt.subplots(figsize=fig_dims)\n",
    "\n",
    "sns.barplot(x=\"hour\", y=\"trip_duration\", data=trips_new, estimator=np.mean,ax=ax)\n",
    "plt.title(\"Mean trip duration per hour\")\n",
    "plt.show()\n",
    "fig.savefig(\"../../doc/figures/hourly_trips_outlier.png\")"
   ]
  },
  {
   "cell_type": "code",
   "execution_count": null,
   "metadata": {
    "scrolled": true
   },
   "outputs": [],
   "source": [
    "fig_dims = (12, 8)\n",
    "fig, ax = plt.subplots(figsize=fig_dims)\n",
    "\n",
    "sns.barplot(x=\"hour\", y=\"trip_duration\", data=trips_new, estimator=np.median,ax=ax)\n",
    "plt.title(\"Median of trip duration per hour\")\n",
    "plt.show()\n",
    "fig.savefig(\"../../doc/figures/hourly_trips_median.png\")"
   ]
  },
  {
   "cell_type": "markdown",
   "metadata": {},
   "source": [
    "The difference of the dataset with and wothout outliers can be seen here. Nevertheless the dataset including the outliers is considered and further visualized due to the fact that rentals for a whole day should be taken into account aswell."
   ]
  },
  {
   "cell_type": "markdown",
   "metadata": {},
   "source": [
    "##### Trip duration per month"
   ]
  },
  {
   "cell_type": "code",
   "execution_count": null,
   "metadata": {
    "scrolled": true
   },
   "outputs": [],
   "source": [
    "fig_dims = (12, 8)\n",
    "fig, ax = plt.subplots(figsize=fig_dims)\n",
    "\n",
    "sns.barplot(x=\"month\", y=\"trip_duration\", data=trips, estimator=np.mean,ax=ax)\n",
    "plt.xticks([0,1,2,3,4,5,6,7,8,9,10,11], month_names)\n",
    "plt.title(\"Trip duration per month without outliers\")\n",
    "plt.show()\n",
    "fig.savefig(\"../../doc/figures/monthy_trips.png\")"
   ]
  },
  {
   "cell_type": "markdown",
   "metadata": {},
   "source": [
    "##### Trip duration per weekday"
   ]
  },
  {
   "cell_type": "code",
   "execution_count": null,
   "metadata": {},
   "outputs": [],
   "source": [
    "fig_dims = (12, 8)\n",
    "fig, ax = plt.subplots(figsize=fig_dims)\n",
    "\n",
    "sns.barplot(x=\"weekday\", y=\"trip_duration\", data=trips, estimator=np.mean,ax=ax)\n",
    "plt.xticks([0,1,2,3,4,5,6], weekday_names)\n",
    "plt.title(\"Trip duration per weekday\")\n",
    "plt.show()\n",
    "fig.savefig(\"../../doc/figures/Trip duration per weekdays.png\")"
   ]
  },
  {
   "cell_type": "markdown",
   "metadata": {},
   "source": [
    "##### Trip duration on weekdays and weekends"
   ]
  },
  {
   "cell_type": "code",
   "execution_count": null,
   "metadata": {
    "scrolled": true
   },
   "outputs": [],
   "source": [
    "fig_dims = (8, 6)\n",
    "fig, ax = plt.subplots(figsize=fig_dims)\n",
    "\n",
    "sns.barplot(x=\"weekend\", y=\"trip_duration\", data=trips, estimator=np.mean)\n",
    "plt.title(\"Trip duration on weekdays and weekends\")\n",
    "plt.show()\n",
    "fig.savefig(\"../../doc/figures/Trip duration on weekdays and weekends.png\")"
   ]
  },
  {
   "cell_type": "markdown",
   "metadata": {},
   "source": [
    "#### Amount of trips on per hour compared by the weekday or weekend"
   ]
  },
  {
   "cell_type": "markdown",
   "metadata": {},
   "source": [
    "### Trip Distance\n",
    "#### Trip distance per month"
   ]
  },
  {
   "cell_type": "code",
   "execution_count": null,
   "metadata": {},
   "outputs": [],
   "source": [
    "fig_dims = (12, 8)\n",
    "fig, ax = plt.subplots(figsize=fig_dims)\n",
    "\n",
    "sns.barplot(x=\"month\", y=\"distance\", data=trips, estimator=np.mean, ax=ax)\n",
    "plt.xticks([0,1,2,3,4,5,6,7,8,9,10,11], month_names)\n",
    "plt.title(\"Trip distance per month\")\n",
    "plt.show()\n",
    "fig.savefig(\"../../doc/figures/Trip distance per month.png\")"
   ]
  },
  {
   "cell_type": "markdown",
   "metadata": {},
   "source": [
    "##### Trip distance per weekday"
   ]
  },
  {
   "cell_type": "code",
   "execution_count": null,
   "metadata": {},
   "outputs": [],
   "source": [
    "fig_dims = (10, 6)\n",
    "fig, ax = plt.subplots(figsize=fig_dims)\n",
    "\n",
    "sns.barplot(x=\"weekday\", y=\"distance\", data=trips, estimator=np.mean,ax=ax)\n",
    "plt.title(\"Trip distance per day\")\n",
    "plt.xticks([0,1,2,3,4,5,6], weekday_names)\n",
    "plt.show()\n",
    "fig.savefig(\"../../doc/figures/Trip distance per weekday.png\")"
   ]
  },
  {
   "cell_type": "markdown",
   "metadata": {},
   "source": [
    "##### Trip distance per hour"
   ]
  },
  {
   "cell_type": "code",
   "execution_count": null,
   "metadata": {},
   "outputs": [],
   "source": [
    "fig_dims = (10, 6)\n",
    "fig, ax = plt.subplots(figsize=fig_dims)\n",
    "\n",
    "sns.barplot(x=\"hour\", y=\"distance\", data=trips, estimator=np.mean,ax=ax)\n",
    "plt.title(\"Trip distance per hour\")\n",
    "plt.show()\n",
    "fig.savefig(\"../../doc/figures/Trip distance per hour.png\")"
   ]
  },
  {
   "cell_type": "markdown",
   "metadata": {},
   "source": [
    "##### Trip distance on weekdays and weekends"
   ]
  },
  {
   "cell_type": "code",
   "execution_count": null,
   "metadata": {},
   "outputs": [],
   "source": [
    "fig_dims = (10, 6)\n",
    "fig, ax = plt.subplots(figsize=fig_dims)\n",
    "\n",
    "sns.barplot(x=\"weekend\", y=\"distance\", data=trips, estimator=np.mean,ax=ax)\n",
    "plt.title(\"Trip distance on weekdays and weekends\")\n",
    "plt.show()\n",
    "fig.savefig(\"../../doc/figures/Trip distance weekend_weekday.png\")"
   ]
  },
  {
   "cell_type": "markdown",
   "metadata": {},
   "source": [
    "### Amount of trips\n",
    "#### Amount of trips per month"
   ]
  },
  {
   "cell_type": "code",
   "execution_count": null,
   "metadata": {},
   "outputs": [],
   "source": [
    "fig_dims = (12, 8)\n",
    "fig, ax = plt.subplots(figsize=fig_dims)\n",
    "\n",
    "sns.countplot(x=\"month\", data=trips, ax=ax)\n",
    "plt.xticks([0,1,2,3,4,5,6,7,8,9,10,11], month_names)\n",
    "plt.title(\"Amount of trips per month\")\n",
    "plt.show()\n",
    "fig.savefig(\"../../doc/figures/Amount of trips per month.png\")"
   ]
  },
  {
   "cell_type": "markdown",
   "metadata": {},
   "source": [
    "Data recording began on 20th of January. That's the reason for the low amount of trips in January."
   ]
  },
  {
   "cell_type": "markdown",
   "metadata": {},
   "source": [
    "##### Amount of trips per weekday"
   ]
  },
  {
   "cell_type": "code",
   "execution_count": null,
   "metadata": {
    "scrolled": true
   },
   "outputs": [],
   "source": [
    "fig_dims = (12, 6)\n",
    "fig, ax = plt.subplots(figsize=fig_dims)\n",
    "\n",
    "sns.countplot(x=\"weekday\", data=trips)\n",
    "plt.title(\"Amount of trips per weekday\")\n",
    "plt.xticks([0,1,2,3,4,5,6], weekday_names)\n",
    "plt.show()\n",
    "fig.savefig(\"../../doc/figures/Amount of trips per weekday.png\")"
   ]
  },
  {
   "cell_type": "markdown",
   "metadata": {},
   "source": [
    "##### Amount of trips per hour"
   ]
  },
  {
   "cell_type": "code",
   "execution_count": null,
   "metadata": {
    "scrolled": true
   },
   "outputs": [],
   "source": [
    "fig_dims = (12, 6)\n",
    "fig, ax = plt.subplots(figsize=fig_dims)\n",
    "\n",
    "sns.countplot(x=\"hour\", data=trips)\n",
    "plt.title(\"Amount of trips per hour\")\n",
    "plt.show()\n",
    "fig.savefig(\"../../doc/figures/Amount of trips per hour.png\")"
   ]
  },
  {
   "cell_type": "markdown",
   "metadata": {},
   "source": [
    "#### Amount of trips on weekdays and weekends"
   ]
  },
  {
   "cell_type": "code",
   "execution_count": null,
   "metadata": {},
   "outputs": [],
   "source": [
    "fig_dims = (8, 6)\n",
    "fig, ax = plt.subplots(figsize=fig_dims)\n",
    "\n",
    "sns.countplot(x=\"weekend\", data=trips)\n",
    "plt.title(\"Amount of trips on weekdays and weekends\")\n",
    "plt.show()\n",
    "fig.savefig(\"../../doc/figures/Amount of trips weekday_weekend.png\")"
   ]
  },
  {
   "cell_type": "markdown",
   "metadata": {},
   "source": [
    "#### Amount of trips on per hour compared by the weekday or weekend"
   ]
  },
  {
   "cell_type": "code",
   "execution_count": null,
   "metadata": {
    "scrolled": true
   },
   "outputs": [],
   "source": [
    "data_weekend = trips[trips[\"weekend\"]==1].groupby(['hour']).agg(['mean'])\n",
    "data_weekday = trips[trips[\"weekend\"]==0].groupby(['hour']).agg(['mean'])\n",
    "data_weekend = data_weekend[\"trip_duration\"]\n",
    "data_weekday = data_weekday[\"trip_duration\"]"
   ]
  },
  {
   "cell_type": "code",
   "execution_count": null,
   "metadata": {},
   "outputs": [],
   "source": [
    "# Visualize relative hourly demand per hour\n",
    "x = np.arange(24)\n",
    "\n",
    "Fig = plt.figure(figsize=(16, 8))\n",
    "ax = Fig.add_axes([0,0,1,1])\n",
    "\n",
    "ax.plot(x, data_weekend, label=\"Weekend\", color = 'LightCoral')\n",
    "ax.plot(x, data_weekday, label=\"Weekday\", color = 'cornflowerblue')\n",
    "\n",
    "ax.legend(loc=0)\n",
    "ax.set_xlabel('Time in hours')\n",
    "ax.set_ylabel('Demand in percent')\n",
    "ax.set_title('Relative hourly trips per daytype')\n",
    "fig.savefig(\"../../doc/figures/Amount of trips hour weekend_weekday.png\")"
   ]
  },
  {
   "cell_type": "code",
   "execution_count": null,
   "metadata": {},
   "outputs": [],
   "source": []
  },
  {
   "cell_type": "code",
   "execution_count": null,
   "metadata": {},
   "outputs": [],
   "source": []
  },
  {
   "cell_type": "code",
   "execution_count": null,
   "metadata": {},
   "outputs": [],
   "source": []
  }
 ],
 "metadata": {
  "kernelspec": {
   "display_name": "Python 3",
   "language": "python",
   "name": "python3"
  },
  "language_info": {
   "codemirror_mode": {
    "name": "ipython",
    "version": 3
   },
   "file_extension": ".py",
   "mimetype": "text/x-python",
   "name": "python",
   "nbconvert_exporter": "python",
   "pygments_lexer": "ipython3",
   "version": "3.7.6"
  }
 },
 "nbformat": 4,
 "nbformat_minor": 4
}
